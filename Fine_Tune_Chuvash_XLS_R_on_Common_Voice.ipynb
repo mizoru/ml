{
  "cells": [
    {
      "cell_type": "markdown",
      "metadata": {
        "id": "LBSYoWbi-45k"
      },
      "source": [
        "# **Fine-tuning XLS-R for Multi-Lingual ASR with 🤗 Transformers**\n",
        "\n",
        "***New (11/2021)***: *This blog post has been updated to feature XLSR's successor, called [XLS-R](https://huggingface.co/models?other=xls_r)*."
      ]
    },
    {
      "cell_type": "markdown",
      "metadata": {
        "id": "V7YOT2mnUiea"
      },
      "source": [
        "**Wav2Vec2** is a pretrained model for Automatic Speech Recognition (ASR) and was released in [September 2020](https://ai.facebook.com/blog/wav2vec-20-learning-the-structure-of-speech-from-raw-audio/) by *Alexei Baevski, Michael Auli, and Alex Conneau*.  Soon after the superior performance of Wav2Vec2 was demonstrated on one of the most popular English datasets for ASR, called [LibriSpeech](https://huggingface.co/datasets/librispeech_asr), *Facebook AI* presented a multi-lingual version of Wav2Vec2, called [XLSR](https://arxiv.org/abs/2006.13979). XLSR stands for *cross-lingual speech representations* and refers to model's ability to learn speech representations that are useful across multiple languages.\n",
        "\n",
        "XLSR's successor, simply called **XLS-R** (refering to the [*''XLM-R*](https://ai.facebook.com/blog/-xlm-r-state-of-the-art-cross-lingual-understanding-through-self-supervision/) *for Speech''*), was released in [November 2021](https://ai.facebook.com/blog/xls-r-self-supervised-speech-processing-for-128-languages) by *Arun Babu, Changhan Wang, Andros Tjandra, et al.* XLS-R used almost **half a million** hours of audio data in 128 languages for self-supervised pre-training and comes in sizes ranging from 300 milion up to **two billion** parameters. You can find the pretrained checkpoints on the 🤗 Hub:\n",
        "\n",
        "- [**Wav2Vec2-XLS-R-300M**](https://huggingface.co/facebook/wav2vec2-xls-r-300m)\n",
        "- [**Wav2Vec2-XLS-R-1B**](https://huggingface.co/facebook/wav2vec2-xls-r-1b)\n",
        "- [**Wav2Vec2-XLS-R-2B**](https://huggingface.co/facebook/wav2vec2-xls-r-2b)\n",
        "\n",
        "Similar to [BERT's masked language modeling objective](http://jalammar.github.io/illustrated-bert/), XLS-R learns contextualized speech representations by randomly masking feature vectors before passing them to a transformer network during self-supervised pre-training (*i.e.* diagram on the left below). \n",
        "\n",
        "For fine-tuning, a single linear layer is added on top of the pre-trained network to train the model on labeled data of audio downstream tasks such as speech recognition, speech translation and audio classification (*i.e.* diagram on the right below).\n",
        "\n",
        "![wav2vec2_structure](https://raw.githubusercontent.com/patrickvonplaten/scientific_images/master/xls_r.png)\n",
        "\n",
        "XLS-R shows impressive improvements over previous state-of-the-art results on both speech recognition, speech translation and speaker/language identification, *cf.* with Table 3-6, Table 7-10, and Table 11-12 respectively of the official [paper](https://ai.facebook.com/blog/xls-r-self-supervised-speech-processing-for-128-languages)."
      ]
    },
    {
      "cell_type": "markdown",
      "metadata": {
        "id": "nT_QrfWtsxIz"
      },
      "source": [
        "## Notebook Setup"
      ]
    },
    {
      "cell_type": "markdown",
      "metadata": {
        "id": "kruqixOYHaIo"
      },
      "source": [
        "\n",
        "In this notebook, we will give an in-detail explanation of how XLS-R - more specifically the pre-trained checkpoint [**Wav2Vec2-XLS-R-300M**](https://huggingface.co/facebook/wav2vec2-xls-r-300m) - can be fine-tuned for ASR.  \n",
        "\n",
        "For demonstration purposes, we fine-tune the model on the low resource ASR dataset of [Common Voice](https://huggingface.co/datasets/common_voice) that contains only *ca.* 4h of validated training data."
      ]
    },
    {
      "cell_type": "markdown",
      "metadata": {
        "id": "Gx9OdDYrCtQ1"
      },
      "source": [
        "XLS-R is fine-tuned using Connectionist Temporal Classification (CTC), which is an algorithm that is used to train neural networks for sequence-to-sequence problems, such as ASR and handwriting recognition. \n",
        "\n",
        "I highly recommend reading the well-written blog post [*Sequence Modeling with CTC (2017)*](https://distill.pub/2017/ctc/) by Awni Hannun."
      ]
    },
    {
      "cell_type": "markdown",
      "metadata": {
        "id": "wcHuXIaWyHZU"
      },
      "source": [
        "First, let's try to get a good GPU in our colab! With Google Colab's free version it's sadly becoming much harder to get access to a good GPU. With Google Colab Pro, however, one should easily get either a V100 or P100 GPU."
      ]
    },
    {
      "cell_type": "code",
      "execution_count": null,
      "metadata": {
        "colab": {
          "base_uri": "https://localhost:8080/"
        },
        "id": "YELVqGxMxnbG",
        "outputId": "3eb8539b-f3d2-4c7a-f7af-3c02f4ac56f4"
      },
      "outputs": [
        {
          "output_type": "stream",
          "name": "stdout",
          "text": [
            "Sat May  7 23:31:23 2022       \n",
            "+-----------------------------------------------------------------------------+\n",
            "| NVIDIA-SMI 460.32.03    Driver Version: 460.32.03    CUDA Version: 11.2     |\n",
            "|-------------------------------+----------------------+----------------------+\n",
            "| GPU  Name        Persistence-M| Bus-Id        Disp.A | Volatile Uncorr. ECC |\n",
            "| Fan  Temp  Perf  Pwr:Usage/Cap|         Memory-Usage | GPU-Util  Compute M. |\n",
            "|                               |                      |               MIG M. |\n",
            "|===============================+======================+======================|\n",
            "|   0  Tesla T4            Off  | 00000000:00:04.0 Off |                    0 |\n",
            "| N/A   60C    P8    10W /  70W |      0MiB / 15109MiB |      0%      Default |\n",
            "|                               |                      |                  N/A |\n",
            "+-------------------------------+----------------------+----------------------+\n",
            "                                                                               \n",
            "+-----------------------------------------------------------------------------+\n",
            "| Processes:                                                                  |\n",
            "|  GPU   GI   CI        PID   Type   Process name                  GPU Memory |\n",
            "|        ID   ID                                                   Usage      |\n",
            "|=============================================================================|\n",
            "|  No running processes found                                                 |\n",
            "+-----------------------------------------------------------------------------+\n"
          ]
        }
      ],
      "source": [
        "gpu_info = !nvidia-smi\n",
        "gpu_info = '\\n'.join(gpu_info)\n",
        "if gpu_info.find('failed') >= 0:\n",
        "  print('Not connected to a GPU')\n",
        "else:\n",
        "  print(gpu_info)"
      ]
    },
    {
      "cell_type": "markdown",
      "metadata": {
        "id": "e335hPmdtASZ"
      },
      "source": [
        "Before we start, let's install `datasets` and `transformers`. Also, we need the `torchaudio` to load audio files and `jiwer` to evaluate our fine-tuned model using the [word error rate (WER)](https://huggingface.co/metrics/wer) metric ${}^1$."
      ]
    },
    {
      "cell_type": "code",
      "execution_count": null,
      "metadata": {
        "id": "c8eh87Hoee5d"
      },
      "outputs": [],
      "source": [
        "%%capture\n",
        "!pip install datasets==1.18.3\n",
        "!pip install transformers==4.11.3\n",
        "!pip install huggingface_hub==0.1\n",
        "!pip install torchaudio==0.10.0+cu113 -f https://download.pytorch.org/whl/cu113/torch_stable.html\n",
        "!pip install jiwer"
      ]
    },
    {
      "cell_type": "markdown",
      "metadata": {
        "id": "0xxt_LwxDQlO"
      },
      "source": [
        "We strongly suggest to upload your training checkpoints directly to the [🤗 Hub](https://huggingface.co/) while training. The [🤗 Hub](https://huggingface.co/) has integrated version control so you can be sure that no model checkpoint is getting lost during training. \n",
        "\n",
        "To do so you have to store your authentication token from the Hugging Face website (sign up [here](https://huggingface.co/join) if you haven't already!)"
      ]
    },
    {
      "cell_type": "code",
      "execution_count": null,
      "metadata": {
        "colab": {
          "base_uri": "https://localhost:8080/",
          "height": 285,
          "referenced_widgets": [
            "373208d794d44e68b1e10f9275b95d48",
            "75f3164de9304e078bf78bd956958fe9",
            "2adcac6424054442b4bbd8f76fbb5b99",
            "2a40a12dd5b6408aaea5180a24d45f4b",
            "a0fc90f2c96c401ca952f185a6f191d2",
            "93855b126981421298b03f3d6ad6e885",
            "29e4a05a23d5457b90d04f0c10d4dbb4",
            "11c3b88328d245e199dde0ebe0a40e47",
            "d5b6b43bceae4fb08ab925f7cd4828df",
            "5b437369e0184d168b2ffd0171bf7bf9",
            "515f351315394611bdba6d4f5d492b81",
            "5108591f60714d5c92af59582b3dbee2",
            "daca98da308d4fe1a4dc9d53086888ec",
            "3b9a8f2a0d8f444dba03cb0e26db6836",
            "0519817c1c1c4059b9ec3e2347ab69ca",
            "b655fad71d244b85aad4c5196e05c002"
          ]
        },
        "id": "mlMSH3T3EazV",
        "outputId": "3977eea8-7449-440b-d2f9-b10807c4b9d6"
      },
      "outputs": [
        {
          "output_type": "display_data",
          "data": {
            "text/plain": [
              "VBox(children=(HTML(value=\"<center>\\n<img src=https://huggingface.co/front/assets/huggingface_logo-noborder.sv…"
            ],
            "application/vnd.jupyter.widget-view+json": {
              "version_major": 2,
              "version_minor": 0,
              "model_id": "373208d794d44e68b1e10f9275b95d48"
            }
          },
          "metadata": {}
        }
      ],
      "source": [
        "from huggingface_hub import notebook_login\n",
        "\n",
        "notebook_login()"
      ]
    },
    {
      "cell_type": "markdown",
      "metadata": {
        "id": "ujdZ2TxhElk6"
      },
      "source": [
        "\n",
        "Then you need to install Git-LFS to upload your model checkpoints:"
      ]
    },
    {
      "cell_type": "code",
      "execution_count": null,
      "metadata": {
        "id": "WcR-d83OEkqb"
      },
      "outputs": [],
      "source": [
        "%%capture\n",
        "!apt install git-lfs"
      ]
    },
    {
      "cell_type": "markdown",
      "metadata": {
        "id": "Mn9swf6EQ9Vd"
      },
      "source": [
        "\n",
        "\n",
        "\n",
        "---\n",
        "\n",
        "${}^1$ In the [paper](https://arxiv.org/pdf/2006.13979.pdf), the model was evaluated using the phoneme error rate (PER), but by far the most common metric in ASR is the word error rate (WER). To keep this notebook as general as possible we decided to evaluate the model using WER."
      ]
    },
    {
      "cell_type": "markdown",
      "metadata": {
        "id": "0mW-C1Nt-j7k"
      },
      "source": [
        "## Prepare Data, Tokenizer, Feature Extractor"
      ]
    },
    {
      "cell_type": "markdown",
      "metadata": {
        "id": "BeBosnY9BH3e"
      },
      "source": [
        "ASR models transcribe speech to text, which means that we both need a feature extractor that processes the speech signal to the model's input format, *e.g.* a feature vector, and a tokenizer that processes the model's output format to text. \n",
        "\n",
        "In 🤗 Transformers, the XLS-R model is thus accompanied by both a tokenizer, called [Wav2Vec2CTCTokenizer](https://huggingface.co/transformers/master/model_doc/wav2vec2.html#wav2vec2ctctokenizer), and a feature extractor, called [Wav2Vec2FeatureExtractor](https://huggingface.co/transformers/master/model_doc/wav2vec2.html#wav2vec2featureextractor).\n",
        "\n",
        "Let's start by creating the tokenizer to decode the predicted output classes to the output transcription."
      ]
    },
    {
      "cell_type": "markdown",
      "metadata": {
        "id": "sEXEWEJGQPqD"
      },
      "source": [
        "### Create `Wav2Vec2CTCTokenizer`"
      ]
    },
    {
      "cell_type": "markdown",
      "metadata": {
        "id": "tWmMikuNEKl_"
      },
      "source": [
        "A pre-trained XLS-R model maps the speech signal to a sequence of context representations as illustrated in the figure above. However, for speech recognition the model has to to map this sequence of context representations to its corresponding transcription which means that a linear layer has to be added on top of the transformer block (shown in yellow in the diagram above). This linear layer is used to classifies each context representation to a token class analogous how, *e.g.*, after pretraining a linear layer is added on top of BERT's embeddings for further classification - *cf.* with *'BERT'* section of this [blog post](https://huggingface.co/blog/warm-starting-encoder-decoder)."
      ]
    },
    {
      "cell_type": "markdown",
      "metadata": {
        "id": "v5oRE8XjIUH3"
      },
      "source": [
        "The output size of this layer corresponds to the number of tokens in the vocabulary, which does **not** depend onXLS-R's pretraining task, but only on the labeled dataset used for fine-tuning. So in the first step, we will take a look at the chosen dataset of Common Voice and define a vocabulary based on the transcriptions."
      ]
    },
    {
      "cell_type": "markdown",
      "metadata": {
        "id": "idBczw8mWzgt"
      },
      "source": [
        "First, let's go to Common Voice [official website](https://commonvoice.mozilla.org/en/datasets) and pick a language to fine-tune XLS-R on. For this notebook, we will use Turkish. \n",
        "\n",
        "For each language-specific dataset, you can find a language code corresponding to your chosen language. On [Common Voice](https://commonvoice.mozilla.org/en/datasets), look for the field \"Version\". The language code then corresponds to the prefix before the underscore. For Turkish, *e.g.* the language code is `\"tr\"`.\n",
        "\n",
        "Great, now we can use 🤗 Datasets' simple API to download the data. The dataset name is `\"common_voice\"`, the configuration name corresponds to the language code, which is `\"tr\"` in our case."
      ]
    },
    {
      "cell_type": "markdown",
      "metadata": {
        "id": "bee4g9rpLxll"
      },
      "source": [
        "Common Voice has many different splits including `invalidated`, which refers to data that was not rated as \"clean enough\" to be considered useful. In this notebook, we will only make use of the splits `\"train\"`, `\"validation\"` and `\"test\"`. \n",
        "\n",
        "Because the Turkish dataset is so small, we will merge both the validation and training data into a training dataset and only use the test data for validation."
      ]
    },
    {
      "cell_type": "code",
      "execution_count": null,
      "metadata": {
        "colab": {
          "base_uri": "https://localhost:8080/",
          "height": 186,
          "referenced_widgets": [
            "a3a0bed3a30444bf858d42b071583fd9",
            "767ca0fbac384e0abe08105858c8ed01",
            "95d51c06024d4af5a71ab8f3b1b0fe2b",
            "1d5166d492b0405fa3e6089183c9c426",
            "82dedaaa6e374e61b5bad517077f10a8",
            "aa95b65390d84c9fb41ecd042716b0ea",
            "1d17bd72c3074742a59e4756e4af9cb9",
            "e8a80a5459bd46aeacc8c06e781651d0",
            "25620d8d36b8419ea903211de10cbfb6",
            "27fe04ef9278464a9ad498fd6069a545",
            "2de0308c40b04e758aab7fe57e8f2494",
            "21608dad3be54ede84da4617c0c5b0aa",
            "3d32124ec43d47f4971bf1ab71b06bb0",
            "d57ddb4fc5b5476181493975723b866b",
            "451df3ddf173433c952828a88e7e7622",
            "4ee42bb837fd4ecc924733d9b75f88f5",
            "736e39282b3345519f257e74f1eabdee",
            "d9f58e0663b848bb8b21c733de0d8feb",
            "f1742daf630d4c3f86ed8fdb635e1e21",
            "2d3128f96bbe486f8dbc2c35edc38691",
            "cc246523b154491898947b17a57085f3",
            "ba12fb1bdca2423ca6df6c6ad302ebd8",
            "4346d23147184b3c9d3a575cd408ac8a",
            "c718060974e142538d452eb1c2097cda",
            "045ce8d1c028466eac3dc8460390c551",
            "fd29fd21925d4295ab419d85aca353f3",
            "0b8a79b13240422e9800008330f5fb8e",
            "111fdf0c0cf549e6b3b652984e02bec8",
            "724f7bc198cc4d9593b700063da105a8",
            "2e97a45690294fa1ad2ecdeb71bab7f8",
            "7453d43f3525473f869362e65e305ac4",
            "218490891f02470381f206d402592230",
            "bd4348623e4749e5b3b044cb1028bc7f",
            "02b79a7d19054d80908f1959eea5be59",
            "b67804da9d234be7a12a5621cd3c402d",
            "b07be89bf9db4d52b524e543f619349c",
            "930153a932ae4ce7b7832eef2b30b68e",
            "1110c7c27fc34e29b678e8440d1d9781",
            "22dad8c9faaf433cae9da3a5eb40fd10",
            "44b78e4918fa4573960dfb09046ee374",
            "889feb8a15ea4dc7a16e563f9b5b0c65",
            "6b5fe8948a4a4bbab5a0d114726d12c5",
            "7edcda6a8d0a4ccebd8bcef80b8ac8fe",
            "7c1121a01dc841b083dba25804c0f75b",
            "6405614191a34e1782c0228bf6040a94",
            "3d928c3691f24963ace9e5b7e933f60f",
            "f62dddfdd1064177af40be217c8bfa44",
            "3b7f07097f754ccca4a9abd50bfb990c",
            "b972613404e348e09b329c7ca4de95bc",
            "ba5eb8d383b646b99c1a06c5e49350fa",
            "75b3f10bb0bf462db86b428dd31cf08d",
            "8e3c5d00c5a84835b8888ad627b3b6cd",
            "e180750ad1974247b030547c5d7d4bbf",
            "3b0cba06856e4dbb84bff5539fb5480c",
            "bc0901c272b14c7390b9d0de3189bb50",
            "12b193fbbc3c448799b302f96d435c4e",
            "3e15af68be0c4dfdaa0288834c0dc5f7",
            "59ba268eabba4a748434ba72c419df95",
            "f8c3a832b69346188c9b66c943042ea1",
            "c59667753b9448aca9092b7a302cad9a",
            "5d56ab11ed1441768e5ff748acfda049",
            "4cba24af62b243b495478ddf9041a523",
            "6dae5fba04de44b6a96fae90c57236f7",
            "5d986252a7e24b3eb5bbcb7e55a2d173",
            "0dce6143fb424b5a82819f811bfe9bd4",
            "f87bd6fabbb74425ba65dac9d06164f2",
            "0570fe31b4db471399a9c1c1088411d6",
            "61d308e33ff54a4485e131b66db78426",
            "48b2e60a81344b3482cca9ecac6a5af2",
            "9d3faf8d6e3a441c89d1a1e1520f45a5",
            "50dd763c375a4f9796f4af9eee4a9294",
            "3bae0caaabec48eba6ce6791fca31948",
            "7b12309e9c344a128062b9660ba3cf60",
            "b092dac868534a9c850006cbc9e815ab",
            "e29244fe35f64b648c71bf79c5ea2ebb",
            "5164556812f44a9f9596840c327b05ed",
            "a2546d96b12d41488d373e1ceaabef55",
            "77bc738685674210ac477c5da05289bd",
            "33b42cfcdd454119b02bf1844170de2d",
            "f6c324871ccc415fb13c7f321c46251c",
            "d802f35423044b3d9c5829878f7fbe47",
            "cab4f0b78a284ce0983cdd783664ae1e",
            "9eabaa08022f40a99ea243bedbbde131",
            "9a53a02644904303a1e632f324eebba2",
            "e12ce6aaa4f7419c904b82c3636a3139",
            "d510039fd67d479890e9be52c5d8dedd",
            "12261ccd938b4f09b2b6338b63ae4b2c",
            "2a733bb00b7846f093e58cb7a1588547"
          ]
        },
        "id": "2MMXcWFFgCXU",
        "outputId": "1c019fea-c15f-4a4d-f785-2effee891243"
      },
      "outputs": [
        {
          "data": {
            "application/vnd.jupyter.widget-view+json": {
              "model_id": "a3a0bed3a30444bf858d42b071583fd9",
              "version_major": 2,
              "version_minor": 0
            },
            "text/plain": [
              "Downloading:   0%|          | 0.00/4.62k [00:00<?, ?B/s]"
            ]
          },
          "metadata": {},
          "output_type": "display_data"
        },
        {
          "data": {
            "application/vnd.jupyter.widget-view+json": {
              "model_id": "21608dad3be54ede84da4617c0c5b0aa",
              "version_major": 2,
              "version_minor": 0
            },
            "text/plain": [
              "Downloading:   0%|          | 0.00/10.7k [00:00<?, ?B/s]"
            ]
          },
          "metadata": {},
          "output_type": "display_data"
        },
        {
          "name": "stdout",
          "output_type": "stream",
          "text": [
            "Downloading and preparing dataset common_voice/cv (download: 418.98 MiB, generated: 418.48 MiB, post-processed: Unknown size, total: 837.46 MiB) to /root/.cache/huggingface/datasets/common_voice/cv/6.1.0/5693bfc0feeade582a78c2fb250bc88f52bd86f0a7f1bb22bfee67e715de30fd...\n"
          ]
        },
        {
          "data": {
            "application/vnd.jupyter.widget-view+json": {
              "model_id": "4346d23147184b3c9d3a575cd408ac8a",
              "version_major": 2,
              "version_minor": 0
            },
            "text/plain": [
              "Downloading:   0%|          | 0.00/439M [00:00<?, ?B/s]"
            ]
          },
          "metadata": {},
          "output_type": "display_data"
        },
        {
          "data": {
            "application/vnd.jupyter.widget-view+json": {
              "model_id": "02b79a7d19054d80908f1959eea5be59",
              "version_major": 2,
              "version_minor": 0
            },
            "text/plain": [
              "0 examples [00:00, ? examples/s]"
            ]
          },
          "metadata": {},
          "output_type": "display_data"
        },
        {
          "data": {
            "application/vnd.jupyter.widget-view+json": {
              "model_id": "6405614191a34e1782c0228bf6040a94",
              "version_major": 2,
              "version_minor": 0
            },
            "text/plain": [
              "0 examples [00:00, ? examples/s]"
            ]
          },
          "metadata": {},
          "output_type": "display_data"
        },
        {
          "data": {
            "application/vnd.jupyter.widget-view+json": {
              "model_id": "12b193fbbc3c448799b302f96d435c4e",
              "version_major": 2,
              "version_minor": 0
            },
            "text/plain": [
              "0 examples [00:00, ? examples/s]"
            ]
          },
          "metadata": {},
          "output_type": "display_data"
        },
        {
          "data": {
            "application/vnd.jupyter.widget-view+json": {
              "model_id": "0570fe31b4db471399a9c1c1088411d6",
              "version_major": 2,
              "version_minor": 0
            },
            "text/plain": [
              "0 examples [00:00, ? examples/s]"
            ]
          },
          "metadata": {},
          "output_type": "display_data"
        },
        {
          "data": {
            "application/vnd.jupyter.widget-view+json": {
              "model_id": "77bc738685674210ac477c5da05289bd",
              "version_major": 2,
              "version_minor": 0
            },
            "text/plain": [
              "0 examples [00:00, ? examples/s]"
            ]
          },
          "metadata": {},
          "output_type": "display_data"
        },
        {
          "name": "stdout",
          "output_type": "stream",
          "text": [
            "Dataset common_voice downloaded and prepared to /root/.cache/huggingface/datasets/common_voice/cv/6.1.0/5693bfc0feeade582a78c2fb250bc88f52bd86f0a7f1bb22bfee67e715de30fd. Subsequent calls will reuse this data.\n"
          ]
        },
        {
          "name": "stderr",
          "output_type": "stream",
          "text": [
            "Reusing dataset common_voice (/root/.cache/huggingface/datasets/common_voice/cv/6.1.0/5693bfc0feeade582a78c2fb250bc88f52bd86f0a7f1bb22bfee67e715de30fd)\n"
          ]
        }
      ],
      "source": [
        "from datasets import load_dataset, load_metric, Audio\n",
        "\n",
        "common_voice_train = load_dataset(\"common_voice\", \"cv\", split=\"train+validation\")\n",
        "common_voice_test = load_dataset(\"common_voice\", \"cv\", split=\"test\")"
      ]
    },
    {
      "cell_type": "markdown",
      "metadata": {
        "id": "ri5y5N_HMANq"
      },
      "source": [
        "Many ASR datasets only provide the target text, `'sentence'` for each audio array `'audio'` and file `'path'`. Common Voice actually provides much more information about each audio file, such as the `'accent'`, etc. Keeping the notebook as general as possible, we only consider the transcribed text for fine-tuning.\n",
        "\n"
      ]
    },
    {
      "cell_type": "code",
      "execution_count": null,
      "metadata": {
        "id": "kbyq6lDgQc2a"
      },
      "outputs": [],
      "source": [
        "common_voice_train = common_voice_train.remove_columns([\"accent\", \"age\", \"client_id\", \"down_votes\", \"gender\", \"locale\", \"segment\", \"up_votes\"])\n",
        "common_voice_test = common_voice_test.remove_columns([\"accent\", \"age\", \"client_id\", \"down_votes\", \"gender\", \"locale\", \"segment\", \"up_votes\"])"
      ]
    },
    {
      "cell_type": "markdown",
      "metadata": {
        "id": "Go9Hq4e4NDT9"
      },
      "source": [
        "Let's write a short function to display some random samples of the dataset and run it a couple of times to get a feeling for the transcriptions."
      ]
    },
    {
      "cell_type": "code",
      "execution_count": null,
      "metadata": {
        "id": "72737oog2F6U"
      },
      "outputs": [],
      "source": [
        "from datasets import ClassLabel\n",
        "import random\n",
        "import pandas as pd\n",
        "from IPython.display import display, HTML\n",
        "\n",
        "def show_random_elements(dataset, num_examples=10):\n",
        "    assert num_examples <= len(dataset), \"Can't pick more elements than there are in the dataset.\"\n",
        "    picks = []\n",
        "    for _ in range(num_examples):\n",
        "        pick = random.randint(0, len(dataset)-1)\n",
        "        while pick in picks:\n",
        "            pick = random.randint(0, len(dataset)-1)\n",
        "        picks.append(pick)\n",
        "    \n",
        "    df = pd.DataFrame(dataset[picks])\n",
        "    display(HTML(df.to_html()))"
      ]
    },
    {
      "cell_type": "code",
      "execution_count": null,
      "metadata": {
        "colab": {
          "base_uri": "https://localhost:8080/",
          "height": 363
        },
        "id": "K_JUmf3G3b9S",
        "outputId": "cba0afe5-f006-45ae-c277-9651d6754cb2"
      },
      "outputs": [
        {
          "data": {
            "text/html": [
              "<table border=\"1\" class=\"dataframe\">\n",
              "  <thead>\n",
              "    <tr style=\"text-align: right;\">\n",
              "      <th></th>\n",
              "      <th>sentence</th>\n",
              "    </tr>\n",
              "  </thead>\n",
              "  <tbody>\n",
              "    <tr>\n",
              "      <th>0</th>\n",
              "      <td>Искусствӑллӑ майпа сывлаттарни те пулӑшмарӗ.</td>\n",
              "    </tr>\n",
              "    <tr>\n",
              "      <th>1</th>\n",
              "      <td>Апла-и, капла-и, тӗнче сирпӗнмесӗр чӑваш пӗтмест, — тесе каламалла Конгресӑн.</td>\n",
              "    </tr>\n",
              "    <tr>\n",
              "      <th>2</th>\n",
              "      <td>Нуша курма çеç çуратрăм-шим сана, хĕрĕм.</td>\n",
              "    </tr>\n",
              "    <tr>\n",
              "      <th>3</th>\n",
              "      <td>Виҫӗм ҫул, сӑмахран, урам хушшинчи шӑтӑк-путӑклӑ ҫула юсарӑмӑр.</td>\n",
              "    </tr>\n",
              "    <tr>\n",
              "      <th>4</th>\n",
              "      <td>Ӑна пир-авӑр комбинатне кӗмелли вырӑнта вырнаҫтарнӑ.</td>\n",
              "    </tr>\n",
              "    <tr>\n",
              "      <th>5</th>\n",
              "      <td>Унтан пӑшалтан виҫӗ хутчен пенӗ сасӑ шӑплӑха татнӑ.</td>\n",
              "    </tr>\n",
              "    <tr>\n",
              "      <th>6</th>\n",
              "      <td>Лана Прусакова Ҫӗнӗ Шупашкарта ҫуралса ӳснӗ.</td>\n",
              "    </tr>\n",
              "    <tr>\n",
              "      <th>7</th>\n",
              "      <td>Унтан уҫӑ уроксене саланнӑч.</td>\n",
              "    </tr>\n",
              "    <tr>\n",
              "      <th>8</th>\n",
              "      <td>Анчах палӑртнӑ вӑхӑт тӗлне ҫулӑн пӗр пайне ҫеҫ асфальт сарнӑ.</td>\n",
              "    </tr>\n",
              "    <tr>\n",
              "      <th>9</th>\n",
              "      <td>Ҫак мониторпа ачасемпе аслисене сипленӗ чухне те усӑ кураҫҫӗ иккен.</td>\n",
              "    </tr>\n",
              "  </tbody>\n",
              "</table>"
            ],
            "text/plain": [
              "<IPython.core.display.HTML object>"
            ]
          },
          "metadata": {},
          "output_type": "display_data"
        }
      ],
      "source": [
        "show_random_elements(common_voice_train.remove_columns([\"path\", \"audio\"]), num_examples=10)"
      ]
    },
    {
      "cell_type": "markdown",
      "metadata": {
        "id": "fowcOllGNNju"
      },
      "source": [
        "Alright! The transcriptions look fairly clean. Having translated the transcribed sentences, it seems that the language corresponds more to written-out text than noisy dialogue. This makes sense considering that [Common Voice](https://huggingface.co/datasets/common_voice) is a crowd-sourced read speech corpus."
      ]
    },
    {
      "cell_type": "markdown",
      "metadata": {
        "id": "vq7OR50LN49m"
      },
      "source": [
        "We can see that the transcriptions contain some special characters, such as `,.?!;:`. Without a language model, it is much harder to classify speech chunks to such special characters because they don't really correspond to a characteristic sound unit. *E.g.*, the letter `\"s\"` has a more or less clear sound, whereas the special character `\".\"` does not.\n",
        "Also in order to understand the meaning of a speech signal, it is usually not necessary to include special characters in the transcription.\n",
        "\n",
        "Let's simply remove all characters that don't contribute to the meaning of a word and cannot really be represented by an acoustic sound and normalize the text."
      ]
    },
    {
      "cell_type": "code",
      "execution_count": null,
      "metadata": {
        "id": "svKzVJ_hQGK6"
      },
      "outputs": [],
      "source": [
        "import re\n",
        "chars_to_remove_regex = '[\\,\\?\\.\\!\\-\\;\\:\\\"\\“\\%\\‘\\”\\�\\'—«»–…]'\n",
        "\n",
        "def remove_special_characters(batch):\n",
        "    batch[\"sentence\"] = re.sub(chars_to_remove_regex, '', batch[\"sentence\"]).lower()\n",
        "    batch[\"sentence\"] = re.sub('  ', ' ', batch[\"sentence\"])\n",
        "    return batch"
      ]
    },
    {
      "cell_type": "code",
      "execution_count": null,
      "metadata": {
        "colab": {
          "base_uri": "https://localhost:8080/",
          "height": 81,
          "referenced_widgets": [
            "8bb2ea9834c1498fa662fec6121a64ac",
            "270a1cf404614e0592ee1cd7474c224a",
            "68c1bc8bf98f42a8a56afdf8d9996ad5",
            "4133bcad2c124159946b7631dea9a348",
            "dc2f972448f5448cbe9c430cbe241c51",
            "ff3dcdd3aac04f53a121fea5146dc32b",
            "86988fd773b84b509b174e5acc9b6d61",
            "f6cdaf06bc9b4a6e9a7dd5b21d4bf6b8",
            "ab82521764e04af7b27145cf69d3f16e",
            "1df491821c56430d9e6d5d5a1b3648f8",
            "9760ca3708844932ac2a447b4e3d04dc",
            "5401c372f807488285b62c4f98f25f57",
            "55e8320f693f4061b67ee7f9a4fe9b75",
            "e38ac7968158480fa64b99fec98465f3",
            "856c76f09f7c4ef081f9f712f0051a97",
            "170bfebca37d428998f723110ce8f26d",
            "9a141ffb5e8a40b88cb62dcd1a438f5a",
            "d34f96746fd64cfc89ffd906079e6dcf",
            "0dcb256ac9c440829b842bb7ccd1d57b",
            "60f8d5b295ca42bf99f6389a1916bbed",
            "e6bf32454ec64a5a9b1b0e63e9e43378",
            "a3a842c7a4a14f8da2fe9cbe0b2a260b"
          ]
        },
        "id": "XIHocAuTQbBR",
        "outputId": "fc2f1a60-4014-4fc5-a524-8f383e404247"
      },
      "outputs": [
        {
          "data": {
            "application/vnd.jupyter.widget-view+json": {
              "model_id": "8bb2ea9834c1498fa662fec6121a64ac",
              "version_major": 2,
              "version_minor": 0
            },
            "text/plain": [
              "0ex [00:00, ?ex/s]"
            ]
          },
          "metadata": {},
          "output_type": "display_data"
        },
        {
          "data": {
            "application/vnd.jupyter.widget-view+json": {
              "model_id": "5401c372f807488285b62c4f98f25f57",
              "version_major": 2,
              "version_minor": 0
            },
            "text/plain": [
              "0ex [00:00, ?ex/s]"
            ]
          },
          "metadata": {},
          "output_type": "display_data"
        }
      ],
      "source": [
        "common_voice_train = common_voice_train.map(remove_special_characters)\n",
        "common_voice_test = common_voice_test.map(remove_special_characters)"
      ]
    },
    {
      "cell_type": "markdown",
      "metadata": {
        "id": "TxnVS9gIhIma"
      },
      "source": [
        "Let's look at the processed text labels again."
      ]
    },
    {
      "cell_type": "code",
      "execution_count": null,
      "metadata": {
        "colab": {
          "base_uri": "https://localhost:8080/",
          "height": 363
        },
        "id": "RBDRAAYxRE6n",
        "outputId": "2117037a-839c-4714-9c63-d768aad68d64"
      },
      "outputs": [
        {
          "data": {
            "text/html": [
              "<table border=\"1\" class=\"dataframe\">\n",
              "  <thead>\n",
              "    <tr style=\"text-align: right;\">\n",
              "      <th></th>\n",
              "      <th>sentence</th>\n",
              "    </tr>\n",
              "  </thead>\n",
              "  <tbody>\n",
              "    <tr>\n",
              "      <th>0</th>\n",
              "      <td>вӗсем ҫурҫӗр кавказра службӑра тӑрӗҫ</td>\n",
              "    </tr>\n",
              "    <tr>\n",
              "      <th>1</th>\n",
              "      <td>тӗрӗссипе ларутӑрӑва уҫӑмлатма питӗ кӑткӑс пулчӗ</td>\n",
              "    </tr>\n",
              "    <tr>\n",
              "      <th>2</th>\n",
              "      <td>ахӑртнех вӗсене сутнӑ вӑл</td>\n",
              "    </tr>\n",
              "    <tr>\n",
              "      <th>3</th>\n",
              "      <td>хӗрарӑм ҫав ҫуртран куҫса каясшӑн талпӑннӑ</td>\n",
              "    </tr>\n",
              "    <tr>\n",
              "      <th>4</th>\n",
              "      <td>вĕсем хăйсен çулĕн чи хăрушă сыпăкне пырса кĕнĕ</td>\n",
              "    </tr>\n",
              "    <tr>\n",
              "      <th>5</th>\n",
              "      <td>вӑл пурпӗр ыранхи куна кӗтетчӗ</td>\n",
              "    </tr>\n",
              "    <tr>\n",
              "      <th>6</th>\n",
              "      <td>хальхинче пӑрҫа нимӗрӗ пӗҫерчӗҫ</td>\n",
              "    </tr>\n",
              "    <tr>\n",
              "      <th>7</th>\n",
              "      <td>ӑна официаллӑ майпа пичетлӗҫ ун хыҫҫӑн виҫӗ уйӑхран вӑл вӑя кӗрӗ</td>\n",
              "    </tr>\n",
              "    <tr>\n",
              "      <th>8</th>\n",
              "      <td>сӑмах май кӗнекене пичете панӑ ӗнтӗ</td>\n",
              "    </tr>\n",
              "    <tr>\n",
              "      <th>9</th>\n",
              "      <td>ҫамрӑк учительсене пособи</td>\n",
              "    </tr>\n",
              "  </tbody>\n",
              "</table>"
            ],
            "text/plain": [
              "<IPython.core.display.HTML object>"
            ]
          },
          "metadata": {},
          "output_type": "display_data"
        }
      ],
      "source": [
        "show_random_elements(common_voice_train.remove_columns([\"path\",\"audio\"]))"
      ]
    },
    {
      "cell_type": "markdown",
      "metadata": {
        "id": "jwfaptH5RJwA"
      },
      "source": [
        "Good! This looks better. We have removed most special characters from transcriptions and normalized them to lower-case only.\n",
        "\n",
        "Before finalizing the pre-processing, it is always advantageous to consult a native speaker of the target language to see whether the text can be further simplified. \n",
        "For this blog post, [Merve](https://twitter.com/mervenoyann) was kind enough to take a quick look and noted that \"hatted\" characters - like `â` - aren't really used anymore in Turkish and can be replaced by their \"un-hatted\" equivalent, *e.g.* `a`. \n",
        "\n",
        "This means that we should replace a sentence like `\"yargı sistemi hâlâ sağlıksız\"` to `\"yargı sistemi hala sağlıksız\"`.\n",
        "\n",
        "Let's write another short mapping function to further simplify the text labels. Remember - the simler the text labels, the easier it is for the model to learn to predict those labels.\n",
        "\n"
      ]
    },
    {
      "cell_type": "code",
      "execution_count": null,
      "metadata": {
        "id": "mAnSofrus8tl"
      },
      "outputs": [],
      "source": [
        "# 'ҫ': 36,\n",
        "#  'ӑ': 37,\n",
        "#  'ӗ'\n",
        " \n",
        " \n",
        "#  'ç': 1,\n",
        "#  'ă': 2,\n",
        "#  'ĕ': 3,"
      ]
    },
    {
      "cell_type": "code",
      "execution_count": null,
      "metadata": {
        "id": "aZcrz6z7lgGm"
      },
      "outputs": [],
      "source": [
        "def replace_double_characters(batch):\n",
        "    batch[\"sentence\"] = re.sub('[ç]', 'ҫ', batch[\"sentence\"])\n",
        "    batch[\"sentence\"] = re.sub('[ă]', 'ӑ', batch[\"sentence\"])\n",
        "    batch[\"sentence\"] = re.sub('[ĕ]', 'ӗ', batch[\"sentence\"])\n",
        "    return batch"
      ]
    },
    {
      "cell_type": "code",
      "execution_count": null,
      "metadata": {
        "colab": {
          "base_uri": "https://localhost:8080/",
          "height": 81,
          "referenced_widgets": [
            "b453586629314d099eec9517215c84e1",
            "40ac312a5bb3405f8e5f6d5283c1f9fd",
            "4d0d390fed324572a7c8250779e95df2",
            "853f8545d18d4a1ca492d543c8a1bcf9",
            "28c63c745946450e8bd0a7123e10b2cd",
            "8fa7604e862d4fff9ed8da739ec7190d",
            "d734818bea624e10a325e01f958eb66e",
            "ef1d4ac06073414d8c4de04222cdecef",
            "66aba793029a49fe86f4ad2d8adbdc5d",
            "78f97fec99c543b5915c7fc4834e673f",
            "0da16f1feedb4d0b96c3e747c545676e",
            "d8a59e8c2103418a8f93d7db15787587",
            "8d5f30e5d545406f897ce24d5410fe4a",
            "88d1d270daa5477b83590405d0421ea1",
            "9477a0a20ecf4d49bfa9b0671e06f33b",
            "3f26d60e600648dc91f5f265503c3faf",
            "e9f4e478052b4e2aaabe3cb7c3f150cf",
            "25f9cbc1a292459c89c65689aead5c0e",
            "fd48a8f47b4f40e39c69a3fe39c9b1ad",
            "b2cefd78da444437bd74fb3866cc6ac7",
            "3a695c3265b54eed856fa7321c619e30",
            "776d9652de6444209f65bc5eaf886f8a"
          ]
        },
        "id": "ieGhhND5mSwI",
        "outputId": "8068c014-31ba-45dd-e835-b51cb70af380"
      },
      "outputs": [
        {
          "data": {
            "application/vnd.jupyter.widget-view+json": {
              "model_id": "b453586629314d099eec9517215c84e1",
              "version_major": 2,
              "version_minor": 0
            },
            "text/plain": [
              "0ex [00:00, ?ex/s]"
            ]
          },
          "metadata": {},
          "output_type": "display_data"
        },
        {
          "data": {
            "application/vnd.jupyter.widget-view+json": {
              "model_id": "d8a59e8c2103418a8f93d7db15787587",
              "version_major": 2,
              "version_minor": 0
            },
            "text/plain": [
              "0ex [00:00, ?ex/s]"
            ]
          },
          "metadata": {},
          "output_type": "display_data"
        }
      ],
      "source": [
        "common_voice_train = common_voice_train.map(replace_double_characters)\n",
        "common_voice_test = common_voice_test.map(replace_double_characters)"
      ]
    },
    {
      "cell_type": "markdown",
      "metadata": {
        "id": "3ORHDb2Th2TW"
      },
      "source": [
        "In CTC, it is common to classify speech chunks into letters, so we will do the same here. \n",
        "Let's extract all distinct letters of the training and test data and build our vocabulary from this set of letters.\n",
        "\n",
        "We write a mapping function that concatenates all transcriptions into one long transcription and then transforms the string into a set of chars. \n",
        "It is important to pass the argument `batched=True` to the `map(...)` function so that the mapping function has access to all transcriptions at once."
      ]
    },
    {
      "cell_type": "code",
      "execution_count": null,
      "metadata": {
        "id": "LwCshNbbeRZR"
      },
      "outputs": [],
      "source": [
        "def extract_all_chars(batch):\n",
        "  all_text = \" \".join(batch[\"sentence\"])\n",
        "  vocab = list(set(all_text))\n",
        "  return {\"vocab\": [vocab], \"all_text\": [all_text]}"
      ]
    },
    {
      "cell_type": "code",
      "execution_count": null,
      "metadata": {
        "colab": {
          "base_uri": "https://localhost:8080/",
          "height": 81,
          "referenced_widgets": [
            "22873061cb66436aa91b1c3b7675ad6f",
            "0e5d37e7a3074d8c94353cd72a77944a",
            "87f3630430a34847a94aa0c371539469",
            "1c97374ac9784c699e7e0cef65197334",
            "0f3303f8c033407ba41175abbc7bdb07",
            "f33ae33076d941f19e911491b31dbdd4",
            "e84999ac32e84b23b223644d055026d2",
            "132d1d5490a74824b6f49df83fd1413d",
            "50469216aeeb48ec89e3f22996fab3b6",
            "b940b5763ae74870a99cf26ac0f277d1",
            "0fd6f1e13d5a49cfb0b93619a78a2b38",
            "5a7997e440a2452ab188b039b58dead8",
            "887831337340434996b43a14439bd792",
            "52ce354b0e9a49259aede24d3e636fbf",
            "c9cd03e36eeb40c5a4cc684bebb390c5",
            "71b994f0ad4842528adc09dabff21cf5",
            "b02da27c5b3e4568b44f2acad5c26bd0",
            "db9eff2e7b644468acc559ab29b1a83d",
            "1b60a7d6bc0e42eaa133f3f6effc016d",
            "9ac48d51f7b34a5283d40bf759727c1c",
            "a0b6fa624808461a96b08e3820b431ec",
            "8cd2411526494f3f9f541b8f2a10cf55"
          ]
        },
        "id": "_m6uUjjcfbjH",
        "outputId": "da8bdf52-1030-4182-aeb0-995142e19165"
      },
      "outputs": [
        {
          "data": {
            "application/vnd.jupyter.widget-view+json": {
              "model_id": "22873061cb66436aa91b1c3b7675ad6f",
              "version_major": 2,
              "version_minor": 0
            },
            "text/plain": [
              "  0%|          | 0/1 [00:00<?, ?ba/s]"
            ]
          },
          "metadata": {},
          "output_type": "display_data"
        },
        {
          "data": {
            "application/vnd.jupyter.widget-view+json": {
              "model_id": "5a7997e440a2452ab188b039b58dead8",
              "version_major": 2,
              "version_minor": 0
            },
            "text/plain": [
              "  0%|          | 0/1 [00:00<?, ?ba/s]"
            ]
          },
          "metadata": {},
          "output_type": "display_data"
        }
      ],
      "source": [
        "vocab_train = common_voice_train.map(extract_all_chars, batched=True, batch_size=-1, keep_in_memory=True, remove_columns=common_voice_train.column_names)\n",
        "vocab_test = common_voice_test.map(extract_all_chars, batched=True, batch_size=-1, keep_in_memory=True, remove_columns=common_voice_test.column_names)"
      ]
    },
    {
      "cell_type": "markdown",
      "metadata": {
        "id": "7oVgE8RZSJNP"
      },
      "source": [
        "Now, we create the union of all distinct letters in the training dataset and test dataset and convert the resulting list into an enumerated dictionary."
      ]
    },
    {
      "cell_type": "code",
      "execution_count": null,
      "metadata": {
        "id": "aQfneNsmlJI0"
      },
      "outputs": [],
      "source": [
        "vocab_list = list(set(vocab_train[\"vocab\"][0]) | set(vocab_test[\"vocab\"][0]))"
      ]
    },
    {
      "cell_type": "code",
      "execution_count": null,
      "metadata": {
        "colab": {
          "base_uri": "https://localhost:8080/"
        },
        "id": "_0kRndSvqaKk",
        "outputId": "59485a23-7e90-4b4f-b938-8c68bb1477a1"
      },
      "outputs": [
        {
          "data": {
            "text/plain": [
              "{' ': 0,\n",
              " 'а': 1,\n",
              " 'б': 2,\n",
              " 'в': 3,\n",
              " 'г': 4,\n",
              " 'д': 5,\n",
              " 'е': 6,\n",
              " 'ж': 7,\n",
              " 'з': 8,\n",
              " 'и': 9,\n",
              " 'й': 10,\n",
              " 'к': 11,\n",
              " 'л': 12,\n",
              " 'м': 13,\n",
              " 'н': 14,\n",
              " 'о': 15,\n",
              " 'п': 16,\n",
              " 'р': 17,\n",
              " 'с': 18,\n",
              " 'т': 19,\n",
              " 'у': 20,\n",
              " 'ф': 21,\n",
              " 'х': 22,\n",
              " 'ц': 23,\n",
              " 'ч': 24,\n",
              " 'ш': 25,\n",
              " 'щ': 26,\n",
              " 'ъ': 27,\n",
              " 'ы': 28,\n",
              " 'ь': 29,\n",
              " 'э': 30,\n",
              " 'ю': 31,\n",
              " 'я': 32,\n",
              " 'ҫ': 33,\n",
              " 'ӑ': 34,\n",
              " 'ӗ': 35,\n",
              " 'ӳ': 36}"
            ]
          },
          "execution_count": 20,
          "metadata": {},
          "output_type": "execute_result"
        }
      ],
      "source": [
        "vocab_dict = {v: k for k, v in enumerate(sorted(vocab_list))}\n",
        "vocab_dict"
      ]
    },
    {
      "cell_type": "markdown",
      "metadata": {
        "id": "JOSzbvs9SXT1"
      },
      "source": [
        "Cool, we see that all letters of the alphabet occur in the dataset (which is not really surprising) and we also extracted the special characters `\"\"` and `'`. Note that we did not exclude those special characters because: \n",
        "\n",
        "The model has to learn to predict when a word is finished or else the model prediction would always be a sequence of chars which would make it impossible to separate words from each other.\n",
        "\n",
        "One should always keep in mind that pre-processing is a very important step before training your model. E.g., we don't want our model to differentiate between `a` and `A` just because we forgot to normalize the data. The difference between `a` and `A` does not depend on the \"sound\" of the letter at all, but more on grammatical rules - *e.g.* use a capitalized letter at the beginning of the sentence. So it is sensible to remove the difference between capitalized and non-capitalized letters so that the model has an easier time learning to transcribe speech. "
      ]
    },
    {
      "cell_type": "markdown",
      "metadata": {
        "id": "b1fBRCn-TRaO"
      },
      "source": [
        "To make it clearer that `\" \"` has its own token class, we give it a more visible character `|`. In addition, we also add an \"unknown\" token so that the model can later deal with characters not encountered in Common Voice's training set. "
      ]
    },
    {
      "cell_type": "code",
      "execution_count": null,
      "metadata": {
        "id": "npbIbBoLgaFX"
      },
      "outputs": [],
      "source": [
        "vocab_dict[\"|\"] = vocab_dict[\" \"]\n",
        "del vocab_dict[\" \"]"
      ]
    },
    {
      "cell_type": "markdown",
      "metadata": {
        "id": "_9yCWg4Sd0cb"
      },
      "source": [
        "Finally, we also add a padding token that corresponds to CTC's \"*blank token*\". The \"blank token\" is a core component of the CTC algorithm. For more information, please take a look at the \"Alignment\" section [here](https://distill.pub/2017/ctc/)."
      ]
    },
    {
      "cell_type": "code",
      "execution_count": null,
      "metadata": {
        "colab": {
          "base_uri": "https://localhost:8080/"
        },
        "id": "znF0bNunsjbl",
        "outputId": "5c11e3e6-290a-48e2-a1eb-6069c272b1c5"
      },
      "outputs": [
        {
          "data": {
            "text/plain": [
              "39"
            ]
          },
          "execution_count": 22,
          "metadata": {},
          "output_type": "execute_result"
        }
      ],
      "source": [
        "vocab_dict[\"[UNK]\"] = len(vocab_dict)\n",
        "vocab_dict[\"[PAD]\"] = len(vocab_dict)\n",
        "len(vocab_dict)"
      ]
    },
    {
      "cell_type": "markdown",
      "metadata": {
        "id": "SFPGfet8U5sL"
      },
      "source": [
        "Cool, now our vocabulary is complete and consists of 39 tokens, which means that the linear layer that we will add on top of the pretrained XLS-R checkpoint will have an output dimension of 39."
      ]
    },
    {
      "cell_type": "markdown",
      "metadata": {
        "id": "1CujRgBNVRaD"
      },
      "source": [
        "Let's now save the vocabulary as a json file."
      ]
    },
    {
      "cell_type": "code",
      "execution_count": null,
      "metadata": {
        "id": "ehyUoh9vk191"
      },
      "outputs": [],
      "source": [
        "import json\n",
        "with open('vocab.json', 'w') as vocab_file:\n",
        "    json.dump(vocab_dict, vocab_file)"
      ]
    },
    {
      "cell_type": "markdown",
      "metadata": {
        "id": "SHJDaKlIVVim"
      },
      "source": [
        "In a final step, we use the json file to load the vocabulary into an instance of the `Wav2Vec2CTCTokenizer` class."
      ]
    },
    {
      "cell_type": "code",
      "execution_count": null,
      "metadata": {
        "colab": {
          "base_uri": "https://localhost:8080/",
          "height": 453
        },
        "id": "xriFGEWQkO4M",
        "outputId": "6c9adbd1-d27b-4482-e549-5417fc2c8ebd"
      },
      "outputs": [
        {
          "output_type": "error",
          "ename": "OSError",
          "evalue": "ignored",
          "traceback": [
            "\u001b[0;31m---------------------------------------------------------------------------\u001b[0m",
            "\u001b[0;31mOSError\u001b[0m                                   Traceback (most recent call last)",
            "\u001b[0;32m<ipython-input-5-1f25f0d516f8>\u001b[0m in \u001b[0;36m<module>\u001b[0;34m()\u001b[0m\n\u001b[1;32m      1\u001b[0m \u001b[0;32mfrom\u001b[0m \u001b[0mtransformers\u001b[0m \u001b[0;32mimport\u001b[0m \u001b[0mWav2Vec2CTCTokenizer\u001b[0m\u001b[0;34m\u001b[0m\u001b[0;34m\u001b[0m\u001b[0m\n\u001b[1;32m      2\u001b[0m \u001b[0;34m\u001b[0m\u001b[0m\n\u001b[0;32m----> 3\u001b[0;31m \u001b[0mtokenizer\u001b[0m \u001b[0;34m=\u001b[0m \u001b[0mWav2Vec2CTCTokenizer\u001b[0m\u001b[0;34m.\u001b[0m\u001b[0mfrom_pretrained\u001b[0m\u001b[0;34m(\u001b[0m\u001b[0;34m\"./\"\u001b[0m\u001b[0;34m,\u001b[0m \u001b[0munk_token\u001b[0m\u001b[0;34m=\u001b[0m\u001b[0;34m\"[UNK]\"\u001b[0m\u001b[0;34m,\u001b[0m \u001b[0mpad_token\u001b[0m\u001b[0;34m=\u001b[0m\u001b[0;34m\"[PAD]\"\u001b[0m\u001b[0;34m,\u001b[0m \u001b[0mword_delimiter_token\u001b[0m\u001b[0;34m=\u001b[0m\u001b[0;34m\"|\"\u001b[0m\u001b[0;34m)\u001b[0m\u001b[0;34m\u001b[0m\u001b[0;34m\u001b[0m\u001b[0m\n\u001b[0m",
            "\u001b[0;32m/usr/local/lib/python3.7/dist-packages/transformers/tokenization_utils_base.py\u001b[0m in \u001b[0;36mfrom_pretrained\u001b[0;34m(cls, pretrained_model_name_or_path, *init_inputs, **kwargs)\u001b[0m\n\u001b[1;32m   1730\u001b[0m                 \u001b[0mmsg\u001b[0m \u001b[0;34m+=\u001b[0m \u001b[0;34mf\"- or '{revision}' is a valid git identifier (branch name, a tag name, or a commit id) that exists for this model name as listed on its model page on 'https://huggingface.co/models'\\n\\n\"\u001b[0m\u001b[0;34m\u001b[0m\u001b[0;34m\u001b[0m\u001b[0m\n\u001b[1;32m   1731\u001b[0m \u001b[0;34m\u001b[0m\u001b[0m\n\u001b[0;32m-> 1732\u001b[0;31m             \u001b[0;32mraise\u001b[0m \u001b[0mEnvironmentError\u001b[0m\u001b[0;34m(\u001b[0m\u001b[0mmsg\u001b[0m\u001b[0;34m)\u001b[0m\u001b[0;34m\u001b[0m\u001b[0;34m\u001b[0m\u001b[0m\n\u001b[0m\u001b[1;32m   1733\u001b[0m \u001b[0;34m\u001b[0m\u001b[0m\n\u001b[1;32m   1734\u001b[0m         \u001b[0;32mfor\u001b[0m \u001b[0mfile_id\u001b[0m\u001b[0;34m,\u001b[0m \u001b[0mfile_path\u001b[0m \u001b[0;32min\u001b[0m \u001b[0mvocab_files\u001b[0m\u001b[0;34m.\u001b[0m\u001b[0mitems\u001b[0m\u001b[0;34m(\u001b[0m\u001b[0;34m)\u001b[0m\u001b[0;34m:\u001b[0m\u001b[0;34m\u001b[0m\u001b[0;34m\u001b[0m\u001b[0m\n",
            "\u001b[0;31mOSError\u001b[0m: Can't load tokenizer for './'. Make sure that:\n\n- './' is a correct model identifier listed on 'https://huggingface.co/models'\n\n- or './' is the correct path to a directory containing relevant tokenizer files\n\n"
          ]
        }
      ],
      "source": [
        "from transformers import Wav2Vec2CTCTokenizer\n",
        "\n",
        "tokenizer = Wav2Vec2CTCTokenizer.from_pretrained(\"./\", unk_token=\"[UNK]\", pad_token=\"[PAD]\", word_delimiter_token=\"|\")"
      ]
    },
    {
      "cell_type": "markdown",
      "metadata": {
        "id": "KvL12DrNV4cx"
      },
      "source": [
        "If one wants to re-use the just created tokenizer with the fine-tuned model of this notebook, it is strongly advised to upload the `tokenizer` to the [🤗 Hub](https://huggingface.co/). Let's call the repo to which we will upload the files\n",
        "`\"wav2vec2-large-xlsr-turkish-demo-colab\"`:"
      ]
    },
    {
      "cell_type": "code",
      "execution_count": null,
      "metadata": {
        "colab": {
          "background_save": true
        },
        "id": "A1XApZBAF2zr"
      },
      "outputs": [],
      "source": [
        "repo_name = \"wav2vec2-large-xls-r-300m-chuvash-colab\""
      ]
    },
    {
      "cell_type": "markdown",
      "metadata": {
        "id": "B1BiezWZF16d"
      },
      "source": [
        "and upload the tokenizer to the [🤗 Hub](https://huggingface.co/)."
      ]
    },
    {
      "cell_type": "code",
      "execution_count": null,
      "metadata": {
        "colab": {
          "base_uri": "https://localhost:8080/",
          "height": 494
        },
        "id": "zytE1175GAKM",
        "outputId": "d6c5da91-d13b-4734-d4bd-585228bbe09a"
      },
      "outputs": [
        {
          "output_type": "error",
          "ename": "OSError",
          "evalue": "ignored",
          "traceback": [
            "\u001b[0;31m---------------------------------------------------------------------------\u001b[0m",
            "\u001b[0;31mCalledProcessError\u001b[0m                        Traceback (most recent call last)",
            "\u001b[0;32m/usr/local/lib/python3.7/dist-packages/huggingface_hub/repository.py\u001b[0m in \u001b[0;36mgit_commit\u001b[0;34m(self, commit_message)\u001b[0m\n\u001b[1;32m    931\u001b[0m                 \u001b[0mencoding\u001b[0m\u001b[0;34m=\u001b[0m\u001b[0;34m\"utf-8\"\u001b[0m\u001b[0;34m,\u001b[0m\u001b[0;34m\u001b[0m\u001b[0;34m\u001b[0m\u001b[0m\n\u001b[0;32m--> 932\u001b[0;31m                 \u001b[0mcwd\u001b[0m\u001b[0;34m=\u001b[0m\u001b[0mself\u001b[0m\u001b[0;34m.\u001b[0m\u001b[0mlocal_dir\u001b[0m\u001b[0;34m,\u001b[0m\u001b[0;34m\u001b[0m\u001b[0;34m\u001b[0m\u001b[0m\n\u001b[0m\u001b[1;32m    933\u001b[0m             )\n",
            "\u001b[0;32m/usr/lib/python3.7/subprocess.py\u001b[0m in \u001b[0;36mrun\u001b[0;34m(input, capture_output, timeout, check, *popenargs, **kwargs)\u001b[0m\n\u001b[1;32m    511\u001b[0m             raise CalledProcessError(retcode, process.args,\n\u001b[0;32m--> 512\u001b[0;31m                                      output=stdout, stderr=stderr)\n\u001b[0m\u001b[1;32m    513\u001b[0m     \u001b[0;32mreturn\u001b[0m \u001b[0mCompletedProcess\u001b[0m\u001b[0;34m(\u001b[0m\u001b[0mprocess\u001b[0m\u001b[0;34m.\u001b[0m\u001b[0margs\u001b[0m\u001b[0;34m,\u001b[0m \u001b[0mretcode\u001b[0m\u001b[0;34m,\u001b[0m \u001b[0mstdout\u001b[0m\u001b[0;34m,\u001b[0m \u001b[0mstderr\u001b[0m\u001b[0;34m)\u001b[0m\u001b[0;34m\u001b[0m\u001b[0;34m\u001b[0m\u001b[0m\n",
            "\u001b[0;31mCalledProcessError\u001b[0m: Command '['git', 'commit', '-m', 'add tokenizer', '-v']' returned non-zero exit status 1.",
            "\nDuring handling of the above exception, another exception occurred:\n",
            "\u001b[0;31mOSError\u001b[0m                                   Traceback (most recent call last)",
            "\u001b[0;32m<ipython-input-29-e531bb070692>\u001b[0m in \u001b[0;36m<module>\u001b[0;34m()\u001b[0m\n\u001b[0;32m----> 1\u001b[0;31m \u001b[0mtokenizer\u001b[0m\u001b[0;34m.\u001b[0m\u001b[0mpush_to_hub\u001b[0m\u001b[0;34m(\u001b[0m\u001b[0mrepo_name\u001b[0m\u001b[0;34m)\u001b[0m\u001b[0;34m\u001b[0m\u001b[0;34m\u001b[0m\u001b[0m\n\u001b[0m",
            "\u001b[0;32m/usr/local/lib/python3.7/dist-packages/transformers/file_utils.py\u001b[0m in \u001b[0;36mpush_to_hub\u001b[0;34m(self, repo_path_or_name, repo_url, use_temp_dir, commit_message, organization, private, use_auth_token)\u001b[0m\n\u001b[1;32m   2180\u001b[0m         \u001b[0mself\u001b[0m\u001b[0;34m.\u001b[0m\u001b[0msave_pretrained\u001b[0m\u001b[0;34m(\u001b[0m\u001b[0mrepo_path_or_name\u001b[0m\u001b[0;34m)\u001b[0m\u001b[0;34m\u001b[0m\u001b[0;34m\u001b[0m\u001b[0m\n\u001b[1;32m   2181\u001b[0m         \u001b[0;31m# Commit and push!\u001b[0m\u001b[0;34m\u001b[0m\u001b[0;34m\u001b[0m\u001b[0;34m\u001b[0m\u001b[0m\n\u001b[0;32m-> 2182\u001b[0;31m         \u001b[0murl\u001b[0m \u001b[0;34m=\u001b[0m \u001b[0mself\u001b[0m\u001b[0;34m.\u001b[0m\u001b[0m_push_to_hub\u001b[0m\u001b[0;34m(\u001b[0m\u001b[0mrepo\u001b[0m\u001b[0;34m,\u001b[0m \u001b[0mcommit_message\u001b[0m\u001b[0;34m=\u001b[0m\u001b[0mcommit_message\u001b[0m\u001b[0;34m)\u001b[0m\u001b[0;34m\u001b[0m\u001b[0;34m\u001b[0m\u001b[0m\n\u001b[0m\u001b[1;32m   2183\u001b[0m \u001b[0;34m\u001b[0m\u001b[0m\n\u001b[1;32m   2184\u001b[0m         \u001b[0;31m# Clean up! Clean up! Everybody everywhere!\u001b[0m\u001b[0;34m\u001b[0m\u001b[0;34m\u001b[0m\u001b[0;34m\u001b[0m\u001b[0m\n",
            "\u001b[0;32m/usr/local/lib/python3.7/dist-packages/transformers/file_utils.py\u001b[0m in \u001b[0;36m_push_to_hub\u001b[0;34m(cls, repo, commit_message)\u001b[0m\n\u001b[1;32m   2260\u001b[0m                 \u001b[0mcommit_message\u001b[0m \u001b[0;34m=\u001b[0m \u001b[0;34m\"add model\"\u001b[0m\u001b[0;34m\u001b[0m\u001b[0;34m\u001b[0m\u001b[0m\n\u001b[1;32m   2261\u001b[0m \u001b[0;34m\u001b[0m\u001b[0m\n\u001b[0;32m-> 2262\u001b[0;31m         \u001b[0;32mreturn\u001b[0m \u001b[0mrepo\u001b[0m\u001b[0;34m.\u001b[0m\u001b[0mpush_to_hub\u001b[0m\u001b[0;34m(\u001b[0m\u001b[0mcommit_message\u001b[0m\u001b[0;34m=\u001b[0m\u001b[0mcommit_message\u001b[0m\u001b[0;34m)\u001b[0m\u001b[0;34m\u001b[0m\u001b[0;34m\u001b[0m\u001b[0m\n\u001b[0m\u001b[1;32m   2263\u001b[0m \u001b[0;34m\u001b[0m\u001b[0m\n\u001b[1;32m   2264\u001b[0m \u001b[0;34m\u001b[0m\u001b[0m\n",
            "\u001b[0;32m/usr/local/lib/python3.7/dist-packages/huggingface_hub/repository.py\u001b[0m in \u001b[0;36mpush_to_hub\u001b[0;34m(self, commit_message, blocking, clean_ok, auto_lfs_prune)\u001b[0m\n\u001b[1;32m   1229\u001b[0m             \u001b[0;32mreturn\u001b[0m \u001b[0;32mNone\u001b[0m\u001b[0;34m\u001b[0m\u001b[0;34m\u001b[0m\u001b[0m\n\u001b[1;32m   1230\u001b[0m         \u001b[0mself\u001b[0m\u001b[0;34m.\u001b[0m\u001b[0mgit_add\u001b[0m\u001b[0;34m(\u001b[0m\u001b[0mauto_lfs_track\u001b[0m\u001b[0;34m=\u001b[0m\u001b[0;32mTrue\u001b[0m\u001b[0;34m)\u001b[0m\u001b[0;34m\u001b[0m\u001b[0;34m\u001b[0m\u001b[0m\n\u001b[0;32m-> 1231\u001b[0;31m         \u001b[0mself\u001b[0m\u001b[0;34m.\u001b[0m\u001b[0mgit_commit\u001b[0m\u001b[0;34m(\u001b[0m\u001b[0mcommit_message\u001b[0m\u001b[0;34m)\u001b[0m\u001b[0;34m\u001b[0m\u001b[0;34m\u001b[0m\u001b[0m\n\u001b[0m\u001b[1;32m   1232\u001b[0m         return self.git_push(\n\u001b[1;32m   1233\u001b[0m             \u001b[0mupstream\u001b[0m\u001b[0;34m=\u001b[0m\u001b[0;34mf\"origin {self.current_branch}\"\u001b[0m\u001b[0;34m,\u001b[0m\u001b[0;34m\u001b[0m\u001b[0;34m\u001b[0m\u001b[0m\n",
            "\u001b[0;32m/usr/local/lib/python3.7/dist-packages/huggingface_hub/repository.py\u001b[0m in \u001b[0;36mgit_commit\u001b[0;34m(self, commit_message)\u001b[0m\n\u001b[1;32m    937\u001b[0m                 \u001b[0;32mraise\u001b[0m \u001b[0mEnvironmentError\u001b[0m\u001b[0;34m(\u001b[0m\u001b[0mexc\u001b[0m\u001b[0;34m.\u001b[0m\u001b[0mstderr\u001b[0m\u001b[0;34m)\u001b[0m\u001b[0;34m\u001b[0m\u001b[0;34m\u001b[0m\u001b[0m\n\u001b[1;32m    938\u001b[0m             \u001b[0;32melse\u001b[0m\u001b[0;34m:\u001b[0m\u001b[0;34m\u001b[0m\u001b[0;34m\u001b[0m\u001b[0m\n\u001b[0;32m--> 939\u001b[0;31m                 \u001b[0;32mraise\u001b[0m \u001b[0mEnvironmentError\u001b[0m\u001b[0;34m(\u001b[0m\u001b[0mexc\u001b[0m\u001b[0;34m.\u001b[0m\u001b[0mstdout\u001b[0m\u001b[0;34m)\u001b[0m\u001b[0;34m\u001b[0m\u001b[0;34m\u001b[0m\u001b[0m\n\u001b[0m\u001b[1;32m    940\u001b[0m \u001b[0;34m\u001b[0m\u001b[0m\n\u001b[1;32m    941\u001b[0m     def git_push(\n",
            "\u001b[0;31mOSError\u001b[0m: On branch main\nYour branch is up to date with 'origin/main'.\n\nnothing to commit, working tree clean\n"
          ]
        }
      ],
      "source": [
        "tokenizer.push_to_hub(repo_name)"
      ]
    },
    {
      "cell_type": "markdown",
      "metadata": {
        "id": "SwQM8lH_GGuP"
      },
      "source": [
        "Great, you can see the just created repository under `https://huggingface.co/<your-username>/wav2vec2-large-xls-r-300m-tr-colab`"
      ]
    },
    {
      "cell_type": "markdown",
      "metadata": {
        "id": "mYcIiR2FQ96i"
      },
      "source": [
        "### Create `Wav2Vec2FeatureExtractor`"
      ]
    },
    {
      "cell_type": "markdown",
      "metadata": {
        "id": "Y6mDEyW719rx"
      },
      "source": [
        "Speech is a continuous signal and to be treated by computers, it first has to be discretized, which is usually called **sampling**. The sampling rate hereby plays an important role in that it defines how many data points of the speech signal are measured per second. Therefore, sampling with a higher sampling rate results in a better approximation of the *real* speech signal but also necessitates more values per second.\n",
        "\n",
        "A pretrained checkpoint expects its input data to have been sampled more or less from the same distribution as the data it was trained on. The same speech signals sampled at two different rates have a very different distribution, *e.g.*, doubling the sampling rate results in data points being twice as long. Thus, \n",
        "before fine-tuning a pretrained checkpoint of an ASR model, it is crucial to verify that the sampling rate of the data that was used to pretrain the model matches the sampling rate of the dataset used to fine-tune the model.\n",
        "\n",
        "XLS-R was pretrained on audio data of [Babel](http://www.reading.ac.uk/AcaDepts/ll/speechlab/babel/r), \n",
        "[Multilingual LibriSpeech (MLS)](https://huggingface.co/datasets/multilingual_librispeech), [Common Voice](https://huggingface.co/datasets/common_voice), [VoxPopuli](https://arxiv.org/abs/2101.00390), and [VoxLingua107](https://arxiv.org/abs/2011.12998) at a sampling rate of 16kHz. Common Voice, in its original form, has a sampling rate of 48kHz, thus we will have to downsample the fine-tuning data to 16kHz in the following.\n",
        "\n"
      ]
    },
    {
      "cell_type": "markdown",
      "metadata": {
        "id": "KuUbPW7oV-B5"
      },
      "source": [
        "A `Wav2Vec2FeatureExtractor` object requires the following parameters to be instantiated:\n",
        "\n",
        "- `feature_size`: Speech models take a sequence of feature vectors as an input. While the length of this sequence obviously varies, the feature size should not. In the case of Wav2Vec2, the feature size is 1 because the model was trained on the raw speech signal ${}^2$.\n",
        "- `sampling_rate`: The sampling rate at which the model is trained on.\n",
        "- `padding_value`: For batched inference, shorter inputs need to be padded with a specific value\n",
        "- `do_normalize`: Whether the input should be *zero-mean-unit-variance* normalized or not. Usually, speech models perform better when normalizing the input\n",
        "- `return_attention_mask`: Whether the model should make use of an `attention_mask` for batched inference. In general, XLS-R models checkpoints should **always** use the `attention_mask`."
      ]
    },
    {
      "cell_type": "code",
      "execution_count": null,
      "metadata": {
        "id": "kAR0-2KLkopp"
      },
      "outputs": [],
      "source": [
        "from transformers import Wav2Vec2FeatureExtractor\n",
        "\n",
        "feature_extractor = Wav2Vec2FeatureExtractor(feature_size=1, sampling_rate=16000, padding_value=0.0, do_normalize=True, return_attention_mask=True)"
      ]
    },
    {
      "cell_type": "markdown",
      "metadata": {
        "id": "qUETetgqYC3W"
      },
      "source": [
        "Great, XLS-R's feature extraction pipeline is thereby fully defined!\n",
        "\n",
        "For improved user-friendliness, the feature extractor and tokenizer are *wrapped* into a single `Wav2Vec2Processor` class so that one only needs a `model` and `processor` object."
      ]
    },
    {
      "cell_type": "code",
      "execution_count": null,
      "metadata": {
        "id": "KYZtoW-tlZgl"
      },
      "outputs": [],
      "source": [
        "from transformers import Wav2Vec2Processor\n",
        "\n",
        "processor = Wav2Vec2Processor(feature_extractor=feature_extractor, tokenizer=tokenizer)"
      ]
    },
    {
      "cell_type": "markdown",
      "metadata": {
        "id": "DrKnYuvDIoOO"
      },
      "source": [
        "Next, we can prepare the dataset."
      ]
    },
    {
      "cell_type": "markdown",
      "metadata": {
        "id": "YFmShnl7RE35"
      },
      "source": [
        "### Preprocess Data\n",
        "\n",
        "So far, we have not looked at the actual values of the speech signal but just the transcription. In addition to `sentence`, our datasets include two more column names `path` and `audio`. `path` states the absolute path of the audio file. Let's take a look.\n"
      ]
    },
    {
      "cell_type": "code",
      "execution_count": null,
      "metadata": {
        "id": "TTCS7W6XJ9BG",
        "colab": {
          "base_uri": "https://localhost:8080/",
          "height": 35
        },
        "outputId": "5619d6e8-af4c-4879-bd9a-bcb732b69e13"
      },
      "outputs": [
        {
          "output_type": "execute_result",
          "data": {
            "text/plain": [
              "'common_voice_cv_17339441.mp3'"
            ],
            "application/vnd.google.colaboratory.intrinsic+json": {
              "type": "string"
            }
          },
          "metadata": {},
          "execution_count": 32
        }
      ],
      "source": [
        "common_voice_train[0][\"path\"]"
      ]
    },
    {
      "cell_type": "markdown",
      "metadata": {
        "id": "T6ndIjHGFp0W"
      },
      "source": [
        "XLS-R expects the input in the format of a 1-dimensional array of 16 kHz. This means that the audio file has to be loaded and resampled.\n",
        "\n",
        " Thankfully, `datasets` does this automatically by calling the other column `audio`. Let try it out. "
      ]
    },
    {
      "cell_type": "code",
      "execution_count": null,
      "metadata": {
        "id": "qj_z5Zc3GAs9",
        "colab": {
          "base_uri": "https://localhost:8080/"
        },
        "outputId": "1e4b50e2-c36f-483a-a8de-6e83fd031b63"
      },
      "outputs": [
        {
          "output_type": "execute_result",
          "data": {
            "text/plain": [
              "{'array': array([ 0.0000000e+00,  0.0000000e+00,  0.0000000e+00, ...,\n",
              "         6.0630377e-06, -1.1805134e-05, -1.9673005e-05], dtype=float32),\n",
              " 'path': 'cv-corpus-6.1-2020-12-11/cv/clips/common_voice_cv_17339441.mp3',\n",
              " 'sampling_rate': 48000}"
            ]
          },
          "metadata": {},
          "execution_count": 33
        }
      ],
      "source": [
        "common_voice_train[0][\"audio\"]"
      ]
    },
    {
      "cell_type": "markdown",
      "metadata": {
        "id": "WUUTgI1bGHW-"
      },
      "source": [
        "Great, we can see that the audio file has automatically been loaded. This is thanks to the new [`\"Audio\"` feature](https://huggingface.co/docs/datasets/package_reference/main_classes.html?highlight=audio#datasets.Audio) introduced in `datasets == 4.13.3`, which loads and resamples audio files on-the-fly upon calling.\n",
        "\n",
        "In the example above we can see that the audio data is loaded with a sampling rate of 48kHz whereas 16kHz are expected by the model. We can set the audio feature to the correct sampling rate by making use of [`cast_column`](https://huggingface.co/docs/datasets/package_reference/main_classes.html?highlight=cast_column#datasets.DatasetDict.cast_column):"
      ]
    },
    {
      "cell_type": "code",
      "execution_count": null,
      "metadata": {
        "id": "rrv65aj7G95i"
      },
      "outputs": [],
      "source": [
        "common_voice_train = common_voice_train.cast_column(\"audio\", Audio(sampling_rate=16_000))\n",
        "common_voice_test = common_voice_test.cast_column(\"audio\", Audio(sampling_rate=16_000))"
      ]
    },
    {
      "cell_type": "markdown",
      "metadata": {
        "id": "PcnO4x-NGBEi"
      },
      "source": [
        "Let's take a look at `\"audio\"` again."
      ]
    },
    {
      "cell_type": "code",
      "execution_count": null,
      "metadata": {
        "id": "aKtkc1o_HWHC",
        "colab": {
          "base_uri": "https://localhost:8080/"
        },
        "outputId": "7a7b3269-30b3-4ed1-ab76-c854bb205611"
      },
      "outputs": [
        {
          "output_type": "execute_result",
          "data": {
            "text/plain": [
              "{'array': array([ 0.0000000e+00,  0.0000000e+00,  0.0000000e+00, ...,\n",
              "        -5.7693063e-07, -1.4452381e-05, -8.6959872e-06], dtype=float32),\n",
              " 'path': 'cv-corpus-6.1-2020-12-11/cv/clips/common_voice_cv_17339441.mp3',\n",
              " 'sampling_rate': 16000}"
            ]
          },
          "metadata": {},
          "execution_count": 35
        }
      ],
      "source": [
        "common_voice_train[0][\"audio\"]"
      ]
    },
    {
      "cell_type": "markdown",
      "metadata": {
        "id": "SOckzFd4Mbzq"
      },
      "source": [
        "This seemed to have worked! Let's listen to a couple of audio files to better understand the dataset and verify that the audio was correctly loaded. \n",
        "\n",
        "**Note**: *You can click the following cell a couple of times to listen to different speech samples.*"
      ]
    },
    {
      "cell_type": "code",
      "execution_count": null,
      "metadata": {
        "id": "dueM6U7Ev0OA",
        "colab": {
          "base_uri": "https://localhost:8080/",
          "height": 78
        },
        "outputId": "118029de-26be-44c5-c18e-b4547798e05c"
      },
      "outputs": [
        {
          "output_type": "stream",
          "name": "stdout",
          "text": [
            "пӳртне кӗрсе тӑрсан ҫӗлӗкӗ айӗнчен куҫ ҫинелле ҫакӑнса тӑракан ҫиппе курах кайрӗ\n"
          ]
        },
        {
          "output_type": "execute_result",
          "data": {
            "text/plain": [
              "<IPython.lib.display.Audio object>"
            ],
            "text/html": [
              "\n",
              "                <audio controls=\"controls\" autoplay=\"autoplay\">\n",
              "                    <source src=\"data:audio/wav;base64,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\" type=\"audio/wav\" />\n",
              "                    Your browser does not support the audio element.\n",
              "                </audio>\n",
              "              "
            ]
          },
          "metadata": {},
          "execution_count": 36
        }
      ],
      "source": [
        "import IPython.display as ipd\n",
        "import numpy as np\n",
        "import random\n",
        "\n",
        "rand_int = random.randint(0, len(common_voice_train)-1)\n",
        "\n",
        "print(common_voice_train[rand_int][\"sentence\"])\n",
        "ipd.Audio(data=common_voice_train[rand_int][\"audio\"][\"array\"], autoplay=True, rate=16000)"
      ]
    },
    {
      "cell_type": "markdown",
      "metadata": {
        "id": "gY8m3vARHYTa"
      },
      "source": [
        "It seems like the data is now correctly loaded and resampled. "
      ]
    },
    {
      "cell_type": "markdown",
      "metadata": {
        "id": "1MaL9J2dNVtG"
      },
      "source": [
        "It can be heard, that the speakers change along with their speaking rate, accent, and background environment, etc. Overall, the recordings sound acceptably clear though, which is to be expected from a crowd-sourced read speech corpus.\n",
        "\n",
        "Let's do a final check that the data is correctly prepared, by printing the shape of the speech input, its transcription, and the corresponding sampling rate.\n",
        "\n",
        "**Note**: *You can click the following cell a couple of times to verify multiple samples.*"
      ]
    },
    {
      "cell_type": "code",
      "execution_count": null,
      "metadata": {
        "id": "1Po2g7YPuRTx",
        "colab": {
          "base_uri": "https://localhost:8080/"
        },
        "outputId": "f6d5e400-9ec8-4ec0-a156-6a57ed9e4e1b"
      },
      "outputs": [
        {
          "output_type": "stream",
          "name": "stdout",
          "text": [
            "Target text: нуша курма ҫеҫ ҫуратрӑмшим сана хӗрӗм\n",
            "Input array shape: (62976,)\n",
            "Sampling rate: 16000\n"
          ]
        }
      ],
      "source": [
        "rand_int = random.randint(0, len(common_voice_train)-1)\n",
        "\n",
        "print(\"Target text:\", common_voice_train[rand_int][\"sentence\"])\n",
        "print(\"Input array shape:\", common_voice_train[rand_int][\"audio\"][\"array\"].shape)\n",
        "print(\"Sampling rate:\", common_voice_train[rand_int][\"audio\"][\"sampling_rate\"])"
      ]
    },
    {
      "cell_type": "markdown",
      "metadata": {
        "id": "M9teZcSwOBJ4"
      },
      "source": [
        "Good! Everything looks fine - the data is a 1-dimensional array, the sampling rate always corresponds to 16kHz, and the target text is normalized."
      ]
    },
    {
      "cell_type": "markdown",
      "metadata": {
        "id": "k3Pbn5WvOYZF"
      },
      "source": [
        "Finally, we can leverage `Wav2Vec2Processor` to process the data to the format expected by `Wav2Vec2ForCTC` for training. To do so let's make use of Dataset's [`map(...)`](https://huggingface.co/docs/datasets/package_reference/main_classes.html?highlight=map#datasets.DatasetDict.map) function.\n",
        "\n",
        "First, we load and resample the audio data, simply by calling `batch[\"audio\"]`.\n",
        "Second, we extract the `input_values` from the loaded audio file. In our case, the `Wav2Vec2Processor` only normalizes the data. For other speech models, however, this step can include more complex feature extraction, such as [Log-Mel feature extraction](https://en.wikipedia.org/wiki/Mel-frequency_cepstrum). \n",
        "Third, we encode the transcriptions to label ids.\n",
        "\n",
        "**Note**: This mapping function is a good example of how the `Wav2Vec2Processor` class should be used. In \"normal\" context, calling `processor(...)` is redirected to `Wav2Vec2FeatureExtractor`'s call method. When wrapping the processor into the `as_target_processor` context, however, the same method is redirected to `Wav2Vec2CTCTokenizer`'s call method.\n",
        "For more information please check the [docs](https://huggingface.co/transformers/master/model_doc/wav2vec2.html#transformers.Wav2Vec2Processor.__call__)."
      ]
    },
    {
      "cell_type": "code",
      "execution_count": null,
      "metadata": {
        "id": "eJY7I0XAwe9p"
      },
      "outputs": [],
      "source": [
        "def prepare_dataset(batch):\n",
        "    audio = batch[\"audio\"]\n",
        "\n",
        "    # batched output is \"un-batched\"\n",
        "    batch[\"input_values\"] = processor(audio[\"array\"], sampling_rate=audio[\"sampling_rate\"]).input_values[0]\n",
        "    batch[\"input_length\"] = len(batch[\"input_values\"])\n",
        "    \n",
        "    with processor.as_target_processor():\n",
        "        batch[\"labels\"] = processor(batch[\"sentence\"]).input_ids\n",
        "    return batch"
      ]
    },
    {
      "cell_type": "markdown",
      "metadata": {
        "id": "q6Pg_WR3OGAP"
      },
      "source": [
        "Let's apply the data preparation function to all examples."
      ]
    },
    {
      "cell_type": "code",
      "execution_count": null,
      "metadata": {
        "id": "-np9xYK-wl8q",
        "colab": {
          "base_uri": "https://localhost:8080/",
          "height": 81,
          "referenced_widgets": [
            "c421b6943f084dfcbb6b507238f694b4",
            "2a8f4bb2558c4818b20b5f6fb5dac0a7",
            "f46f9a726ca0426c86b2faccdc7c36c7",
            "2c08952383a041ee8b67d6880f1d9b06",
            "8b271f28daa548629baed3f9f5cf47ad",
            "33fa2c6ef5964188a4f2651e160d7c56",
            "21a7115cb1894164b1158835cfa5fb3b",
            "15f5cb9caf37475189128adc983c5634",
            "01f7332b285d49a1853e6f5df84bea67",
            "48b473a0ff0444148abaecb9693f7321",
            "0388d4062ae9406c97df861701fb5cea",
            "dc8aed0b7b9d42608723165105753f84",
            "02f3f8693e484bbc9014c5db4158137c",
            "5fa921a5557543d795246e554a0d13e2",
            "2d84f60434c2432b9658dc0aa94faf37",
            "9c1c04f7ca184f25acefe328fd2ccee9",
            "c846adc0e6cd4005a629b89cb044dfd6",
            "e12ff9cd7fc24775bcd8d98d96c2db57",
            "4c26532b1ef94212a400a4bf849ff374",
            "a1a3a6f443df4bada596de66eb98bed1",
            "ba9fc14e9eeb4eb384815fbfbe92bb9f",
            "010e57109aec47c0a7bd9261039820b2"
          ]
        },
        "outputId": "2a222e4c-fa04-4497-e08f-81bb40907466"
      },
      "outputs": [
        {
          "output_type": "display_data",
          "data": {
            "text/plain": [
              "0ex [00:00, ?ex/s]"
            ],
            "application/vnd.jupyter.widget-view+json": {
              "version_major": 2,
              "version_minor": 0,
              "model_id": "c421b6943f084dfcbb6b507238f694b4"
            }
          },
          "metadata": {}
        },
        {
          "output_type": "display_data",
          "data": {
            "text/plain": [
              "0ex [00:00, ?ex/s]"
            ],
            "application/vnd.jupyter.widget-view+json": {
              "version_major": 2,
              "version_minor": 0,
              "model_id": "dc8aed0b7b9d42608723165105753f84"
            }
          },
          "metadata": {}
        }
      ],
      "source": [
        "common_voice_train = common_voice_train.map(prepare_dataset, remove_columns=common_voice_train.column_names)\n",
        "common_voice_test = common_voice_test.map(prepare_dataset, remove_columns=common_voice_test.column_names)"
      ]
    },
    {
      "cell_type": "markdown",
      "metadata": {
        "id": "nKcEWHvKI1by"
      },
      "source": [
        "**Note**: Currently `datasets` make use of [`torchaudio`](https://pytorch.org/audio/stable/index.html) and [`librosa`](https://librosa.org/doc/latest/index.html) for audio loading and resampling. If you wish to implement your own costumized data loading/sampling, feel free to just make use of the `\"path\"` column instead and disregard the `\"audio\"` column."
      ]
    },
    {
      "cell_type": "markdown",
      "metadata": {
        "id": "24CxHd5ewI4T"
      },
      "source": [
        "Long input sequences require a lot of memory. XLS-R is based on `self-attention` the memory requirement scales quadratically with the input length for long input sequences (*cf.* with [this](https://www.reddit.com/r/MachineLearning/comments/genjvb/d_why_is_the_maximum_input_sequence_length_of/) reddit post). In case this demo crashes with an \"Out-of-memory\" error for you, you might want to uncomment the following lines to filter all sequences that are longer than 5 seconds for training."
      ]
    },
    {
      "cell_type": "code",
      "execution_count": null,
      "metadata": {
        "id": "tdHfbUJ_09iA"
      },
      "outputs": [],
      "source": [
        "#max_input_length_in_sec = 5.0\n",
        "#common_voice_train = common_voice_train.filter(lambda x: x < max_input_length_in_sec * processor.feature_extractor.sampling_rate, input_columns=[\"input_length\"])"
      ]
    },
    {
      "cell_type": "markdown",
      "metadata": {
        "id": "1ZWDCCKqwcfS"
      },
      "source": [
        "Awesome, now we are ready to start training!"
      ]
    },
    {
      "cell_type": "markdown",
      "metadata": {
        "id": "gYlQkKVoRUos"
      },
      "source": [
        "## Training\n",
        "\n",
        "The data is processed so that we are ready to start setting up the training pipeline. We will make use of 🤗's [Trainer](https://huggingface.co/transformers/master/main_classes/trainer.html?highlight=trainer) for which we essentially need to do the following:\n",
        "\n",
        "- Define a data collator. In contrast to most NLP models, XLS-R has a much larger input length than output length. *E.g.*, a sample of input length 50000 has an output length of no more than 100. Given the large input sizes, it is much more efficient to pad the training batches dynamically meaning that all training samples should only be padded to the longest sample in their batch and not the overall longest sample. Therefore, fine-tuning XLS-R requires a special padding data collator, which we will define below\n",
        "\n",
        "- Evaluation metric. During training, the model should be evaluated on the word error rate. We should define a `compute_metrics` function accordingly\n",
        "\n",
        "- Load a pretrained checkpoint. We need to load a pretrained checkpoint and configure it correctly for training.\n",
        "\n",
        "- Define the training configuration.\n",
        "\n",
        "After having fine-tuned the model, we will correctly evaluate it on the test data and verify that it has indeed learned to correctly transcribe speech."
      ]
    },
    {
      "cell_type": "markdown",
      "metadata": {
        "id": "Slk403unUS91"
      },
      "source": [
        "### Set-up Trainer\n",
        "\n",
        "Let's start by defining the data collator. The code for the data collator was copied from [this example](https://github.com/huggingface/transformers/blob/7e61d56a45c19284cfda0cee8995fb552f6b1f4e/examples/pytorch/speech-recognition/run_speech_recognition_ctc.py#L219).\n",
        "\n",
        "Without going into too many details, in contrast to the common data collators, this data collator treats the `input_values` and `labels` differently and thus applies to separate padding functions on them (again making use of XLS-R processor's context manager). This is necessary because in speech input and output are of different modalities meaning that they should not be treated by the same padding function.\n",
        "Analogous to the common data collators, the padding tokens in the labels with `-100` so that those tokens are **not** taken into account when computing the loss."
      ]
    },
    {
      "cell_type": "code",
      "execution_count": null,
      "metadata": {
        "id": "tborvC9hx88e"
      },
      "outputs": [],
      "source": [
        "import torch\n",
        "\n",
        "from dataclasses import dataclass, field\n",
        "from typing import Any, Dict, List, Optional, Union\n",
        "\n",
        "@dataclass\n",
        "class DataCollatorCTCWithPadding:\n",
        "    \"\"\"\n",
        "    Data collator that will dynamically pad the inputs received.\n",
        "    Args:\n",
        "        processor (:class:`~transformers.Wav2Vec2Processor`)\n",
        "            The processor used for proccessing the data.\n",
        "        padding (:obj:`bool`, :obj:`str` or :class:`~transformers.tokenization_utils_base.PaddingStrategy`, `optional`, defaults to :obj:`True`):\n",
        "            Select a strategy to pad the returned sequences (according to the model's padding side and padding index)\n",
        "            among:\n",
        "            * :obj:`True` or :obj:`'longest'`: Pad to the longest sequence in the batch (or no padding if only a single\n",
        "              sequence if provided).\n",
        "            * :obj:`'max_length'`: Pad to a maximum length specified with the argument :obj:`max_length` or to the\n",
        "              maximum acceptable input length for the model if that argument is not provided.\n",
        "            * :obj:`False` or :obj:`'do_not_pad'` (default): No padding (i.e., can output a batch with sequences of\n",
        "              different lengths).\n",
        "    \"\"\"\n",
        "\n",
        "    processor: Wav2Vec2Processor\n",
        "    padding: Union[bool, str] = True\n",
        "\n",
        "    def __call__(self, features: List[Dict[str, Union[List[int], torch.Tensor]]]) -> Dict[str, torch.Tensor]:\n",
        "        # split inputs and labels since they have to be of different lenghts and need\n",
        "        # different padding methods\n",
        "        input_features = [{\"input_values\": feature[\"input_values\"]} for feature in features]\n",
        "        label_features = [{\"input_ids\": feature[\"labels\"]} for feature in features]\n",
        "\n",
        "        batch = self.processor.pad(\n",
        "            input_features,\n",
        "            padding=self.padding,\n",
        "            return_tensors=\"pt\",\n",
        "        )\n",
        "        with self.processor.as_target_processor():\n",
        "            labels_batch = self.processor.pad(\n",
        "                label_features,\n",
        "                padding=self.padding,\n",
        "                return_tensors=\"pt\",\n",
        "            )\n",
        "\n",
        "        # replace padding with -100 to ignore loss correctly\n",
        "        labels = labels_batch[\"input_ids\"].masked_fill(labels_batch.attention_mask.ne(1), -100)\n",
        "\n",
        "        batch[\"labels\"] = labels\n",
        "\n",
        "        return batch"
      ]
    },
    {
      "cell_type": "code",
      "execution_count": null,
      "metadata": {
        "id": "lbQf5GuZyQ4_"
      },
      "outputs": [],
      "source": [
        "data_collator = DataCollatorCTCWithPadding(processor=processor, padding=True)"
      ]
    },
    {
      "cell_type": "markdown",
      "metadata": {
        "id": "xO-Zdj-5cxXp"
      },
      "source": [
        "Next, the evaluation metric is defined. As mentioned earlier, the \n",
        "predominant metric in ASR is the word error rate (WER), hence we will use it in this notebook as well."
      ]
    },
    {
      "cell_type": "code",
      "execution_count": null,
      "metadata": {
        "id": "9Xsux2gmyXso",
        "colab": {
          "base_uri": "https://localhost:8080/",
          "height": 49,
          "referenced_widgets": [
            "d33802d726d1422aa1276a0810ae9ea3",
            "899c7abb34934d98b9d4fbf18deeac2c",
            "887cd4c118bf4a9bbcb7ae8108989411",
            "a2707a3f8cca4951aeb1061940ba9e72",
            "cf5b53079ca445f59e878147b7961514",
            "c7e3525b73a0491287a8fa1c1e7d5c9e",
            "af4bf452c62048569ac09781cc6f761b",
            "8b9d2daa2acb48feb12f9bd5fd4caecb",
            "a49743635f14497fbab80aefe8fd5bfd",
            "56da0c570f6c4252aee31dfbc8fd32c9",
            "c9fa7715e8124cbabf76d6fcc4ca2d39"
          ]
        },
        "outputId": "7a57f29d-92e7-44f2-a8df-3c52998bdd15"
      },
      "outputs": [
        {
          "output_type": "display_data",
          "data": {
            "text/plain": [
              "Downloading:   0%|          | 0.00/1.90k [00:00<?, ?B/s]"
            ],
            "application/vnd.jupyter.widget-view+json": {
              "version_major": 2,
              "version_minor": 0,
              "model_id": "d33802d726d1422aa1276a0810ae9ea3"
            }
          },
          "metadata": {}
        }
      ],
      "source": [
        "wer_metric = load_metric(\"wer\")"
      ]
    },
    {
      "cell_type": "markdown",
      "metadata": {
        "id": "E1qZU5p-deqB"
      },
      "source": [
        "The model will return a sequence of logit vectors:\n",
        "$\\mathbf{y}_1, \\ldots, \\mathbf{y}_m$ with $\\mathbf{y}_1 = f_{\\theta}(x_1, \\ldots, x_n)[0]$ and $n >> m$.\n",
        "\n",
        "A logit vector $\\mathbf{y}_1$ contains the log-odds for each word in the vocabulary we defined earlier, thus $\\text{len}(\\mathbf{y}_i) =$ `config.vocab_size`. We are interested in the most likely prediction of the model and thus take the `argmax(...)` of the logits. Also, we transform the encoded labels back to the original string by replacing `-100` with the `pad_token_id` and decoding the ids while making sure that consecutive tokens are **not** grouped to the same token in CTC style ${}^1$."
      ]
    },
    {
      "cell_type": "code",
      "execution_count": null,
      "metadata": {
        "id": "1XZ-kjweyTy_"
      },
      "outputs": [],
      "source": [
        "def compute_metrics(pred):\n",
        "    pred_logits = pred.predictions\n",
        "    pred_ids = np.argmax(pred_logits, axis=-1)\n",
        "\n",
        "    pred.label_ids[pred.label_ids == -100] = processor.tokenizer.pad_token_id\n",
        "\n",
        "    pred_str = processor.batch_decode(pred_ids)\n",
        "    # we do not want to group tokens when computing the metrics\n",
        "    label_str = processor.batch_decode(pred.label_ids, group_tokens=False)\n",
        "\n",
        "    wer = wer_metric.compute(predictions=pred_str, references=label_str)\n",
        "\n",
        "    return {\"wer\": wer}"
      ]
    },
    {
      "cell_type": "markdown",
      "metadata": {
        "id": "Xmgrx4bRwLIH"
      },
      "source": [
        "Now, we can load the pretrained checkpoint of [Wav2Vec2-XLS-R-300M](https://huggingface.co/facebook/wav2vec2-xls-r-300m). The tokenizer's `pad_token_id` must be to define the model's `pad_token_id` or in the case of `Wav2Vec2ForCTC` also CTC's *blank token* ${}^2$. To save GPU memory, we enable PyTorch's [gradient checkpointing](https://pytorch.org/docs/stable/checkpoint.html) and also set the loss reduction to \"*mean*\".\n",
        "\n",
        "Because the dataset is quite small (~6h of training data) and because Common Voice is quite noisy, fine-tuning Facebook's [wav2vec2-xls-r-300m checkpoint](https://huggingface.co/facebook/wav2vec2-xls-r-300m) seems to require some hyper-parameter tuning. Therefore, I had to play around a bit with different values for dropout, [SpecAugment](https://arxiv.org/abs/1904.08779)'s masking dropout rate, layer dropout, and the learning rate until training seemed to be stable enough. \n",
        "\n",
        "**Note**: When using this notebook to train XLS-R on another language of Common Voice those hyper-parameter settings might not work very well. Feel free to adapt those depending on your use case. "
      ]
    },
    {
      "cell_type": "code",
      "execution_count": null,
      "metadata": {
        "id": "e7cqAWIayn6w"
      },
      "outputs": [],
      "source": [
        "from transformers import Wav2Vec2ForCTC\n",
        "\n",
        "model = Wav2Vec2ForCTC.from_pretrained(\n",
        "    \"facebook/wav2vec2-xls-r-300m\", \n",
        "    attention_dropout=0.0,\n",
        "    hidden_dropout=0.0,\n",
        "    feat_proj_dropout=0.0,\n",
        "    mask_time_prob=0.05,\n",
        "    layerdrop=0.0,\n",
        "    ctc_loss_reduction=\"mean\", \n",
        "    pad_token_id=processor.tokenizer.pad_token_id,\n",
        "    vocab_size=len(processor.tokenizer),\n",
        ")"
      ]
    },
    {
      "cell_type": "markdown",
      "metadata": {
        "id": "1DwR3XLSzGDD"
      },
      "source": [
        "The first component of XLS-R consists of a stack of CNN layers that are used to extract acoustically meaningful - but contextually independent - features from the raw speech signal. This part of the model has already been sufficiently trained during pretraining and as stated in the [paper](https://arxiv.org/pdf/2006.13979.pdf) does not need to be fine-tuned anymore. \n",
        "Thus, we can set the `requires_grad` to `False` for all parameters of the *feature extraction* part."
      ]
    },
    {
      "cell_type": "code",
      "execution_count": null,
      "metadata": {
        "id": "oGI8zObtZ3V0"
      },
      "outputs": [],
      "source": [
        "model.freeze_feature_extractor()"
      ]
    },
    {
      "cell_type": "markdown",
      "metadata": {
        "id": "lD4aGhQM0K-D"
      },
      "source": [
        "In a final step, we define all parameters related to training. \n",
        "To give more explanation on some of the parameters:\n",
        "- `group_by_length` makes training more efficient by grouping training samples of similar input length into one batch. This can significantly speed up training time by heavily reducing the overall number of useless padding tokens that are passed through the model\n",
        "- `learning_rate` and `weight_decay` were heuristically tuned until fine-tuning has become stable. Note that those parameters strongly depend on the Common Voice dataset and might be suboptimal for other speech datasets.\n",
        "\n",
        "For more explanations on other parameters, one can take a look at the [docs](https://huggingface.co/transformers/master/main_classes/trainer.html?highlight=trainer#trainingarguments).\n",
        "\n",
        "During training, a checkpoint will be uploaded asynchronously to the hub every 400 training steps. It allows you to also play around with the demo widget even while your model is still training.\n",
        "\n",
        "**Note**: If one does not want to upload the model checkpoints to the hub, simply set `push_to_hub=False`."
      ]
    },
    {
      "cell_type": "code",
      "execution_count": null,
      "metadata": {
        "id": "KbeKSV7uzGPP"
      },
      "outputs": [],
      "source": [
        "from transformers import TrainingArguments\n",
        "\n",
        "training_args = TrainingArguments(\n",
        "  output_dir=repo_name,\n",
        "  group_by_length=True,\n",
        "  per_device_train_batch_size=16,\n",
        "  gradient_accumulation_steps=2,\n",
        "  evaluation_strategy=\"steps\",\n",
        "  num_train_epochs=30,\n",
        "  gradient_checkpointing=True,\n",
        "  fp16=True,\n",
        "  save_steps=400,\n",
        "  eval_steps=400,\n",
        "  logging_steps=400,\n",
        "  learning_rate=3e-4,\n",
        "  warmup_steps=500,\n",
        "  save_total_limit=2,\n",
        "  push_to_hub=True,\n",
        ")"
      ]
    },
    {
      "cell_type": "markdown",
      "metadata": {
        "id": "OsW-WZcL1ZtN"
      },
      "source": [
        "Now, all instances can be passed to Trainer and we are ready to start training!"
      ]
    },
    {
      "cell_type": "code",
      "execution_count": null,
      "metadata": {
        "id": "rY7vBmFCPFgC",
        "colab": {
          "base_uri": "https://localhost:8080/"
        },
        "outputId": "49ea0763-f29a-42ef-f29b-7646507b613f"
      },
      "outputs": [
        {
          "output_type": "stream",
          "name": "stderr",
          "text": [
            "/usr/local/lib/python3.7/dist-packages/huggingface_hub/hf_api.py:718: FutureWarning: `create_repo` now takes `token` as an optional positional argument. Be sure to adapt your code!\n",
            "  FutureWarning,\n",
            "/content/wav2vec2-large-xls-r-300m-chuvash-colab is already a clone of https://huggingface.co/mizoru/wav2vec2-large-xls-r-300m-chuvash-colab. Make sure you pull the latest changes with `repo.git_pull()`.\n",
            "Using amp fp16 backend\n"
          ]
        }
      ],
      "source": [
        "from transformers import Trainer\n",
        "\n",
        "trainer = Trainer(\n",
        "    model=model,\n",
        "    data_collator=data_collator,\n",
        "    args=training_args,\n",
        "    compute_metrics=compute_metrics,\n",
        "    train_dataset=common_voice_train,\n",
        "    eval_dataset=common_voice_test,\n",
        "    tokenizer=processor.feature_extractor,\n",
        ")"
      ]
    },
    {
      "cell_type": "markdown",
      "metadata": {
        "id": "UoXBx1JAA0DX"
      },
      "source": [
        "\n",
        "\n",
        "---\n",
        "\n",
        "${}^1$ To allow models to become independent of the speaker rate, in CTC, consecutive tokens that are identical are simply grouped as a single token. However, the encoded labels should not be grouped when decoding since they don't correspond to the predicted tokens of the model, which is why the `group_tokens=False` parameter has to be passed. If we wouldn't pass this parameter a word like `\"hello\"` would incorrectly be encoded, and decoded as `\"helo\"`.\n",
        "\n",
        "${}^2$ The blank token allows the model to predict a word, such as `\"hello\"` by forcing it to insert the blank token between the two l's. A CTC-conform prediction of `\"hello\"` of our model would be `[PAD] [PAD] \"h\" \"e\" \"e\" \"l\" \"l\" [PAD] \"l\" \"o\" \"o\" [PAD]`."
      ]
    },
    {
      "cell_type": "markdown",
      "metadata": {
        "id": "rpvZHM1xReIW"
      },
      "source": [
        "### Training"
      ]
    },
    {
      "cell_type": "markdown",
      "metadata": {
        "id": "j-3oKSzZ1hGq"
      },
      "source": [
        "Training will take multiple hours depending on the GPU allocated to this notebook. While the trained model yields somewhat satisfying results on *Common Voice*'s test data of Turkish, it is by no means an optimally fine-tuned model. The purpose of this notebook is just to demonstrate how to fine-tune XLS-R on an ASR dataset.\n",
        "\n",
        "In case you want to use this google colab to fine-tune your model, you should make sure that your training doesn't stop due to inactivity. A simple hack to prevent this is to paste the following code into the console of this tab (*right mouse click -> inspect -> Console tab and insert code*)."
      ]
    },
    {
      "cell_type": "markdown",
      "metadata": {
        "id": "VYYAvgkW4P0m"
      },
      "source": [
        "```javascript\n",
        "function ConnectButton(){\n",
        "    console.log(\"Connect pushed\"); \n",
        "    document.querySelector(\"#top-toolbar > colab-connect-button\").shadowRoot.querySelector(\"#connect\").click() \n",
        "}\n",
        "setInterval(ConnectButton,60000);\n",
        "```"
      ]
    },
    {
      "cell_type": "markdown",
      "metadata": {
        "id": "7bGgLV2r0yvZ"
      },
      "source": [
        "Depending on what GPU was allocated to your google colab it might be possible that you are seeing an `\"out-of-memory\"` error here. In this case, it's probably best to reduce `per_device_train_batch_size` to 8 or even less and increase [`gradient_accumulation`](https://huggingface.co/transformers/master/main_classes/trainer.html#trainingarguments)."
      ]
    },
    {
      "cell_type": "code",
      "execution_count": null,
      "metadata": {
        "id": "9fRr9TG5pGBl",
        "colab": {
          "base_uri": "https://localhost:8080/",
          "height": 744
        },
        "outputId": "2269034e-7b31-468a-c3d1-4497b35fb993"
      },
      "outputs": [
        {
          "output_type": "stream",
          "name": "stderr",
          "text": [
            "The following columns in the training set  don't have a corresponding argument in `Wav2Vec2ForCTC.forward` and have been ignored: input_length.\n",
            "***** Running training *****\n",
            "  Num examples = 1749\n",
            "  Num Epochs = 30\n",
            "  Instantaneous batch size per device = 16\n",
            "  Total train batch size (w. parallel, distributed & accumulation) = 32\n",
            "  Gradient Accumulation steps = 2\n",
            "  Total optimization steps = 1650\n",
            "/usr/local/lib/python3.7/dist-packages/transformers/feature_extraction_utils.py:158: UserWarning: Creating a tensor from a list of numpy.ndarrays is extremely slow. Please consider converting the list to a single numpy.ndarray with numpy.array() before converting to a tensor. (Triggered internally at  ../torch/csrc/utils/tensor_new.cpp:201.)\n",
            "  tensor = as_tensor(value)\n",
            "/usr/local/lib/python3.7/dist-packages/transformers/models/wav2vec2/modeling_wav2vec2.py:882: UserWarning: __floordiv__ is deprecated, and its behavior will change in a future version of pytorch. It currently rounds toward 0 (like the 'trunc' function NOT 'floor'). This results in incorrect rounding for negative values. To keep the current behavior, use torch.div(a, b, rounding_mode='trunc'), or for actual floor division, use torch.div(a, b, rounding_mode='floor').\n",
            "  return (input_length - kernel_size) // stride + 1\n"
          ]
        },
        {
          "output_type": "display_data",
          "data": {
            "text/plain": [
              "<IPython.core.display.HTML object>"
            ],
            "text/html": [
              "\n",
              "    <div>\n",
              "      \n",
              "      <progress value='866' max='1650' style='width:300px; height:20px; vertical-align: middle;'></progress>\n",
              "      [ 866/1650 58:20 < 52:56, 0.25 it/s, Epoch 15.73/30]\n",
              "    </div>\n",
              "    <table border=\"1\" class=\"dataframe\">\n",
              "  <thead>\n",
              "    <tr style=\"text-align: left;\">\n",
              "      <th>Step</th>\n",
              "      <th>Training Loss</th>\n",
              "      <th>Validation Loss</th>\n",
              "      <th>Wer</th>\n",
              "    </tr>\n",
              "  </thead>\n",
              "  <tbody>\n",
              "    <tr>\n",
              "      <td>400</td>\n",
              "      <td>3.518100</td>\n",
              "      <td>0.651147</td>\n",
              "      <td>0.697637</td>\n",
              "    </tr>\n",
              "    <tr>\n",
              "      <td>800</td>\n",
              "      <td>0.290500</td>\n",
              "      <td>0.551044</td>\n",
              "      <td>0.531269</td>\n",
              "    </tr>\n",
              "  </tbody>\n",
              "</table><p>"
            ]
          },
          "metadata": {}
        },
        {
          "output_type": "stream",
          "name": "stderr",
          "text": [
            "The following columns in the evaluation set  don't have a corresponding argument in `Wav2Vec2ForCTC.forward` and have been ignored: input_length.\n",
            "***** Running Evaluation *****\n",
            "  Num examples = 788\n",
            "  Batch size = 8\n",
            "Saving model checkpoint to wav2vec2-large-xls-r-300m-chuvash-colab/checkpoint-400\n",
            "Configuration saved in wav2vec2-large-xls-r-300m-chuvash-colab/checkpoint-400/config.json\n",
            "Model weights saved in wav2vec2-large-xls-r-300m-chuvash-colab/checkpoint-400/pytorch_model.bin\n",
            "Configuration saved in wav2vec2-large-xls-r-300m-chuvash-colab/checkpoint-400/preprocessor_config.json\n",
            "Configuration saved in wav2vec2-large-xls-r-300m-chuvash-colab/preprocessor_config.json\n",
            "/usr/local/lib/python3.7/dist-packages/transformers/models/wav2vec2/modeling_wav2vec2.py:882: UserWarning: __floordiv__ is deprecated, and its behavior will change in a future version of pytorch. It currently rounds toward 0 (like the 'trunc' function NOT 'floor'). This results in incorrect rounding for negative values. To keep the current behavior, use torch.div(a, b, rounding_mode='trunc'), or for actual floor division, use torch.div(a, b, rounding_mode='floor').\n",
            "  return (input_length - kernel_size) // stride + 1\n",
            "The following columns in the evaluation set  don't have a corresponding argument in `Wav2Vec2ForCTC.forward` and have been ignored: input_length.\n",
            "***** Running Evaluation *****\n",
            "  Num examples = 788\n",
            "  Batch size = 8\n",
            "Saving model checkpoint to wav2vec2-large-xls-r-300m-chuvash-colab/checkpoint-800\n",
            "Configuration saved in wav2vec2-large-xls-r-300m-chuvash-colab/checkpoint-800/config.json\n",
            "Model weights saved in wav2vec2-large-xls-r-300m-chuvash-colab/checkpoint-800/pytorch_model.bin\n",
            "Configuration saved in wav2vec2-large-xls-r-300m-chuvash-colab/checkpoint-800/preprocessor_config.json\n",
            "/usr/local/lib/python3.7/dist-packages/transformers/models/wav2vec2/modeling_wav2vec2.py:882: UserWarning: __floordiv__ is deprecated, and its behavior will change in a future version of pytorch. It currently rounds toward 0 (like the 'trunc' function NOT 'floor'). This results in incorrect rounding for negative values. To keep the current behavior, use torch.div(a, b, rounding_mode='trunc'), or for actual floor division, use torch.div(a, b, rounding_mode='floor').\n",
            "  return (input_length - kernel_size) // stride + 1\n"
          ]
        }
      ],
      "source": [
        "trainer.train()"
      ]
    },
    {
      "cell_type": "markdown",
      "metadata": {
        "id": "a9q4mgMZplr_"
      },
      "source": [
        "The training loss and validation WER go down nicely."
      ]
    },
    {
      "cell_type": "markdown",
      "metadata": {
        "id": "4Ya7WEy0pd13"
      },
      "source": [
        "You can now upload the result of the training to the 🤗 Hub, just execute this instruction:"
      ]
    },
    {
      "cell_type": "code",
      "execution_count": null,
      "metadata": {
        "id": "ArG1Thf6NBWm"
      },
      "outputs": [],
      "source": [
        "trainer.push_to_hub()"
      ]
    },
    {
      "cell_type": "markdown",
      "metadata": {
        "id": "RHIVc44_fY2N"
      },
      "source": [
        "You can now share this model with all your friends, family, favorite pets: they can all load it with the identifier \"your-username/the-name-you-picked\" so for instance:"
      ]
    },
    {
      "cell_type": "markdown",
      "metadata": {
        "id": "5lWWIKyBpx1h"
      },
      "source": [
        "```python\n",
        "from transformers import AutoModelForCTC, Wav2Vec2Processor\n",
        "\n",
        "model = AutoModelForCTC.from_pretrained(\"patrickvonplaten/wav2vec2-large-xls-r-300m-tr-colab\")\n",
        "processor = Wav2Vec2Processor.from_pretrained(\"patrickvonplaten/wav2vec2-large-xls-r-300m-tr-colab\")\n",
        "```"
      ]
    },
    {
      "cell_type": "code",
      "source": [
        "from transformers import AutoModelForCTC, Wav2Vec2Processor\n",
        "\n",
        "model = AutoModelForCTC.from_pretrained(\"patrickvonplaten/wav2vec2-large-xls-r-300m-tr-colab\")\n",
        "processor = Wav2Vec2Processor.from_pretrained(\"patrickvonplaten/wav2vec2-large-xls-r-300m-tr-colab\")\n"
      ],
      "metadata": {
        "colab": {
          "base_uri": "https://localhost:8080/",
          "height": 710
        },
        "id": "3GeoO-5G38te",
        "outputId": "e7ca2d08-e773-4fb5-f3a8-4a40ec9cd67e"
      },
      "execution_count": null,
      "outputs": [
        {
          "output_type": "stream",
          "name": "stderr",
          "text": [
            "404 Client Error: Not Found for url: https://huggingface.co/patrickvonplaten/wav2vec2-large-xls-r-300m-tr-colab/resolve/main/config.json\n"
          ]
        },
        {
          "output_type": "error",
          "ename": "OSError",
          "evalue": "ignored",
          "traceback": [
            "\u001b[0;31m---------------------------------------------------------------------------\u001b[0m",
            "\u001b[0;31mHTTPError\u001b[0m                                 Traceback (most recent call last)",
            "\u001b[0;32m/usr/local/lib/python3.7/dist-packages/transformers/configuration_utils.py\u001b[0m in \u001b[0;36mget_config_dict\u001b[0;34m(cls, pretrained_model_name_or_path, **kwargs)\u001b[0m\n\u001b[1;32m    553\u001b[0m                 \u001b[0muse_auth_token\u001b[0m\u001b[0;34m=\u001b[0m\u001b[0muse_auth_token\u001b[0m\u001b[0;34m,\u001b[0m\u001b[0;34m\u001b[0m\u001b[0;34m\u001b[0m\u001b[0m\n\u001b[0;32m--> 554\u001b[0;31m                 \u001b[0muser_agent\u001b[0m\u001b[0;34m=\u001b[0m\u001b[0muser_agent\u001b[0m\u001b[0;34m,\u001b[0m\u001b[0;34m\u001b[0m\u001b[0;34m\u001b[0m\u001b[0m\n\u001b[0m\u001b[1;32m    555\u001b[0m             )\n",
            "\u001b[0;32m/usr/local/lib/python3.7/dist-packages/transformers/file_utils.py\u001b[0m in \u001b[0;36mcached_path\u001b[0;34m(url_or_filename, cache_dir, force_download, proxies, resume_download, user_agent, extract_compressed_file, force_extract, use_auth_token, local_files_only)\u001b[0m\n\u001b[1;32m   1409\u001b[0m             \u001b[0muse_auth_token\u001b[0m\u001b[0;34m=\u001b[0m\u001b[0muse_auth_token\u001b[0m\u001b[0;34m,\u001b[0m\u001b[0;34m\u001b[0m\u001b[0;34m\u001b[0m\u001b[0m\n\u001b[0;32m-> 1410\u001b[0;31m             \u001b[0mlocal_files_only\u001b[0m\u001b[0;34m=\u001b[0m\u001b[0mlocal_files_only\u001b[0m\u001b[0;34m,\u001b[0m\u001b[0;34m\u001b[0m\u001b[0;34m\u001b[0m\u001b[0m\n\u001b[0m\u001b[1;32m   1411\u001b[0m         )\n",
            "\u001b[0;32m/usr/local/lib/python3.7/dist-packages/transformers/file_utils.py\u001b[0m in \u001b[0;36mget_from_cache\u001b[0;34m(url, cache_dir, force_download, proxies, etag_timeout, resume_download, user_agent, use_auth_token, local_files_only)\u001b[0m\n\u001b[1;32m   1573\u001b[0m             \u001b[0mr\u001b[0m \u001b[0;34m=\u001b[0m \u001b[0mrequests\u001b[0m\u001b[0;34m.\u001b[0m\u001b[0mhead\u001b[0m\u001b[0;34m(\u001b[0m\u001b[0murl\u001b[0m\u001b[0;34m,\u001b[0m \u001b[0mheaders\u001b[0m\u001b[0;34m=\u001b[0m\u001b[0mheaders\u001b[0m\u001b[0;34m,\u001b[0m \u001b[0mallow_redirects\u001b[0m\u001b[0;34m=\u001b[0m\u001b[0;32mFalse\u001b[0m\u001b[0;34m,\u001b[0m \u001b[0mproxies\u001b[0m\u001b[0;34m=\u001b[0m\u001b[0mproxies\u001b[0m\u001b[0;34m,\u001b[0m \u001b[0mtimeout\u001b[0m\u001b[0;34m=\u001b[0m\u001b[0metag_timeout\u001b[0m\u001b[0;34m)\u001b[0m\u001b[0;34m\u001b[0m\u001b[0;34m\u001b[0m\u001b[0m\n\u001b[0;32m-> 1574\u001b[0;31m             \u001b[0mr\u001b[0m\u001b[0;34m.\u001b[0m\u001b[0mraise_for_status\u001b[0m\u001b[0;34m(\u001b[0m\u001b[0;34m)\u001b[0m\u001b[0;34m\u001b[0m\u001b[0;34m\u001b[0m\u001b[0m\n\u001b[0m\u001b[1;32m   1575\u001b[0m             \u001b[0metag\u001b[0m \u001b[0;34m=\u001b[0m \u001b[0mr\u001b[0m\u001b[0;34m.\u001b[0m\u001b[0mheaders\u001b[0m\u001b[0;34m.\u001b[0m\u001b[0mget\u001b[0m\u001b[0;34m(\u001b[0m\u001b[0;34m\"X-Linked-Etag\"\u001b[0m\u001b[0;34m)\u001b[0m \u001b[0;32mor\u001b[0m \u001b[0mr\u001b[0m\u001b[0;34m.\u001b[0m\u001b[0mheaders\u001b[0m\u001b[0;34m.\u001b[0m\u001b[0mget\u001b[0m\u001b[0;34m(\u001b[0m\u001b[0;34m\"ETag\"\u001b[0m\u001b[0;34m)\u001b[0m\u001b[0;34m\u001b[0m\u001b[0;34m\u001b[0m\u001b[0m\n",
            "\u001b[0;32m/usr/local/lib/python3.7/dist-packages/requests/models.py\u001b[0m in \u001b[0;36mraise_for_status\u001b[0;34m(self)\u001b[0m\n\u001b[1;32m    940\u001b[0m         \u001b[0;32mif\u001b[0m \u001b[0mhttp_error_msg\u001b[0m\u001b[0;34m:\u001b[0m\u001b[0;34m\u001b[0m\u001b[0;34m\u001b[0m\u001b[0m\n\u001b[0;32m--> 941\u001b[0;31m             \u001b[0;32mraise\u001b[0m \u001b[0mHTTPError\u001b[0m\u001b[0;34m(\u001b[0m\u001b[0mhttp_error_msg\u001b[0m\u001b[0;34m,\u001b[0m \u001b[0mresponse\u001b[0m\u001b[0;34m=\u001b[0m\u001b[0mself\u001b[0m\u001b[0;34m)\u001b[0m\u001b[0;34m\u001b[0m\u001b[0;34m\u001b[0m\u001b[0m\n\u001b[0m\u001b[1;32m    942\u001b[0m \u001b[0;34m\u001b[0m\u001b[0m\n",
            "\u001b[0;31mHTTPError\u001b[0m: 404 Client Error: Not Found for url: https://huggingface.co/patrickvonplaten/wav2vec2-large-xls-r-300m-tr-colab/resolve/main/config.json",
            "\nDuring handling of the above exception, another exception occurred:\n",
            "\u001b[0;31mOSError\u001b[0m                                   Traceback (most recent call last)",
            "\u001b[0;32m<ipython-input-7-c7c16a6a7bd8>\u001b[0m in \u001b[0;36m<module>\u001b[0;34m()\u001b[0m\n\u001b[1;32m      1\u001b[0m \u001b[0;32mfrom\u001b[0m \u001b[0mtransformers\u001b[0m \u001b[0;32mimport\u001b[0m \u001b[0mAutoModelForCTC\u001b[0m\u001b[0;34m,\u001b[0m \u001b[0mWav2Vec2Processor\u001b[0m\u001b[0;34m\u001b[0m\u001b[0;34m\u001b[0m\u001b[0m\n\u001b[1;32m      2\u001b[0m \u001b[0;34m\u001b[0m\u001b[0m\n\u001b[0;32m----> 3\u001b[0;31m \u001b[0mmodel\u001b[0m \u001b[0;34m=\u001b[0m \u001b[0mAutoModelForCTC\u001b[0m\u001b[0;34m.\u001b[0m\u001b[0mfrom_pretrained\u001b[0m\u001b[0;34m(\u001b[0m\u001b[0;34m\"patrickvonplaten/wav2vec2-large-xls-r-300m-tr-colab\"\u001b[0m\u001b[0;34m)\u001b[0m\u001b[0;34m\u001b[0m\u001b[0;34m\u001b[0m\u001b[0m\n\u001b[0m\u001b[1;32m      4\u001b[0m \u001b[0mprocessor\u001b[0m \u001b[0;34m=\u001b[0m \u001b[0mWav2Vec2Processor\u001b[0m\u001b[0;34m.\u001b[0m\u001b[0mfrom_pretrained\u001b[0m\u001b[0;34m(\u001b[0m\u001b[0;34m\"patrickvonplaten/wav2vec2-large-xls-r-300m-tr-colab\"\u001b[0m\u001b[0;34m)\u001b[0m\u001b[0;34m\u001b[0m\u001b[0;34m\u001b[0m\u001b[0m\n",
            "\u001b[0;32m/usr/local/lib/python3.7/dist-packages/transformers/models/auto/auto_factory.py\u001b[0m in \u001b[0;36mfrom_pretrained\u001b[0;34m(cls, pretrained_model_name_or_path, *model_args, **kwargs)\u001b[0m\n\u001b[1;32m    395\u001b[0m         \u001b[0;32mif\u001b[0m \u001b[0;32mnot\u001b[0m \u001b[0misinstance\u001b[0m\u001b[0;34m(\u001b[0m\u001b[0mconfig\u001b[0m\u001b[0;34m,\u001b[0m \u001b[0mPretrainedConfig\u001b[0m\u001b[0;34m)\u001b[0m\u001b[0;34m:\u001b[0m\u001b[0;34m\u001b[0m\u001b[0;34m\u001b[0m\u001b[0m\n\u001b[1;32m    396\u001b[0m             config, kwargs = AutoConfig.from_pretrained(\n\u001b[0;32m--> 397\u001b[0;31m                 \u001b[0mpretrained_model_name_or_path\u001b[0m\u001b[0;34m,\u001b[0m \u001b[0mreturn_unused_kwargs\u001b[0m\u001b[0;34m=\u001b[0m\u001b[0;32mTrue\u001b[0m\u001b[0;34m,\u001b[0m \u001b[0;34m**\u001b[0m\u001b[0mkwargs\u001b[0m\u001b[0;34m\u001b[0m\u001b[0;34m\u001b[0m\u001b[0m\n\u001b[0m\u001b[1;32m    398\u001b[0m             )\n\u001b[1;32m    399\u001b[0m         \u001b[0;32mif\u001b[0m \u001b[0mhasattr\u001b[0m\u001b[0;34m(\u001b[0m\u001b[0mconfig\u001b[0m\u001b[0;34m,\u001b[0m \u001b[0;34m\"auto_map\"\u001b[0m\u001b[0;34m)\u001b[0m \u001b[0;32mand\u001b[0m \u001b[0mcls\u001b[0m\u001b[0;34m.\u001b[0m\u001b[0m__name__\u001b[0m \u001b[0;32min\u001b[0m \u001b[0mconfig\u001b[0m\u001b[0;34m.\u001b[0m\u001b[0mauto_map\u001b[0m\u001b[0;34m:\u001b[0m\u001b[0;34m\u001b[0m\u001b[0;34m\u001b[0m\u001b[0m\n",
            "\u001b[0;32m/usr/local/lib/python3.7/dist-packages/transformers/models/auto/configuration_auto.py\u001b[0m in \u001b[0;36mfrom_pretrained\u001b[0;34m(cls, pretrained_model_name_or_path, **kwargs)\u001b[0m\n\u001b[1;32m    525\u001b[0m         \"\"\"\n\u001b[1;32m    526\u001b[0m         \u001b[0mkwargs\u001b[0m\u001b[0;34m[\u001b[0m\u001b[0;34m\"_from_auto\"\u001b[0m\u001b[0;34m]\u001b[0m \u001b[0;34m=\u001b[0m \u001b[0;32mTrue\u001b[0m\u001b[0;34m\u001b[0m\u001b[0;34m\u001b[0m\u001b[0m\n\u001b[0;32m--> 527\u001b[0;31m         \u001b[0mconfig_dict\u001b[0m\u001b[0;34m,\u001b[0m \u001b[0m_\u001b[0m \u001b[0;34m=\u001b[0m \u001b[0mPretrainedConfig\u001b[0m\u001b[0;34m.\u001b[0m\u001b[0mget_config_dict\u001b[0m\u001b[0;34m(\u001b[0m\u001b[0mpretrained_model_name_or_path\u001b[0m\u001b[0;34m,\u001b[0m \u001b[0;34m**\u001b[0m\u001b[0mkwargs\u001b[0m\u001b[0;34m)\u001b[0m\u001b[0;34m\u001b[0m\u001b[0;34m\u001b[0m\u001b[0m\n\u001b[0m\u001b[1;32m    528\u001b[0m         \u001b[0;32mif\u001b[0m \u001b[0;34m\"model_type\"\u001b[0m \u001b[0;32min\u001b[0m \u001b[0mconfig_dict\u001b[0m\u001b[0;34m:\u001b[0m\u001b[0;34m\u001b[0m\u001b[0;34m\u001b[0m\u001b[0m\n\u001b[1;32m    529\u001b[0m             \u001b[0mconfig_class\u001b[0m \u001b[0;34m=\u001b[0m \u001b[0mCONFIG_MAPPING\u001b[0m\u001b[0;34m[\u001b[0m\u001b[0mconfig_dict\u001b[0m\u001b[0;34m[\u001b[0m\u001b[0;34m\"model_type\"\u001b[0m\u001b[0;34m]\u001b[0m\u001b[0;34m]\u001b[0m\u001b[0;34m\u001b[0m\u001b[0;34m\u001b[0m\u001b[0m\n",
            "\u001b[0;32m/usr/local/lib/python3.7/dist-packages/transformers/configuration_utils.py\u001b[0m in \u001b[0;36mget_config_dict\u001b[0;34m(cls, pretrained_model_name_or_path, **kwargs)\u001b[0m\n\u001b[1;32m    568\u001b[0m                 \u001b[0mmsg\u001b[0m \u001b[0;34m+=\u001b[0m \u001b[0;34mf\"- or '{revision}' is a valid git identifier (branch name, a tag name, or a commit id) that exists for this model name as listed on its model page on 'https://huggingface.co/models'\\n\\n\"\u001b[0m\u001b[0;34m\u001b[0m\u001b[0;34m\u001b[0m\u001b[0m\n\u001b[1;32m    569\u001b[0m \u001b[0;34m\u001b[0m\u001b[0m\n\u001b[0;32m--> 570\u001b[0;31m             \u001b[0;32mraise\u001b[0m \u001b[0mEnvironmentError\u001b[0m\u001b[0;34m(\u001b[0m\u001b[0mmsg\u001b[0m\u001b[0;34m)\u001b[0m\u001b[0;34m\u001b[0m\u001b[0;34m\u001b[0m\u001b[0m\n\u001b[0m\u001b[1;32m    571\u001b[0m \u001b[0;34m\u001b[0m\u001b[0m\n\u001b[1;32m    572\u001b[0m         \u001b[0;32mexcept\u001b[0m \u001b[0;34m(\u001b[0m\u001b[0mjson\u001b[0m\u001b[0;34m.\u001b[0m\u001b[0mJSONDecodeError\u001b[0m\u001b[0;34m,\u001b[0m \u001b[0mUnicodeDecodeError\u001b[0m\u001b[0;34m)\u001b[0m\u001b[0;34m:\u001b[0m\u001b[0;34m\u001b[0m\u001b[0;34m\u001b[0m\u001b[0m\n",
            "\u001b[0;31mOSError\u001b[0m: Can't load config for 'patrickvonplaten/wav2vec2-large-xls-r-300m-tr-colab'. Make sure that:\n\n- 'patrickvonplaten/wav2vec2-large-xls-r-300m-tr-colab' is a correct model identifier listed on 'https://huggingface.co/models'\n\n- or 'patrickvonplaten/wav2vec2-large-xls-r-300m-tr-colab' is the correct path to a directory containing a config.json file\n\n"
          ]
        }
      ]
    },
    {
      "cell_type": "markdown",
      "metadata": {
        "id": "pmi1cX0fRBit"
      },
      "source": [
        "For more examples of how XLS-R can be fine-tuned, please take a look at the [official speech recognition examples](https://github.com/huggingface/transformers/tree/master/examples/pytorch/speech-recognition#examples)."
      ]
    },
    {
      "cell_type": "markdown",
      "metadata": {
        "id": "L8b8Qkoy3KyS"
      },
      "source": [
        "### Evaluation\n",
        "\n",
        "As a final check, let's load the model and verify that it indeed has learned to transcribe Turkish speech.\n",
        "\n",
        "Let's first load the pretrained checkpoint."
      ]
    },
    {
      "cell_type": "code",
      "execution_count": null,
      "metadata": {
        "id": "R351I9IQp_9D",
        "colab": {
          "base_uri": "https://localhost:8080/",
          "height": 186
        },
        "outputId": "566444b0-0647-44b4-b072-0c59ae931f85"
      },
      "outputs": [
        {
          "output_type": "error",
          "ename": "NameError",
          "evalue": "ignored",
          "traceback": [
            "\u001b[0;31m---------------------------------------------------------------------------\u001b[0m",
            "\u001b[0;31mNameError\u001b[0m                                 Traceback (most recent call last)",
            "\u001b[0;32m<ipython-input-1-09c8e4eaa16c>\u001b[0m in \u001b[0;36m<module>\u001b[0;34m()\u001b[0m\n\u001b[0;32m----> 1\u001b[0;31m \u001b[0mmodel\u001b[0m \u001b[0;34m=\u001b[0m \u001b[0mWav2Vec2ForCTC\u001b[0m\u001b[0;34m.\u001b[0m\u001b[0mfrom_pretrained\u001b[0m\u001b[0;34m(\u001b[0m\u001b[0mrepo_name\u001b[0m\u001b[0;34m)\u001b[0m\u001b[0;34m.\u001b[0m\u001b[0mto\u001b[0m\u001b[0;34m(\u001b[0m\u001b[0;34m\"cuda\"\u001b[0m\u001b[0;34m)\u001b[0m\u001b[0;34m\u001b[0m\u001b[0;34m\u001b[0m\u001b[0m\n\u001b[0m\u001b[1;32m      2\u001b[0m \u001b[0mprocessor\u001b[0m \u001b[0;34m=\u001b[0m \u001b[0mWav2Vec2Processor\u001b[0m\u001b[0;34m.\u001b[0m\u001b[0mfrom_pretrained\u001b[0m\u001b[0;34m(\u001b[0m\u001b[0mrepo_name\u001b[0m\u001b[0;34m)\u001b[0m\u001b[0;34m\u001b[0m\u001b[0;34m\u001b[0m\u001b[0m\n",
            "\u001b[0;31mNameError\u001b[0m: name 'Wav2Vec2ForCTC' is not defined"
          ]
        }
      ],
      "source": [
        "model = Wav2Vec2ForCTC.from_pretrained(repo_name).to(\"cuda\")\n",
        "processor = Wav2Vec2Processor.from_pretrained(repo_name)"
      ]
    },
    {
      "cell_type": "markdown",
      "metadata": {
        "id": "jD7TZ1YS3S_K"
      },
      "source": [
        "\n",
        "Now, we will just take the first example of the test set, run it through the model and take the `argmax(...)` of the logits to retrieve the predicted token ids."
      ]
    },
    {
      "cell_type": "code",
      "execution_count": null,
      "metadata": {
        "id": "pax07TnL3WZn"
      },
      "outputs": [],
      "source": [
        "input_dict = processor(common_voice_test[0][\"input_values\"], return_tensors=\"pt\", padding=True)\n",
        "\n",
        "logits = model(input_dict.input_values.to(\"cuda\")).logits\n",
        "\n",
        "pred_ids = torch.argmax(logits, dim=-1)[0]"
      ]
    },
    {
      "cell_type": "markdown",
      "metadata": {
        "id": "7nkzSQu53Zs2"
      },
      "source": [
        "We adapted `common_voice_test` quite a bit so that the dataset instance does not contain the original sentence label anymore. Thus, we re-use the original dataset to get the label of the first example."
      ]
    },
    {
      "cell_type": "code",
      "execution_count": null,
      "metadata": {
        "id": "fe2AE-2xqKHx"
      },
      "outputs": [],
      "source": [
        "common_voice_test_transcription = load_dataset(\"common_voice\", \"tr\", data_dir=\"./cv-corpus-6.1-2020-12-11\", split=\"test\")"
      ]
    },
    {
      "cell_type": "markdown",
      "metadata": {
        "id": "epu8kCQZ3h70"
      },
      "source": [
        "\n",
        "Finally, we can decode the example."
      ]
    },
    {
      "cell_type": "code",
      "execution_count": null,
      "metadata": {
        "id": "K4xWqmk_qMn0"
      },
      "outputs": [],
      "source": [
        "print(\"Prediction:\")\n",
        "print(processor.decode(pred_ids))\n",
        "\n",
        "print(\"\\nReference:\")\n",
        "print(common_voice_test_transcription[0][\"sentence\"].lower())"
      ]
    },
    {
      "cell_type": "markdown",
      "metadata": {
        "id": "HwhyoMml3oOT"
      },
      "source": [
        "Alright! The transcription can definitely be recognized from our prediction, but it is not perfect yet. Training the model a bit longer, spending more time on the data preprocessing, and especially using a language model for decoding would certainly improve the model's overall performance.\n",
        "\n",
        "For a demonstration model on a low-resource language, the results are quite acceptable however 🤗."
      ]
    }
  ],
  "metadata": {
    "accelerator": "GPU",
    "colab": {
      "collapsed_sections": [],
      "machine_shape": "hm",
      "name": "Copy of Fine-Tune XLS-R on Common Voice.ipynb",
      "provenance": []
    },
    "kernelspec": {
      "display_name": "Python 3",
      "name": "python3"
    },
    "widgets": {
      "application/vnd.jupyter.widget-state+json": {
        "02b79a7d19054d80908f1959eea5be59": {
          "model_module": "@jupyter-widgets/controls",
          "model_module_version": "1.5.0",
          "model_name": "HBoxModel",
          "state": {
            "_dom_classes": [],
            "_model_module": "@jupyter-widgets/controls",
            "_model_module_version": "1.5.0",
            "_model_name": "HBoxModel",
            "_view_count": null,
            "_view_module": "@jupyter-widgets/controls",
            "_view_module_version": "1.5.0",
            "_view_name": "HBoxView",
            "box_style": "",
            "children": [
              "IPY_MODEL_b67804da9d234be7a12a5621cd3c402d",
              "IPY_MODEL_b07be89bf9db4d52b524e543f619349c",
              "IPY_MODEL_930153a932ae4ce7b7832eef2b30b68e"
            ],
            "layout": "IPY_MODEL_1110c7c27fc34e29b678e8440d1d9781"
          }
        },
        "045ce8d1c028466eac3dc8460390c551": {
          "model_module": "@jupyter-widgets/controls",
          "model_module_version": "1.5.0",
          "model_name": "FloatProgressModel",
          "state": {
            "_dom_classes": [],
            "_model_module": "@jupyter-widgets/controls",
            "_model_module_version": "1.5.0",
            "_model_name": "FloatProgressModel",
            "_view_count": null,
            "_view_module": "@jupyter-widgets/controls",
            "_view_module_version": "1.5.0",
            "_view_name": "ProgressView",
            "bar_style": "success",
            "description": "",
            "description_tooltip": null,
            "layout": "IPY_MODEL_2e97a45690294fa1ad2ecdeb71bab7f8",
            "max": 439329081,
            "min": 0,
            "orientation": "horizontal",
            "style": "IPY_MODEL_7453d43f3525473f869362e65e305ac4",
            "value": 439329081
          }
        },
        "0570fe31b4db471399a9c1c1088411d6": {
          "model_module": "@jupyter-widgets/controls",
          "model_module_version": "1.5.0",
          "model_name": "HBoxModel",
          "state": {
            "_dom_classes": [],
            "_model_module": "@jupyter-widgets/controls",
            "_model_module_version": "1.5.0",
            "_model_name": "HBoxModel",
            "_view_count": null,
            "_view_module": "@jupyter-widgets/controls",
            "_view_module_version": "1.5.0",
            "_view_name": "HBoxView",
            "box_style": "",
            "children": [
              "IPY_MODEL_61d308e33ff54a4485e131b66db78426",
              "IPY_MODEL_48b2e60a81344b3482cca9ecac6a5af2",
              "IPY_MODEL_9d3faf8d6e3a441c89d1a1e1520f45a5"
            ],
            "layout": "IPY_MODEL_50dd763c375a4f9796f4af9eee4a9294"
          }
        },
        "0b8a79b13240422e9800008330f5fb8e": {
          "model_module": "@jupyter-widgets/base",
          "model_module_version": "1.2.0",
          "model_name": "LayoutModel",
          "state": {
            "_model_module": "@jupyter-widgets/base",
            "_model_module_version": "1.2.0",
            "_model_name": "LayoutModel",
            "_view_count": null,
            "_view_module": "@jupyter-widgets/base",
            "_view_module_version": "1.2.0",
            "_view_name": "LayoutView",
            "align_content": null,
            "align_items": null,
            "align_self": null,
            "border": null,
            "bottom": null,
            "display": null,
            "flex": null,
            "flex_flow": null,
            "grid_area": null,
            "grid_auto_columns": null,
            "grid_auto_flow": null,
            "grid_auto_rows": null,
            "grid_column": null,
            "grid_gap": null,
            "grid_row": null,
            "grid_template_areas": null,
            "grid_template_columns": null,
            "grid_template_rows": null,
            "height": null,
            "justify_content": null,
            "justify_items": null,
            "left": null,
            "margin": null,
            "max_height": null,
            "max_width": null,
            "min_height": null,
            "min_width": null,
            "object_fit": null,
            "object_position": null,
            "order": null,
            "overflow": null,
            "overflow_x": null,
            "overflow_y": null,
            "padding": null,
            "right": null,
            "top": null,
            "visibility": null,
            "width": null
          }
        },
        "0da16f1feedb4d0b96c3e747c545676e": {
          "model_module": "@jupyter-widgets/controls",
          "model_module_version": "1.5.0",
          "model_name": "DescriptionStyleModel",
          "state": {
            "_model_module": "@jupyter-widgets/controls",
            "_model_module_version": "1.5.0",
            "_model_name": "DescriptionStyleModel",
            "_view_count": null,
            "_view_module": "@jupyter-widgets/base",
            "_view_module_version": "1.2.0",
            "_view_name": "StyleView",
            "description_width": ""
          }
        },
        "0dcb256ac9c440829b842bb7ccd1d57b": {
          "model_module": "@jupyter-widgets/base",
          "model_module_version": "1.2.0",
          "model_name": "LayoutModel",
          "state": {
            "_model_module": "@jupyter-widgets/base",
            "_model_module_version": "1.2.0",
            "_model_name": "LayoutModel",
            "_view_count": null,
            "_view_module": "@jupyter-widgets/base",
            "_view_module_version": "1.2.0",
            "_view_name": "LayoutView",
            "align_content": null,
            "align_items": null,
            "align_self": null,
            "border": null,
            "bottom": null,
            "display": null,
            "flex": null,
            "flex_flow": null,
            "grid_area": null,
            "grid_auto_columns": null,
            "grid_auto_flow": null,
            "grid_auto_rows": null,
            "grid_column": null,
            "grid_gap": null,
            "grid_row": null,
            "grid_template_areas": null,
            "grid_template_columns": null,
            "grid_template_rows": null,
            "height": null,
            "justify_content": null,
            "justify_items": null,
            "left": null,
            "margin": null,
            "max_height": null,
            "max_width": null,
            "min_height": null,
            "min_width": null,
            "object_fit": null,
            "object_position": null,
            "order": null,
            "overflow": null,
            "overflow_x": null,
            "overflow_y": null,
            "padding": null,
            "right": null,
            "top": null,
            "visibility": null,
            "width": "20px"
          }
        },
        "0dce6143fb424b5a82819f811bfe9bd4": {
          "model_module": "@jupyter-widgets/base",
          "model_module_version": "1.2.0",
          "model_name": "LayoutModel",
          "state": {
            "_model_module": "@jupyter-widgets/base",
            "_model_module_version": "1.2.0",
            "_model_name": "LayoutModel",
            "_view_count": null,
            "_view_module": "@jupyter-widgets/base",
            "_view_module_version": "1.2.0",
            "_view_name": "LayoutView",
            "align_content": null,
            "align_items": null,
            "align_self": null,
            "border": null,
            "bottom": null,
            "display": null,
            "flex": null,
            "flex_flow": null,
            "grid_area": null,
            "grid_auto_columns": null,
            "grid_auto_flow": null,
            "grid_auto_rows": null,
            "grid_column": null,
            "grid_gap": null,
            "grid_row": null,
            "grid_template_areas": null,
            "grid_template_columns": null,
            "grid_template_rows": null,
            "height": null,
            "justify_content": null,
            "justify_items": null,
            "left": null,
            "margin": null,
            "max_height": null,
            "max_width": null,
            "min_height": null,
            "min_width": null,
            "object_fit": null,
            "object_position": null,
            "order": null,
            "overflow": null,
            "overflow_x": null,
            "overflow_y": null,
            "padding": null,
            "right": null,
            "top": null,
            "visibility": null,
            "width": null
          }
        },
        "0e5d37e7a3074d8c94353cd72a77944a": {
          "model_module": "@jupyter-widgets/controls",
          "model_module_version": "1.5.0",
          "model_name": "HTMLModel",
          "state": {
            "_dom_classes": [],
            "_model_module": "@jupyter-widgets/controls",
            "_model_module_version": "1.5.0",
            "_model_name": "HTMLModel",
            "_view_count": null,
            "_view_module": "@jupyter-widgets/controls",
            "_view_module_version": "1.5.0",
            "_view_name": "HTMLView",
            "description": "",
            "description_tooltip": null,
            "layout": "IPY_MODEL_f33ae33076d941f19e911491b31dbdd4",
            "placeholder": "​",
            "style": "IPY_MODEL_e84999ac32e84b23b223644d055026d2",
            "value": "100%"
          }
        },
        "0f3303f8c033407ba41175abbc7bdb07": {
          "model_module": "@jupyter-widgets/base",
          "model_module_version": "1.2.0",
          "model_name": "LayoutModel",
          "state": {
            "_model_module": "@jupyter-widgets/base",
            "_model_module_version": "1.2.0",
            "_model_name": "LayoutModel",
            "_view_count": null,
            "_view_module": "@jupyter-widgets/base",
            "_view_module_version": "1.2.0",
            "_view_name": "LayoutView",
            "align_content": null,
            "align_items": null,
            "align_self": null,
            "border": null,
            "bottom": null,
            "display": null,
            "flex": null,
            "flex_flow": null,
            "grid_area": null,
            "grid_auto_columns": null,
            "grid_auto_flow": null,
            "grid_auto_rows": null,
            "grid_column": null,
            "grid_gap": null,
            "grid_row": null,
            "grid_template_areas": null,
            "grid_template_columns": null,
            "grid_template_rows": null,
            "height": null,
            "justify_content": null,
            "justify_items": null,
            "left": null,
            "margin": null,
            "max_height": null,
            "max_width": null,
            "min_height": null,
            "min_width": null,
            "object_fit": null,
            "object_position": null,
            "order": null,
            "overflow": null,
            "overflow_x": null,
            "overflow_y": null,
            "padding": null,
            "right": null,
            "top": null,
            "visibility": null,
            "width": null
          }
        },
        "0fd6f1e13d5a49cfb0b93619a78a2b38": {
          "model_module": "@jupyter-widgets/controls",
          "model_module_version": "1.5.0",
          "model_name": "DescriptionStyleModel",
          "state": {
            "_model_module": "@jupyter-widgets/controls",
            "_model_module_version": "1.5.0",
            "_model_name": "DescriptionStyleModel",
            "_view_count": null,
            "_view_module": "@jupyter-widgets/base",
            "_view_module_version": "1.2.0",
            "_view_name": "StyleView",
            "description_width": ""
          }
        },
        "1110c7c27fc34e29b678e8440d1d9781": {
          "model_module": "@jupyter-widgets/base",
          "model_module_version": "1.2.0",
          "model_name": "LayoutModel",
          "state": {
            "_model_module": "@jupyter-widgets/base",
            "_model_module_version": "1.2.0",
            "_model_name": "LayoutModel",
            "_view_count": null,
            "_view_module": "@jupyter-widgets/base",
            "_view_module_version": "1.2.0",
            "_view_name": "LayoutView",
            "align_content": null,
            "align_items": null,
            "align_self": null,
            "border": null,
            "bottom": null,
            "display": null,
            "flex": null,
            "flex_flow": null,
            "grid_area": null,
            "grid_auto_columns": null,
            "grid_auto_flow": null,
            "grid_auto_rows": null,
            "grid_column": null,
            "grid_gap": null,
            "grid_row": null,
            "grid_template_areas": null,
            "grid_template_columns": null,
            "grid_template_rows": null,
            "height": null,
            "justify_content": null,
            "justify_items": null,
            "left": null,
            "margin": null,
            "max_height": null,
            "max_width": null,
            "min_height": null,
            "min_width": null,
            "object_fit": null,
            "object_position": null,
            "order": null,
            "overflow": null,
            "overflow_x": null,
            "overflow_y": null,
            "padding": null,
            "right": null,
            "top": null,
            "visibility": null,
            "width": null
          }
        },
        "111fdf0c0cf549e6b3b652984e02bec8": {
          "model_module": "@jupyter-widgets/base",
          "model_module_version": "1.2.0",
          "model_name": "LayoutModel",
          "state": {
            "_model_module": "@jupyter-widgets/base",
            "_model_module_version": "1.2.0",
            "_model_name": "LayoutModel",
            "_view_count": null,
            "_view_module": "@jupyter-widgets/base",
            "_view_module_version": "1.2.0",
            "_view_name": "LayoutView",
            "align_content": null,
            "align_items": null,
            "align_self": null,
            "border": null,
            "bottom": null,
            "display": null,
            "flex": null,
            "flex_flow": null,
            "grid_area": null,
            "grid_auto_columns": null,
            "grid_auto_flow": null,
            "grid_auto_rows": null,
            "grid_column": null,
            "grid_gap": null,
            "grid_row": null,
            "grid_template_areas": null,
            "grid_template_columns": null,
            "grid_template_rows": null,
            "height": null,
            "justify_content": null,
            "justify_items": null,
            "left": null,
            "margin": null,
            "max_height": null,
            "max_width": null,
            "min_height": null,
            "min_width": null,
            "object_fit": null,
            "object_position": null,
            "order": null,
            "overflow": null,
            "overflow_x": null,
            "overflow_y": null,
            "padding": null,
            "right": null,
            "top": null,
            "visibility": null,
            "width": null
          }
        },
        "12261ccd938b4f09b2b6338b63ae4b2c": {
          "model_module": "@jupyter-widgets/base",
          "model_module_version": "1.2.0",
          "model_name": "LayoutModel",
          "state": {
            "_model_module": "@jupyter-widgets/base",
            "_model_module_version": "1.2.0",
            "_model_name": "LayoutModel",
            "_view_count": null,
            "_view_module": "@jupyter-widgets/base",
            "_view_module_version": "1.2.0",
            "_view_name": "LayoutView",
            "align_content": null,
            "align_items": null,
            "align_self": null,
            "border": null,
            "bottom": null,
            "display": null,
            "flex": null,
            "flex_flow": null,
            "grid_area": null,
            "grid_auto_columns": null,
            "grid_auto_flow": null,
            "grid_auto_rows": null,
            "grid_column": null,
            "grid_gap": null,
            "grid_row": null,
            "grid_template_areas": null,
            "grid_template_columns": null,
            "grid_template_rows": null,
            "height": null,
            "justify_content": null,
            "justify_items": null,
            "left": null,
            "margin": null,
            "max_height": null,
            "max_width": null,
            "min_height": null,
            "min_width": null,
            "object_fit": null,
            "object_position": null,
            "order": null,
            "overflow": null,
            "overflow_x": null,
            "overflow_y": null,
            "padding": null,
            "right": null,
            "top": null,
            "visibility": null,
            "width": null
          }
        },
        "12b193fbbc3c448799b302f96d435c4e": {
          "model_module": "@jupyter-widgets/controls",
          "model_module_version": "1.5.0",
          "model_name": "HBoxModel",
          "state": {
            "_dom_classes": [],
            "_model_module": "@jupyter-widgets/controls",
            "_model_module_version": "1.5.0",
            "_model_name": "HBoxModel",
            "_view_count": null,
            "_view_module": "@jupyter-widgets/controls",
            "_view_module_version": "1.5.0",
            "_view_name": "HBoxView",
            "box_style": "",
            "children": [
              "IPY_MODEL_3e15af68be0c4dfdaa0288834c0dc5f7",
              "IPY_MODEL_59ba268eabba4a748434ba72c419df95",
              "IPY_MODEL_f8c3a832b69346188c9b66c943042ea1"
            ],
            "layout": "IPY_MODEL_c59667753b9448aca9092b7a302cad9a"
          }
        },
        "132d1d5490a74824b6f49df83fd1413d": {
          "model_module": "@jupyter-widgets/base",
          "model_module_version": "1.2.0",
          "model_name": "LayoutModel",
          "state": {
            "_model_module": "@jupyter-widgets/base",
            "_model_module_version": "1.2.0",
            "_model_name": "LayoutModel",
            "_view_count": null,
            "_view_module": "@jupyter-widgets/base",
            "_view_module_version": "1.2.0",
            "_view_name": "LayoutView",
            "align_content": null,
            "align_items": null,
            "align_self": null,
            "border": null,
            "bottom": null,
            "display": null,
            "flex": null,
            "flex_flow": null,
            "grid_area": null,
            "grid_auto_columns": null,
            "grid_auto_flow": null,
            "grid_auto_rows": null,
            "grid_column": null,
            "grid_gap": null,
            "grid_row": null,
            "grid_template_areas": null,
            "grid_template_columns": null,
            "grid_template_rows": null,
            "height": null,
            "justify_content": null,
            "justify_items": null,
            "left": null,
            "margin": null,
            "max_height": null,
            "max_width": null,
            "min_height": null,
            "min_width": null,
            "object_fit": null,
            "object_position": null,
            "order": null,
            "overflow": null,
            "overflow_x": null,
            "overflow_y": null,
            "padding": null,
            "right": null,
            "top": null,
            "visibility": null,
            "width": null
          }
        },
        "170bfebca37d428998f723110ce8f26d": {
          "model_module": "@jupyter-widgets/base",
          "model_module_version": "1.2.0",
          "model_name": "LayoutModel",
          "state": {
            "_model_module": "@jupyter-widgets/base",
            "_model_module_version": "1.2.0",
            "_model_name": "LayoutModel",
            "_view_count": null,
            "_view_module": "@jupyter-widgets/base",
            "_view_module_version": "1.2.0",
            "_view_name": "LayoutView",
            "align_content": null,
            "align_items": null,
            "align_self": null,
            "border": null,
            "bottom": null,
            "display": null,
            "flex": null,
            "flex_flow": null,
            "grid_area": null,
            "grid_auto_columns": null,
            "grid_auto_flow": null,
            "grid_auto_rows": null,
            "grid_column": null,
            "grid_gap": null,
            "grid_row": null,
            "grid_template_areas": null,
            "grid_template_columns": null,
            "grid_template_rows": null,
            "height": null,
            "justify_content": null,
            "justify_items": null,
            "left": null,
            "margin": null,
            "max_height": null,
            "max_width": null,
            "min_height": null,
            "min_width": null,
            "object_fit": null,
            "object_position": null,
            "order": null,
            "overflow": null,
            "overflow_x": null,
            "overflow_y": null,
            "padding": null,
            "right": null,
            "top": null,
            "visibility": null,
            "width": null
          }
        },
        "1b60a7d6bc0e42eaa133f3f6effc016d": {
          "model_module": "@jupyter-widgets/base",
          "model_module_version": "1.2.0",
          "model_name": "LayoutModel",
          "state": {
            "_model_module": "@jupyter-widgets/base",
            "_model_module_version": "1.2.0",
            "_model_name": "LayoutModel",
            "_view_count": null,
            "_view_module": "@jupyter-widgets/base",
            "_view_module_version": "1.2.0",
            "_view_name": "LayoutView",
            "align_content": null,
            "align_items": null,
            "align_self": null,
            "border": null,
            "bottom": null,
            "display": null,
            "flex": null,
            "flex_flow": null,
            "grid_area": null,
            "grid_auto_columns": null,
            "grid_auto_flow": null,
            "grid_auto_rows": null,
            "grid_column": null,
            "grid_gap": null,
            "grid_row": null,
            "grid_template_areas": null,
            "grid_template_columns": null,
            "grid_template_rows": null,
            "height": null,
            "justify_content": null,
            "justify_items": null,
            "left": null,
            "margin": null,
            "max_height": null,
            "max_width": null,
            "min_height": null,
            "min_width": null,
            "object_fit": null,
            "object_position": null,
            "order": null,
            "overflow": null,
            "overflow_x": null,
            "overflow_y": null,
            "padding": null,
            "right": null,
            "top": null,
            "visibility": null,
            "width": null
          }
        },
        "1c97374ac9784c699e7e0cef65197334": {
          "model_module": "@jupyter-widgets/controls",
          "model_module_version": "1.5.0",
          "model_name": "HTMLModel",
          "state": {
            "_dom_classes": [],
            "_model_module": "@jupyter-widgets/controls",
            "_model_module_version": "1.5.0",
            "_model_name": "HTMLModel",
            "_view_count": null,
            "_view_module": "@jupyter-widgets/controls",
            "_view_module_version": "1.5.0",
            "_view_name": "HTMLView",
            "description": "",
            "description_tooltip": null,
            "layout": "IPY_MODEL_b940b5763ae74870a99cf26ac0f277d1",
            "placeholder": "​",
            "style": "IPY_MODEL_0fd6f1e13d5a49cfb0b93619a78a2b38",
            "value": " 1/1 [00:00&lt;00:00,  8.67ba/s]"
          }
        },
        "1d17bd72c3074742a59e4756e4af9cb9": {
          "model_module": "@jupyter-widgets/controls",
          "model_module_version": "1.5.0",
          "model_name": "DescriptionStyleModel",
          "state": {
            "_model_module": "@jupyter-widgets/controls",
            "_model_module_version": "1.5.0",
            "_model_name": "DescriptionStyleModel",
            "_view_count": null,
            "_view_module": "@jupyter-widgets/base",
            "_view_module_version": "1.2.0",
            "_view_name": "StyleView",
            "description_width": ""
          }
        },
        "1d5166d492b0405fa3e6089183c9c426": {
          "model_module": "@jupyter-widgets/controls",
          "model_module_version": "1.5.0",
          "model_name": "HTMLModel",
          "state": {
            "_dom_classes": [],
            "_model_module": "@jupyter-widgets/controls",
            "_model_module_version": "1.5.0",
            "_model_name": "HTMLModel",
            "_view_count": null,
            "_view_module": "@jupyter-widgets/controls",
            "_view_module_version": "1.5.0",
            "_view_name": "HTMLView",
            "description": "",
            "description_tooltip": null,
            "layout": "IPY_MODEL_27fe04ef9278464a9ad498fd6069a545",
            "placeholder": "​",
            "style": "IPY_MODEL_2de0308c40b04e758aab7fe57e8f2494",
            "value": " 23.3k/? [00:00&lt;00:00, 597kB/s]"
          }
        },
        "1df491821c56430d9e6d5d5a1b3648f8": {
          "model_module": "@jupyter-widgets/base",
          "model_module_version": "1.2.0",
          "model_name": "LayoutModel",
          "state": {
            "_model_module": "@jupyter-widgets/base",
            "_model_module_version": "1.2.0",
            "_model_name": "LayoutModel",
            "_view_count": null,
            "_view_module": "@jupyter-widgets/base",
            "_view_module_version": "1.2.0",
            "_view_name": "LayoutView",
            "align_content": null,
            "align_items": null,
            "align_self": null,
            "border": null,
            "bottom": null,
            "display": null,
            "flex": null,
            "flex_flow": null,
            "grid_area": null,
            "grid_auto_columns": null,
            "grid_auto_flow": null,
            "grid_auto_rows": null,
            "grid_column": null,
            "grid_gap": null,
            "grid_row": null,
            "grid_template_areas": null,
            "grid_template_columns": null,
            "grid_template_rows": null,
            "height": null,
            "justify_content": null,
            "justify_items": null,
            "left": null,
            "margin": null,
            "max_height": null,
            "max_width": null,
            "min_height": null,
            "min_width": null,
            "object_fit": null,
            "object_position": null,
            "order": null,
            "overflow": null,
            "overflow_x": null,
            "overflow_y": null,
            "padding": null,
            "right": null,
            "top": null,
            "visibility": null,
            "width": null
          }
        },
        "21608dad3be54ede84da4617c0c5b0aa": {
          "model_module": "@jupyter-widgets/controls",
          "model_module_version": "1.5.0",
          "model_name": "HBoxModel",
          "state": {
            "_dom_classes": [],
            "_model_module": "@jupyter-widgets/controls",
            "_model_module_version": "1.5.0",
            "_model_name": "HBoxModel",
            "_view_count": null,
            "_view_module": "@jupyter-widgets/controls",
            "_view_module_version": "1.5.0",
            "_view_name": "HBoxView",
            "box_style": "",
            "children": [
              "IPY_MODEL_3d32124ec43d47f4971bf1ab71b06bb0",
              "IPY_MODEL_d57ddb4fc5b5476181493975723b866b",
              "IPY_MODEL_451df3ddf173433c952828a88e7e7622"
            ],
            "layout": "IPY_MODEL_4ee42bb837fd4ecc924733d9b75f88f5"
          }
        },
        "218490891f02470381f206d402592230": {
          "model_module": "@jupyter-widgets/base",
          "model_module_version": "1.2.0",
          "model_name": "LayoutModel",
          "state": {
            "_model_module": "@jupyter-widgets/base",
            "_model_module_version": "1.2.0",
            "_model_name": "LayoutModel",
            "_view_count": null,
            "_view_module": "@jupyter-widgets/base",
            "_view_module_version": "1.2.0",
            "_view_name": "LayoutView",
            "align_content": null,
            "align_items": null,
            "align_self": null,
            "border": null,
            "bottom": null,
            "display": null,
            "flex": null,
            "flex_flow": null,
            "grid_area": null,
            "grid_auto_columns": null,
            "grid_auto_flow": null,
            "grid_auto_rows": null,
            "grid_column": null,
            "grid_gap": null,
            "grid_row": null,
            "grid_template_areas": null,
            "grid_template_columns": null,
            "grid_template_rows": null,
            "height": null,
            "justify_content": null,
            "justify_items": null,
            "left": null,
            "margin": null,
            "max_height": null,
            "max_width": null,
            "min_height": null,
            "min_width": null,
            "object_fit": null,
            "object_position": null,
            "order": null,
            "overflow": null,
            "overflow_x": null,
            "overflow_y": null,
            "padding": null,
            "right": null,
            "top": null,
            "visibility": null,
            "width": null
          }
        },
        "22873061cb66436aa91b1c3b7675ad6f": {
          "model_module": "@jupyter-widgets/controls",
          "model_module_version": "1.5.0",
          "model_name": "HBoxModel",
          "state": {
            "_dom_classes": [],
            "_model_module": "@jupyter-widgets/controls",
            "_model_module_version": "1.5.0",
            "_model_name": "HBoxModel",
            "_view_count": null,
            "_view_module": "@jupyter-widgets/controls",
            "_view_module_version": "1.5.0",
            "_view_name": "HBoxView",
            "box_style": "",
            "children": [
              "IPY_MODEL_0e5d37e7a3074d8c94353cd72a77944a",
              "IPY_MODEL_87f3630430a34847a94aa0c371539469",
              "IPY_MODEL_1c97374ac9784c699e7e0cef65197334"
            ],
            "layout": "IPY_MODEL_0f3303f8c033407ba41175abbc7bdb07"
          }
        },
        "22dad8c9faaf433cae9da3a5eb40fd10": {
          "model_module": "@jupyter-widgets/base",
          "model_module_version": "1.2.0",
          "model_name": "LayoutModel",
          "state": {
            "_model_module": "@jupyter-widgets/base",
            "_model_module_version": "1.2.0",
            "_model_name": "LayoutModel",
            "_view_count": null,
            "_view_module": "@jupyter-widgets/base",
            "_view_module_version": "1.2.0",
            "_view_name": "LayoutView",
            "align_content": null,
            "align_items": null,
            "align_self": null,
            "border": null,
            "bottom": null,
            "display": null,
            "flex": null,
            "flex_flow": null,
            "grid_area": null,
            "grid_auto_columns": null,
            "grid_auto_flow": null,
            "grid_auto_rows": null,
            "grid_column": null,
            "grid_gap": null,
            "grid_row": null,
            "grid_template_areas": null,
            "grid_template_columns": null,
            "grid_template_rows": null,
            "height": null,
            "justify_content": null,
            "justify_items": null,
            "left": null,
            "margin": null,
            "max_height": null,
            "max_width": null,
            "min_height": null,
            "min_width": null,
            "object_fit": null,
            "object_position": null,
            "order": null,
            "overflow": null,
            "overflow_x": null,
            "overflow_y": null,
            "padding": null,
            "right": null,
            "top": null,
            "visibility": null,
            "width": null
          }
        },
        "25620d8d36b8419ea903211de10cbfb6": {
          "model_module": "@jupyter-widgets/controls",
          "model_module_version": "1.5.0",
          "model_name": "ProgressStyleModel",
          "state": {
            "_model_module": "@jupyter-widgets/controls",
            "_model_module_version": "1.5.0",
            "_model_name": "ProgressStyleModel",
            "_view_count": null,
            "_view_module": "@jupyter-widgets/base",
            "_view_module_version": "1.2.0",
            "_view_name": "StyleView",
            "bar_color": null,
            "description_width": ""
          }
        },
        "25f9cbc1a292459c89c65689aead5c0e": {
          "model_module": "@jupyter-widgets/controls",
          "model_module_version": "1.5.0",
          "model_name": "DescriptionStyleModel",
          "state": {
            "_model_module": "@jupyter-widgets/controls",
            "_model_module_version": "1.5.0",
            "_model_name": "DescriptionStyleModel",
            "_view_count": null,
            "_view_module": "@jupyter-widgets/base",
            "_view_module_version": "1.2.0",
            "_view_name": "StyleView",
            "description_width": ""
          }
        },
        "270a1cf404614e0592ee1cd7474c224a": {
          "model_module": "@jupyter-widgets/controls",
          "model_module_version": "1.5.0",
          "model_name": "HTMLModel",
          "state": {
            "_dom_classes": [],
            "_model_module": "@jupyter-widgets/controls",
            "_model_module_version": "1.5.0",
            "_model_name": "HTMLModel",
            "_view_count": null,
            "_view_module": "@jupyter-widgets/controls",
            "_view_module_version": "1.5.0",
            "_view_name": "HTMLView",
            "description": "",
            "description_tooltip": null,
            "layout": "IPY_MODEL_ff3dcdd3aac04f53a121fea5146dc32b",
            "placeholder": "​",
            "style": "IPY_MODEL_86988fd773b84b509b174e5acc9b6d61",
            "value": ""
          }
        },
        "27fe04ef9278464a9ad498fd6069a545": {
          "model_module": "@jupyter-widgets/base",
          "model_module_version": "1.2.0",
          "model_name": "LayoutModel",
          "state": {
            "_model_module": "@jupyter-widgets/base",
            "_model_module_version": "1.2.0",
            "_model_name": "LayoutModel",
            "_view_count": null,
            "_view_module": "@jupyter-widgets/base",
            "_view_module_version": "1.2.0",
            "_view_name": "LayoutView",
            "align_content": null,
            "align_items": null,
            "align_self": null,
            "border": null,
            "bottom": null,
            "display": null,
            "flex": null,
            "flex_flow": null,
            "grid_area": null,
            "grid_auto_columns": null,
            "grid_auto_flow": null,
            "grid_auto_rows": null,
            "grid_column": null,
            "grid_gap": null,
            "grid_row": null,
            "grid_template_areas": null,
            "grid_template_columns": null,
            "grid_template_rows": null,
            "height": null,
            "justify_content": null,
            "justify_items": null,
            "left": null,
            "margin": null,
            "max_height": null,
            "max_width": null,
            "min_height": null,
            "min_width": null,
            "object_fit": null,
            "object_position": null,
            "order": null,
            "overflow": null,
            "overflow_x": null,
            "overflow_y": null,
            "padding": null,
            "right": null,
            "top": null,
            "visibility": null,
            "width": null
          }
        },
        "28c63c745946450e8bd0a7123e10b2cd": {
          "model_module": "@jupyter-widgets/base",
          "model_module_version": "1.2.0",
          "model_name": "LayoutModel",
          "state": {
            "_model_module": "@jupyter-widgets/base",
            "_model_module_version": "1.2.0",
            "_model_name": "LayoutModel",
            "_view_count": null,
            "_view_module": "@jupyter-widgets/base",
            "_view_module_version": "1.2.0",
            "_view_name": "LayoutView",
            "align_content": null,
            "align_items": null,
            "align_self": null,
            "border": null,
            "bottom": null,
            "display": null,
            "flex": null,
            "flex_flow": null,
            "grid_area": null,
            "grid_auto_columns": null,
            "grid_auto_flow": null,
            "grid_auto_rows": null,
            "grid_column": null,
            "grid_gap": null,
            "grid_row": null,
            "grid_template_areas": null,
            "grid_template_columns": null,
            "grid_template_rows": null,
            "height": null,
            "justify_content": null,
            "justify_items": null,
            "left": null,
            "margin": null,
            "max_height": null,
            "max_width": null,
            "min_height": null,
            "min_width": null,
            "object_fit": null,
            "object_position": null,
            "order": null,
            "overflow": null,
            "overflow_x": null,
            "overflow_y": null,
            "padding": null,
            "right": null,
            "top": null,
            "visibility": null,
            "width": null
          }
        },
        "2a733bb00b7846f093e58cb7a1588547": {
          "model_module": "@jupyter-widgets/controls",
          "model_module_version": "1.5.0",
          "model_name": "DescriptionStyleModel",
          "state": {
            "_model_module": "@jupyter-widgets/controls",
            "_model_module_version": "1.5.0",
            "_model_name": "DescriptionStyleModel",
            "_view_count": null,
            "_view_module": "@jupyter-widgets/base",
            "_view_module_version": "1.2.0",
            "_view_name": "StyleView",
            "description_width": ""
          }
        },
        "2d3128f96bbe486f8dbc2c35edc38691": {
          "model_module": "@jupyter-widgets/controls",
          "model_module_version": "1.5.0",
          "model_name": "ProgressStyleModel",
          "state": {
            "_model_module": "@jupyter-widgets/controls",
            "_model_module_version": "1.5.0",
            "_model_name": "ProgressStyleModel",
            "_view_count": null,
            "_view_module": "@jupyter-widgets/base",
            "_view_module_version": "1.2.0",
            "_view_name": "StyleView",
            "bar_color": null,
            "description_width": ""
          }
        },
        "2de0308c40b04e758aab7fe57e8f2494": {
          "model_module": "@jupyter-widgets/controls",
          "model_module_version": "1.5.0",
          "model_name": "DescriptionStyleModel",
          "state": {
            "_model_module": "@jupyter-widgets/controls",
            "_model_module_version": "1.5.0",
            "_model_name": "DescriptionStyleModel",
            "_view_count": null,
            "_view_module": "@jupyter-widgets/base",
            "_view_module_version": "1.2.0",
            "_view_name": "StyleView",
            "description_width": ""
          }
        },
        "2e97a45690294fa1ad2ecdeb71bab7f8": {
          "model_module": "@jupyter-widgets/base",
          "model_module_version": "1.2.0",
          "model_name": "LayoutModel",
          "state": {
            "_model_module": "@jupyter-widgets/base",
            "_model_module_version": "1.2.0",
            "_model_name": "LayoutModel",
            "_view_count": null,
            "_view_module": "@jupyter-widgets/base",
            "_view_module_version": "1.2.0",
            "_view_name": "LayoutView",
            "align_content": null,
            "align_items": null,
            "align_self": null,
            "border": null,
            "bottom": null,
            "display": null,
            "flex": null,
            "flex_flow": null,
            "grid_area": null,
            "grid_auto_columns": null,
            "grid_auto_flow": null,
            "grid_auto_rows": null,
            "grid_column": null,
            "grid_gap": null,
            "grid_row": null,
            "grid_template_areas": null,
            "grid_template_columns": null,
            "grid_template_rows": null,
            "height": null,
            "justify_content": null,
            "justify_items": null,
            "left": null,
            "margin": null,
            "max_height": null,
            "max_width": null,
            "min_height": null,
            "min_width": null,
            "object_fit": null,
            "object_position": null,
            "order": null,
            "overflow": null,
            "overflow_x": null,
            "overflow_y": null,
            "padding": null,
            "right": null,
            "top": null,
            "visibility": null,
            "width": null
          }
        },
        "33b42cfcdd454119b02bf1844170de2d": {
          "model_module": "@jupyter-widgets/controls",
          "model_module_version": "1.5.0",
          "model_name": "HTMLModel",
          "state": {
            "_dom_classes": [],
            "_model_module": "@jupyter-widgets/controls",
            "_model_module_version": "1.5.0",
            "_model_name": "HTMLModel",
            "_view_count": null,
            "_view_module": "@jupyter-widgets/controls",
            "_view_module_version": "1.5.0",
            "_view_name": "HTMLView",
            "description": "",
            "description_tooltip": null,
            "layout": "IPY_MODEL_9eabaa08022f40a99ea243bedbbde131",
            "placeholder": "​",
            "style": "IPY_MODEL_9a53a02644904303a1e632f324eebba2",
            "value": ""
          }
        },
        "3a695c3265b54eed856fa7321c619e30": {
          "model_module": "@jupyter-widgets/base",
          "model_module_version": "1.2.0",
          "model_name": "LayoutModel",
          "state": {
            "_model_module": "@jupyter-widgets/base",
            "_model_module_version": "1.2.0",
            "_model_name": "LayoutModel",
            "_view_count": null,
            "_view_module": "@jupyter-widgets/base",
            "_view_module_version": "1.2.0",
            "_view_name": "LayoutView",
            "align_content": null,
            "align_items": null,
            "align_self": null,
            "border": null,
            "bottom": null,
            "display": null,
            "flex": null,
            "flex_flow": null,
            "grid_area": null,
            "grid_auto_columns": null,
            "grid_auto_flow": null,
            "grid_auto_rows": null,
            "grid_column": null,
            "grid_gap": null,
            "grid_row": null,
            "grid_template_areas": null,
            "grid_template_columns": null,
            "grid_template_rows": null,
            "height": null,
            "justify_content": null,
            "justify_items": null,
            "left": null,
            "margin": null,
            "max_height": null,
            "max_width": null,
            "min_height": null,
            "min_width": null,
            "object_fit": null,
            "object_position": null,
            "order": null,
            "overflow": null,
            "overflow_x": null,
            "overflow_y": null,
            "padding": null,
            "right": null,
            "top": null,
            "visibility": null,
            "width": null
          }
        },
        "3b0cba06856e4dbb84bff5539fb5480c": {
          "model_module": "@jupyter-widgets/base",
          "model_module_version": "1.2.0",
          "model_name": "LayoutModel",
          "state": {
            "_model_module": "@jupyter-widgets/base",
            "_model_module_version": "1.2.0",
            "_model_name": "LayoutModel",
            "_view_count": null,
            "_view_module": "@jupyter-widgets/base",
            "_view_module_version": "1.2.0",
            "_view_name": "LayoutView",
            "align_content": null,
            "align_items": null,
            "align_self": null,
            "border": null,
            "bottom": null,
            "display": null,
            "flex": null,
            "flex_flow": null,
            "grid_area": null,
            "grid_auto_columns": null,
            "grid_auto_flow": null,
            "grid_auto_rows": null,
            "grid_column": null,
            "grid_gap": null,
            "grid_row": null,
            "grid_template_areas": null,
            "grid_template_columns": null,
            "grid_template_rows": null,
            "height": null,
            "justify_content": null,
            "justify_items": null,
            "left": null,
            "margin": null,
            "max_height": null,
            "max_width": null,
            "min_height": null,
            "min_width": null,
            "object_fit": null,
            "object_position": null,
            "order": null,
            "overflow": null,
            "overflow_x": null,
            "overflow_y": null,
            "padding": null,
            "right": null,
            "top": null,
            "visibility": null,
            "width": null
          }
        },
        "3b7f07097f754ccca4a9abd50bfb990c": {
          "model_module": "@jupyter-widgets/controls",
          "model_module_version": "1.5.0",
          "model_name": "HTMLModel",
          "state": {
            "_dom_classes": [],
            "_model_module": "@jupyter-widgets/controls",
            "_model_module_version": "1.5.0",
            "_model_name": "HTMLModel",
            "_view_count": null,
            "_view_module": "@jupyter-widgets/controls",
            "_view_module_version": "1.5.0",
            "_view_name": "HTMLView",
            "description": "",
            "description_tooltip": null,
            "layout": "IPY_MODEL_3b0cba06856e4dbb84bff5539fb5480c",
            "placeholder": "​",
            "style": "IPY_MODEL_bc0901c272b14c7390b9d0de3189bb50",
            "value": " 747/0 [00:02&lt;00:00, 265.46 examples/s]"
          }
        },
        "3bae0caaabec48eba6ce6791fca31948": {
          "model_module": "@jupyter-widgets/base",
          "model_module_version": "1.2.0",
          "model_name": "LayoutModel",
          "state": {
            "_model_module": "@jupyter-widgets/base",
            "_model_module_version": "1.2.0",
            "_model_name": "LayoutModel",
            "_view_count": null,
            "_view_module": "@jupyter-widgets/base",
            "_view_module_version": "1.2.0",
            "_view_name": "LayoutView",
            "align_content": null,
            "align_items": null,
            "align_self": null,
            "border": null,
            "bottom": null,
            "display": null,
            "flex": null,
            "flex_flow": null,
            "grid_area": null,
            "grid_auto_columns": null,
            "grid_auto_flow": null,
            "grid_auto_rows": null,
            "grid_column": null,
            "grid_gap": null,
            "grid_row": null,
            "grid_template_areas": null,
            "grid_template_columns": null,
            "grid_template_rows": null,
            "height": null,
            "justify_content": null,
            "justify_items": null,
            "left": null,
            "margin": null,
            "max_height": null,
            "max_width": null,
            "min_height": null,
            "min_width": null,
            "object_fit": null,
            "object_position": null,
            "order": null,
            "overflow": null,
            "overflow_x": null,
            "overflow_y": null,
            "padding": null,
            "right": null,
            "top": null,
            "visibility": null,
            "width": null
          }
        },
        "3d32124ec43d47f4971bf1ab71b06bb0": {
          "model_module": "@jupyter-widgets/controls",
          "model_module_version": "1.5.0",
          "model_name": "HTMLModel",
          "state": {
            "_dom_classes": [],
            "_model_module": "@jupyter-widgets/controls",
            "_model_module_version": "1.5.0",
            "_model_name": "HTMLModel",
            "_view_count": null,
            "_view_module": "@jupyter-widgets/controls",
            "_view_module_version": "1.5.0",
            "_view_name": "HTMLView",
            "description": "",
            "description_tooltip": null,
            "layout": "IPY_MODEL_736e39282b3345519f257e74f1eabdee",
            "placeholder": "​",
            "style": "IPY_MODEL_d9f58e0663b848bb8b21c733de0d8feb",
            "value": "Downloading: "
          }
        },
        "3d928c3691f24963ace9e5b7e933f60f": {
          "model_module": "@jupyter-widgets/controls",
          "model_module_version": "1.5.0",
          "model_name": "HTMLModel",
          "state": {
            "_dom_classes": [],
            "_model_module": "@jupyter-widgets/controls",
            "_model_module_version": "1.5.0",
            "_model_name": "HTMLModel",
            "_view_count": null,
            "_view_module": "@jupyter-widgets/controls",
            "_view_module_version": "1.5.0",
            "_view_name": "HTMLView",
            "description": "",
            "description_tooltip": null,
            "layout": "IPY_MODEL_ba5eb8d383b646b99c1a06c5e49350fa",
            "placeholder": "​",
            "style": "IPY_MODEL_75b3f10bb0bf462db86b428dd31cf08d",
            "value": ""
          }
        },
        "3e15af68be0c4dfdaa0288834c0dc5f7": {
          "model_module": "@jupyter-widgets/controls",
          "model_module_version": "1.5.0",
          "model_name": "HTMLModel",
          "state": {
            "_dom_classes": [],
            "_model_module": "@jupyter-widgets/controls",
            "_model_module_version": "1.5.0",
            "_model_name": "HTMLModel",
            "_view_count": null,
            "_view_module": "@jupyter-widgets/controls",
            "_view_module_version": "1.5.0",
            "_view_name": "HTMLView",
            "description": "",
            "description_tooltip": null,
            "layout": "IPY_MODEL_5d56ab11ed1441768e5ff748acfda049",
            "placeholder": "​",
            "style": "IPY_MODEL_4cba24af62b243b495478ddf9041a523",
            "value": ""
          }
        },
        "3f26d60e600648dc91f5f265503c3faf": {
          "model_module": "@jupyter-widgets/base",
          "model_module_version": "1.2.0",
          "model_name": "LayoutModel",
          "state": {
            "_model_module": "@jupyter-widgets/base",
            "_model_module_version": "1.2.0",
            "_model_name": "LayoutModel",
            "_view_count": null,
            "_view_module": "@jupyter-widgets/base",
            "_view_module_version": "1.2.0",
            "_view_name": "LayoutView",
            "align_content": null,
            "align_items": null,
            "align_self": null,
            "border": null,
            "bottom": null,
            "display": null,
            "flex": null,
            "flex_flow": null,
            "grid_area": null,
            "grid_auto_columns": null,
            "grid_auto_flow": null,
            "grid_auto_rows": null,
            "grid_column": null,
            "grid_gap": null,
            "grid_row": null,
            "grid_template_areas": null,
            "grid_template_columns": null,
            "grid_template_rows": null,
            "height": null,
            "justify_content": null,
            "justify_items": null,
            "left": null,
            "margin": null,
            "max_height": null,
            "max_width": null,
            "min_height": null,
            "min_width": null,
            "object_fit": null,
            "object_position": null,
            "order": null,
            "overflow": null,
            "overflow_x": null,
            "overflow_y": null,
            "padding": null,
            "right": null,
            "top": null,
            "visibility": null,
            "width": null
          }
        },
        "40ac312a5bb3405f8e5f6d5283c1f9fd": {
          "model_module": "@jupyter-widgets/controls",
          "model_module_version": "1.5.0",
          "model_name": "HTMLModel",
          "state": {
            "_dom_classes": [],
            "_model_module": "@jupyter-widgets/controls",
            "_model_module_version": "1.5.0",
            "_model_name": "HTMLModel",
            "_view_count": null,
            "_view_module": "@jupyter-widgets/controls",
            "_view_module_version": "1.5.0",
            "_view_name": "HTMLView",
            "description": "",
            "description_tooltip": null,
            "layout": "IPY_MODEL_8fa7604e862d4fff9ed8da739ec7190d",
            "placeholder": "​",
            "style": "IPY_MODEL_d734818bea624e10a325e01f958eb66e",
            "value": ""
          }
        },
        "4133bcad2c124159946b7631dea9a348": {
          "model_module": "@jupyter-widgets/controls",
          "model_module_version": "1.5.0",
          "model_name": "HTMLModel",
          "state": {
            "_dom_classes": [],
            "_model_module": "@jupyter-widgets/controls",
            "_model_module_version": "1.5.0",
            "_model_name": "HTMLModel",
            "_view_count": null,
            "_view_module": "@jupyter-widgets/controls",
            "_view_module_version": "1.5.0",
            "_view_name": "HTMLView",
            "description": "",
            "description_tooltip": null,
            "layout": "IPY_MODEL_1df491821c56430d9e6d5d5a1b3648f8",
            "placeholder": "​",
            "style": "IPY_MODEL_9760ca3708844932ac2a447b4e3d04dc",
            "value": " 1749/? [00:00&lt;00:00, 4628.95ex/s]"
          }
        },
        "4346d23147184b3c9d3a575cd408ac8a": {
          "model_module": "@jupyter-widgets/controls",
          "model_module_version": "1.5.0",
          "model_name": "HBoxModel",
          "state": {
            "_dom_classes": [],
            "_model_module": "@jupyter-widgets/controls",
            "_model_module_version": "1.5.0",
            "_model_name": "HBoxModel",
            "_view_count": null,
            "_view_module": "@jupyter-widgets/controls",
            "_view_module_version": "1.5.0",
            "_view_name": "HBoxView",
            "box_style": "",
            "children": [
              "IPY_MODEL_c718060974e142538d452eb1c2097cda",
              "IPY_MODEL_045ce8d1c028466eac3dc8460390c551",
              "IPY_MODEL_fd29fd21925d4295ab419d85aca353f3"
            ],
            "layout": "IPY_MODEL_0b8a79b13240422e9800008330f5fb8e"
          }
        },
        "44b78e4918fa4573960dfb09046ee374": {
          "model_module": "@jupyter-widgets/controls",
          "model_module_version": "1.5.0",
          "model_name": "DescriptionStyleModel",
          "state": {
            "_model_module": "@jupyter-widgets/controls",
            "_model_module_version": "1.5.0",
            "_model_name": "DescriptionStyleModel",
            "_view_count": null,
            "_view_module": "@jupyter-widgets/base",
            "_view_module_version": "1.2.0",
            "_view_name": "StyleView",
            "description_width": ""
          }
        },
        "451df3ddf173433c952828a88e7e7622": {
          "model_module": "@jupyter-widgets/controls",
          "model_module_version": "1.5.0",
          "model_name": "HTMLModel",
          "state": {
            "_dom_classes": [],
            "_model_module": "@jupyter-widgets/controls",
            "_model_module_version": "1.5.0",
            "_model_name": "HTMLModel",
            "_view_count": null,
            "_view_module": "@jupyter-widgets/controls",
            "_view_module_version": "1.5.0",
            "_view_name": "HTMLView",
            "description": "",
            "description_tooltip": null,
            "layout": "IPY_MODEL_cc246523b154491898947b17a57085f3",
            "placeholder": "​",
            "style": "IPY_MODEL_ba12fb1bdca2423ca6df6c6ad302ebd8",
            "value": " 168k/? [00:00&lt;00:00, 5.15MB/s]"
          }
        },
        "48b2e60a81344b3482cca9ecac6a5af2": {
          "model_module": "@jupyter-widgets/controls",
          "model_module_version": "1.5.0",
          "model_name": "FloatProgressModel",
          "state": {
            "_dom_classes": [],
            "_model_module": "@jupyter-widgets/controls",
            "_model_module_version": "1.5.0",
            "_model_name": "FloatProgressModel",
            "_view_count": null,
            "_view_module": "@jupyter-widgets/controls",
            "_view_module_version": "1.5.0",
            "_view_name": "ProgressView",
            "bar_style": "info",
            "description": "",
            "description_tooltip": null,
            "layout": "IPY_MODEL_b092dac868534a9c850006cbc9e815ab",
            "max": 1,
            "min": 0,
            "orientation": "horizontal",
            "style": "IPY_MODEL_e29244fe35f64b648c71bf79c5ea2ebb",
            "value": 1
          }
        },
        "4cba24af62b243b495478ddf9041a523": {
          "model_module": "@jupyter-widgets/controls",
          "model_module_version": "1.5.0",
          "model_name": "DescriptionStyleModel",
          "state": {
            "_model_module": "@jupyter-widgets/controls",
            "_model_module_version": "1.5.0",
            "_model_name": "DescriptionStyleModel",
            "_view_count": null,
            "_view_module": "@jupyter-widgets/base",
            "_view_module_version": "1.2.0",
            "_view_name": "StyleView",
            "description_width": ""
          }
        },
        "4d0d390fed324572a7c8250779e95df2": {
          "model_module": "@jupyter-widgets/controls",
          "model_module_version": "1.5.0",
          "model_name": "FloatProgressModel",
          "state": {
            "_dom_classes": [],
            "_model_module": "@jupyter-widgets/controls",
            "_model_module_version": "1.5.0",
            "_model_name": "FloatProgressModel",
            "_view_count": null,
            "_view_module": "@jupyter-widgets/controls",
            "_view_module_version": "1.5.0",
            "_view_name": "ProgressView",
            "bar_style": "success",
            "description": "",
            "description_tooltip": null,
            "layout": "IPY_MODEL_ef1d4ac06073414d8c4de04222cdecef",
            "max": 1,
            "min": 0,
            "orientation": "horizontal",
            "style": "IPY_MODEL_66aba793029a49fe86f4ad2d8adbdc5d",
            "value": 1
          }
        },
        "4ee42bb837fd4ecc924733d9b75f88f5": {
          "model_module": "@jupyter-widgets/base",
          "model_module_version": "1.2.0",
          "model_name": "LayoutModel",
          "state": {
            "_model_module": "@jupyter-widgets/base",
            "_model_module_version": "1.2.0",
            "_model_name": "LayoutModel",
            "_view_count": null,
            "_view_module": "@jupyter-widgets/base",
            "_view_module_version": "1.2.0",
            "_view_name": "LayoutView",
            "align_content": null,
            "align_items": null,
            "align_self": null,
            "border": null,
            "bottom": null,
            "display": null,
            "flex": null,
            "flex_flow": null,
            "grid_area": null,
            "grid_auto_columns": null,
            "grid_auto_flow": null,
            "grid_auto_rows": null,
            "grid_column": null,
            "grid_gap": null,
            "grid_row": null,
            "grid_template_areas": null,
            "grid_template_columns": null,
            "grid_template_rows": null,
            "height": null,
            "justify_content": null,
            "justify_items": null,
            "left": null,
            "margin": null,
            "max_height": null,
            "max_width": null,
            "min_height": null,
            "min_width": null,
            "object_fit": null,
            "object_position": null,
            "order": null,
            "overflow": null,
            "overflow_x": null,
            "overflow_y": null,
            "padding": null,
            "right": null,
            "top": null,
            "visibility": null,
            "width": null
          }
        },
        "50469216aeeb48ec89e3f22996fab3b6": {
          "model_module": "@jupyter-widgets/controls",
          "model_module_version": "1.5.0",
          "model_name": "ProgressStyleModel",
          "state": {
            "_model_module": "@jupyter-widgets/controls",
            "_model_module_version": "1.5.0",
            "_model_name": "ProgressStyleModel",
            "_view_count": null,
            "_view_module": "@jupyter-widgets/base",
            "_view_module_version": "1.2.0",
            "_view_name": "StyleView",
            "bar_color": null,
            "description_width": ""
          }
        },
        "50dd763c375a4f9796f4af9eee4a9294": {
          "model_module": "@jupyter-widgets/base",
          "model_module_version": "1.2.0",
          "model_name": "LayoutModel",
          "state": {
            "_model_module": "@jupyter-widgets/base",
            "_model_module_version": "1.2.0",
            "_model_name": "LayoutModel",
            "_view_count": null,
            "_view_module": "@jupyter-widgets/base",
            "_view_module_version": "1.2.0",
            "_view_name": "LayoutView",
            "align_content": null,
            "align_items": null,
            "align_self": null,
            "border": null,
            "bottom": null,
            "display": null,
            "flex": null,
            "flex_flow": null,
            "grid_area": null,
            "grid_auto_columns": null,
            "grid_auto_flow": null,
            "grid_auto_rows": null,
            "grid_column": null,
            "grid_gap": null,
            "grid_row": null,
            "grid_template_areas": null,
            "grid_template_columns": null,
            "grid_template_rows": null,
            "height": null,
            "justify_content": null,
            "justify_items": null,
            "left": null,
            "margin": null,
            "max_height": null,
            "max_width": null,
            "min_height": null,
            "min_width": null,
            "object_fit": null,
            "object_position": null,
            "order": null,
            "overflow": null,
            "overflow_x": null,
            "overflow_y": null,
            "padding": null,
            "right": null,
            "top": null,
            "visibility": null,
            "width": null
          }
        },
        "5164556812f44a9f9596840c327b05ed": {
          "model_module": "@jupyter-widgets/base",
          "model_module_version": "1.2.0",
          "model_name": "LayoutModel",
          "state": {
            "_model_module": "@jupyter-widgets/base",
            "_model_module_version": "1.2.0",
            "_model_name": "LayoutModel",
            "_view_count": null,
            "_view_module": "@jupyter-widgets/base",
            "_view_module_version": "1.2.0",
            "_view_name": "LayoutView",
            "align_content": null,
            "align_items": null,
            "align_self": null,
            "border": null,
            "bottom": null,
            "display": null,
            "flex": null,
            "flex_flow": null,
            "grid_area": null,
            "grid_auto_columns": null,
            "grid_auto_flow": null,
            "grid_auto_rows": null,
            "grid_column": null,
            "grid_gap": null,
            "grid_row": null,
            "grid_template_areas": null,
            "grid_template_columns": null,
            "grid_template_rows": null,
            "height": null,
            "justify_content": null,
            "justify_items": null,
            "left": null,
            "margin": null,
            "max_height": null,
            "max_width": null,
            "min_height": null,
            "min_width": null,
            "object_fit": null,
            "object_position": null,
            "order": null,
            "overflow": null,
            "overflow_x": null,
            "overflow_y": null,
            "padding": null,
            "right": null,
            "top": null,
            "visibility": null,
            "width": null
          }
        },
        "52ce354b0e9a49259aede24d3e636fbf": {
          "model_module": "@jupyter-widgets/controls",
          "model_module_version": "1.5.0",
          "model_name": "FloatProgressModel",
          "state": {
            "_dom_classes": [],
            "_model_module": "@jupyter-widgets/controls",
            "_model_module_version": "1.5.0",
            "_model_name": "FloatProgressModel",
            "_view_count": null,
            "_view_module": "@jupyter-widgets/controls",
            "_view_module_version": "1.5.0",
            "_view_name": "ProgressView",
            "bar_style": "success",
            "description": "",
            "description_tooltip": null,
            "layout": "IPY_MODEL_1b60a7d6bc0e42eaa133f3f6effc016d",
            "max": 1,
            "min": 0,
            "orientation": "horizontal",
            "style": "IPY_MODEL_9ac48d51f7b34a5283d40bf759727c1c",
            "value": 1
          }
        },
        "5401c372f807488285b62c4f98f25f57": {
          "model_module": "@jupyter-widgets/controls",
          "model_module_version": "1.5.0",
          "model_name": "HBoxModel",
          "state": {
            "_dom_classes": [],
            "_model_module": "@jupyter-widgets/controls",
            "_model_module_version": "1.5.0",
            "_model_name": "HBoxModel",
            "_view_count": null,
            "_view_module": "@jupyter-widgets/controls",
            "_view_module_version": "1.5.0",
            "_view_name": "HBoxView",
            "box_style": "",
            "children": [
              "IPY_MODEL_55e8320f693f4061b67ee7f9a4fe9b75",
              "IPY_MODEL_e38ac7968158480fa64b99fec98465f3",
              "IPY_MODEL_856c76f09f7c4ef081f9f712f0051a97"
            ],
            "layout": "IPY_MODEL_170bfebca37d428998f723110ce8f26d"
          }
        },
        "55e8320f693f4061b67ee7f9a4fe9b75": {
          "model_module": "@jupyter-widgets/controls",
          "model_module_version": "1.5.0",
          "model_name": "HTMLModel",
          "state": {
            "_dom_classes": [],
            "_model_module": "@jupyter-widgets/controls",
            "_model_module_version": "1.5.0",
            "_model_name": "HTMLModel",
            "_view_count": null,
            "_view_module": "@jupyter-widgets/controls",
            "_view_module_version": "1.5.0",
            "_view_name": "HTMLView",
            "description": "",
            "description_tooltip": null,
            "layout": "IPY_MODEL_9a141ffb5e8a40b88cb62dcd1a438f5a",
            "placeholder": "​",
            "style": "IPY_MODEL_d34f96746fd64cfc89ffd906079e6dcf",
            "value": ""
          }
        },
        "59ba268eabba4a748434ba72c419df95": {
          "model_module": "@jupyter-widgets/controls",
          "model_module_version": "1.5.0",
          "model_name": "FloatProgressModel",
          "state": {
            "_dom_classes": [],
            "_model_module": "@jupyter-widgets/controls",
            "_model_module_version": "1.5.0",
            "_model_name": "FloatProgressModel",
            "_view_count": null,
            "_view_module": "@jupyter-widgets/controls",
            "_view_module_version": "1.5.0",
            "_view_name": "ProgressView",
            "bar_style": "info",
            "description": "",
            "description_tooltip": null,
            "layout": "IPY_MODEL_6dae5fba04de44b6a96fae90c57236f7",
            "max": 1,
            "min": 0,
            "orientation": "horizontal",
            "style": "IPY_MODEL_5d986252a7e24b3eb5bbcb7e55a2d173",
            "value": 1
          }
        },
        "5a7997e440a2452ab188b039b58dead8": {
          "model_module": "@jupyter-widgets/controls",
          "model_module_version": "1.5.0",
          "model_name": "HBoxModel",
          "state": {
            "_dom_classes": [],
            "_model_module": "@jupyter-widgets/controls",
            "_model_module_version": "1.5.0",
            "_model_name": "HBoxModel",
            "_view_count": null,
            "_view_module": "@jupyter-widgets/controls",
            "_view_module_version": "1.5.0",
            "_view_name": "HBoxView",
            "box_style": "",
            "children": [
              "IPY_MODEL_887831337340434996b43a14439bd792",
              "IPY_MODEL_52ce354b0e9a49259aede24d3e636fbf",
              "IPY_MODEL_c9cd03e36eeb40c5a4cc684bebb390c5"
            ],
            "layout": "IPY_MODEL_71b994f0ad4842528adc09dabff21cf5"
          }
        },
        "5d56ab11ed1441768e5ff748acfda049": {
          "model_module": "@jupyter-widgets/base",
          "model_module_version": "1.2.0",
          "model_name": "LayoutModel",
          "state": {
            "_model_module": "@jupyter-widgets/base",
            "_model_module_version": "1.2.0",
            "_model_name": "LayoutModel",
            "_view_count": null,
            "_view_module": "@jupyter-widgets/base",
            "_view_module_version": "1.2.0",
            "_view_name": "LayoutView",
            "align_content": null,
            "align_items": null,
            "align_self": null,
            "border": null,
            "bottom": null,
            "display": null,
            "flex": null,
            "flex_flow": null,
            "grid_area": null,
            "grid_auto_columns": null,
            "grid_auto_flow": null,
            "grid_auto_rows": null,
            "grid_column": null,
            "grid_gap": null,
            "grid_row": null,
            "grid_template_areas": null,
            "grid_template_columns": null,
            "grid_template_rows": null,
            "height": null,
            "justify_content": null,
            "justify_items": null,
            "left": null,
            "margin": null,
            "max_height": null,
            "max_width": null,
            "min_height": null,
            "min_width": null,
            "object_fit": null,
            "object_position": null,
            "order": null,
            "overflow": null,
            "overflow_x": null,
            "overflow_y": null,
            "padding": null,
            "right": null,
            "top": null,
            "visibility": null,
            "width": null
          }
        },
        "5d986252a7e24b3eb5bbcb7e55a2d173": {
          "model_module": "@jupyter-widgets/controls",
          "model_module_version": "1.5.0",
          "model_name": "ProgressStyleModel",
          "state": {
            "_model_module": "@jupyter-widgets/controls",
            "_model_module_version": "1.5.0",
            "_model_name": "ProgressStyleModel",
            "_view_count": null,
            "_view_module": "@jupyter-widgets/base",
            "_view_module_version": "1.2.0",
            "_view_name": "StyleView",
            "bar_color": null,
            "description_width": ""
          }
        },
        "60f8d5b295ca42bf99f6389a1916bbed": {
          "model_module": "@jupyter-widgets/controls",
          "model_module_version": "1.5.0",
          "model_name": "ProgressStyleModel",
          "state": {
            "_model_module": "@jupyter-widgets/controls",
            "_model_module_version": "1.5.0",
            "_model_name": "ProgressStyleModel",
            "_view_count": null,
            "_view_module": "@jupyter-widgets/base",
            "_view_module_version": "1.2.0",
            "_view_name": "StyleView",
            "bar_color": null,
            "description_width": ""
          }
        },
        "61d308e33ff54a4485e131b66db78426": {
          "model_module": "@jupyter-widgets/controls",
          "model_module_version": "1.5.0",
          "model_name": "HTMLModel",
          "state": {
            "_dom_classes": [],
            "_model_module": "@jupyter-widgets/controls",
            "_model_module_version": "1.5.0",
            "_model_name": "HTMLModel",
            "_view_count": null,
            "_view_module": "@jupyter-widgets/controls",
            "_view_module_version": "1.5.0",
            "_view_name": "HTMLView",
            "description": "",
            "description_tooltip": null,
            "layout": "IPY_MODEL_3bae0caaabec48eba6ce6791fca31948",
            "placeholder": "​",
            "style": "IPY_MODEL_7b12309e9c344a128062b9660ba3cf60",
            "value": ""
          }
        },
        "6405614191a34e1782c0228bf6040a94": {
          "model_module": "@jupyter-widgets/controls",
          "model_module_version": "1.5.0",
          "model_name": "HBoxModel",
          "state": {
            "_dom_classes": [],
            "_model_module": "@jupyter-widgets/controls",
            "_model_module_version": "1.5.0",
            "_model_name": "HBoxModel",
            "_view_count": null,
            "_view_module": "@jupyter-widgets/controls",
            "_view_module_version": "1.5.0",
            "_view_name": "HBoxView",
            "box_style": "",
            "children": [
              "IPY_MODEL_3d928c3691f24963ace9e5b7e933f60f",
              "IPY_MODEL_f62dddfdd1064177af40be217c8bfa44",
              "IPY_MODEL_3b7f07097f754ccca4a9abd50bfb990c"
            ],
            "layout": "IPY_MODEL_b972613404e348e09b329c7ca4de95bc"
          }
        },
        "66aba793029a49fe86f4ad2d8adbdc5d": {
          "model_module": "@jupyter-widgets/controls",
          "model_module_version": "1.5.0",
          "model_name": "ProgressStyleModel",
          "state": {
            "_model_module": "@jupyter-widgets/controls",
            "_model_module_version": "1.5.0",
            "_model_name": "ProgressStyleModel",
            "_view_count": null,
            "_view_module": "@jupyter-widgets/base",
            "_view_module_version": "1.2.0",
            "_view_name": "StyleView",
            "bar_color": null,
            "description_width": ""
          }
        },
        "68c1bc8bf98f42a8a56afdf8d9996ad5": {
          "model_module": "@jupyter-widgets/controls",
          "model_module_version": "1.5.0",
          "model_name": "FloatProgressModel",
          "state": {
            "_dom_classes": [],
            "_model_module": "@jupyter-widgets/controls",
            "_model_module_version": "1.5.0",
            "_model_name": "FloatProgressModel",
            "_view_count": null,
            "_view_module": "@jupyter-widgets/controls",
            "_view_module_version": "1.5.0",
            "_view_name": "ProgressView",
            "bar_style": "success",
            "description": "",
            "description_tooltip": null,
            "layout": "IPY_MODEL_f6cdaf06bc9b4a6e9a7dd5b21d4bf6b8",
            "max": 1,
            "min": 0,
            "orientation": "horizontal",
            "style": "IPY_MODEL_ab82521764e04af7b27145cf69d3f16e",
            "value": 1
          }
        },
        "6b5fe8948a4a4bbab5a0d114726d12c5": {
          "model_module": "@jupyter-widgets/controls",
          "model_module_version": "1.5.0",
          "model_name": "ProgressStyleModel",
          "state": {
            "_model_module": "@jupyter-widgets/controls",
            "_model_module_version": "1.5.0",
            "_model_name": "ProgressStyleModel",
            "_view_count": null,
            "_view_module": "@jupyter-widgets/base",
            "_view_module_version": "1.2.0",
            "_view_name": "StyleView",
            "bar_color": null,
            "description_width": ""
          }
        },
        "6dae5fba04de44b6a96fae90c57236f7": {
          "model_module": "@jupyter-widgets/base",
          "model_module_version": "1.2.0",
          "model_name": "LayoutModel",
          "state": {
            "_model_module": "@jupyter-widgets/base",
            "_model_module_version": "1.2.0",
            "_model_name": "LayoutModel",
            "_view_count": null,
            "_view_module": "@jupyter-widgets/base",
            "_view_module_version": "1.2.0",
            "_view_name": "LayoutView",
            "align_content": null,
            "align_items": null,
            "align_self": null,
            "border": null,
            "bottom": null,
            "display": null,
            "flex": null,
            "flex_flow": null,
            "grid_area": null,
            "grid_auto_columns": null,
            "grid_auto_flow": null,
            "grid_auto_rows": null,
            "grid_column": null,
            "grid_gap": null,
            "grid_row": null,
            "grid_template_areas": null,
            "grid_template_columns": null,
            "grid_template_rows": null,
            "height": null,
            "justify_content": null,
            "justify_items": null,
            "left": null,
            "margin": null,
            "max_height": null,
            "max_width": null,
            "min_height": null,
            "min_width": null,
            "object_fit": null,
            "object_position": null,
            "order": null,
            "overflow": null,
            "overflow_x": null,
            "overflow_y": null,
            "padding": null,
            "right": null,
            "top": null,
            "visibility": null,
            "width": "20px"
          }
        },
        "71b994f0ad4842528adc09dabff21cf5": {
          "model_module": "@jupyter-widgets/base",
          "model_module_version": "1.2.0",
          "model_name": "LayoutModel",
          "state": {
            "_model_module": "@jupyter-widgets/base",
            "_model_module_version": "1.2.0",
            "_model_name": "LayoutModel",
            "_view_count": null,
            "_view_module": "@jupyter-widgets/base",
            "_view_module_version": "1.2.0",
            "_view_name": "LayoutView",
            "align_content": null,
            "align_items": null,
            "align_self": null,
            "border": null,
            "bottom": null,
            "display": null,
            "flex": null,
            "flex_flow": null,
            "grid_area": null,
            "grid_auto_columns": null,
            "grid_auto_flow": null,
            "grid_auto_rows": null,
            "grid_column": null,
            "grid_gap": null,
            "grid_row": null,
            "grid_template_areas": null,
            "grid_template_columns": null,
            "grid_template_rows": null,
            "height": null,
            "justify_content": null,
            "justify_items": null,
            "left": null,
            "margin": null,
            "max_height": null,
            "max_width": null,
            "min_height": null,
            "min_width": null,
            "object_fit": null,
            "object_position": null,
            "order": null,
            "overflow": null,
            "overflow_x": null,
            "overflow_y": null,
            "padding": null,
            "right": null,
            "top": null,
            "visibility": null,
            "width": null
          }
        },
        "724f7bc198cc4d9593b700063da105a8": {
          "model_module": "@jupyter-widgets/controls",
          "model_module_version": "1.5.0",
          "model_name": "DescriptionStyleModel",
          "state": {
            "_model_module": "@jupyter-widgets/controls",
            "_model_module_version": "1.5.0",
            "_model_name": "DescriptionStyleModel",
            "_view_count": null,
            "_view_module": "@jupyter-widgets/base",
            "_view_module_version": "1.2.0",
            "_view_name": "StyleView",
            "description_width": ""
          }
        },
        "736e39282b3345519f257e74f1eabdee": {
          "model_module": "@jupyter-widgets/base",
          "model_module_version": "1.2.0",
          "model_name": "LayoutModel",
          "state": {
            "_model_module": "@jupyter-widgets/base",
            "_model_module_version": "1.2.0",
            "_model_name": "LayoutModel",
            "_view_count": null,
            "_view_module": "@jupyter-widgets/base",
            "_view_module_version": "1.2.0",
            "_view_name": "LayoutView",
            "align_content": null,
            "align_items": null,
            "align_self": null,
            "border": null,
            "bottom": null,
            "display": null,
            "flex": null,
            "flex_flow": null,
            "grid_area": null,
            "grid_auto_columns": null,
            "grid_auto_flow": null,
            "grid_auto_rows": null,
            "grid_column": null,
            "grid_gap": null,
            "grid_row": null,
            "grid_template_areas": null,
            "grid_template_columns": null,
            "grid_template_rows": null,
            "height": null,
            "justify_content": null,
            "justify_items": null,
            "left": null,
            "margin": null,
            "max_height": null,
            "max_width": null,
            "min_height": null,
            "min_width": null,
            "object_fit": null,
            "object_position": null,
            "order": null,
            "overflow": null,
            "overflow_x": null,
            "overflow_y": null,
            "padding": null,
            "right": null,
            "top": null,
            "visibility": null,
            "width": null
          }
        },
        "7453d43f3525473f869362e65e305ac4": {
          "model_module": "@jupyter-widgets/controls",
          "model_module_version": "1.5.0",
          "model_name": "ProgressStyleModel",
          "state": {
            "_model_module": "@jupyter-widgets/controls",
            "_model_module_version": "1.5.0",
            "_model_name": "ProgressStyleModel",
            "_view_count": null,
            "_view_module": "@jupyter-widgets/base",
            "_view_module_version": "1.2.0",
            "_view_name": "StyleView",
            "bar_color": null,
            "description_width": ""
          }
        },
        "75b3f10bb0bf462db86b428dd31cf08d": {
          "model_module": "@jupyter-widgets/controls",
          "model_module_version": "1.5.0",
          "model_name": "DescriptionStyleModel",
          "state": {
            "_model_module": "@jupyter-widgets/controls",
            "_model_module_version": "1.5.0",
            "_model_name": "DescriptionStyleModel",
            "_view_count": null,
            "_view_module": "@jupyter-widgets/base",
            "_view_module_version": "1.2.0",
            "_view_name": "StyleView",
            "description_width": ""
          }
        },
        "767ca0fbac384e0abe08105858c8ed01": {
          "model_module": "@jupyter-widgets/controls",
          "model_module_version": "1.5.0",
          "model_name": "HTMLModel",
          "state": {
            "_dom_classes": [],
            "_model_module": "@jupyter-widgets/controls",
            "_model_module_version": "1.5.0",
            "_model_name": "HTMLModel",
            "_view_count": null,
            "_view_module": "@jupyter-widgets/controls",
            "_view_module_version": "1.5.0",
            "_view_name": "HTMLView",
            "description": "",
            "description_tooltip": null,
            "layout": "IPY_MODEL_aa95b65390d84c9fb41ecd042716b0ea",
            "placeholder": "​",
            "style": "IPY_MODEL_1d17bd72c3074742a59e4756e4af9cb9",
            "value": "Downloading: "
          }
        },
        "776d9652de6444209f65bc5eaf886f8a": {
          "model_module": "@jupyter-widgets/controls",
          "model_module_version": "1.5.0",
          "model_name": "DescriptionStyleModel",
          "state": {
            "_model_module": "@jupyter-widgets/controls",
            "_model_module_version": "1.5.0",
            "_model_name": "DescriptionStyleModel",
            "_view_count": null,
            "_view_module": "@jupyter-widgets/base",
            "_view_module_version": "1.2.0",
            "_view_name": "StyleView",
            "description_width": ""
          }
        },
        "77bc738685674210ac477c5da05289bd": {
          "model_module": "@jupyter-widgets/controls",
          "model_module_version": "1.5.0",
          "model_name": "HBoxModel",
          "state": {
            "_dom_classes": [],
            "_model_module": "@jupyter-widgets/controls",
            "_model_module_version": "1.5.0",
            "_model_name": "HBoxModel",
            "_view_count": null,
            "_view_module": "@jupyter-widgets/controls",
            "_view_module_version": "1.5.0",
            "_view_name": "HBoxView",
            "box_style": "",
            "children": [
              "IPY_MODEL_33b42cfcdd454119b02bf1844170de2d",
              "IPY_MODEL_f6c324871ccc415fb13c7f321c46251c",
              "IPY_MODEL_d802f35423044b3d9c5829878f7fbe47"
            ],
            "layout": "IPY_MODEL_cab4f0b78a284ce0983cdd783664ae1e"
          }
        },
        "78f97fec99c543b5915c7fc4834e673f": {
          "model_module": "@jupyter-widgets/base",
          "model_module_version": "1.2.0",
          "model_name": "LayoutModel",
          "state": {
            "_model_module": "@jupyter-widgets/base",
            "_model_module_version": "1.2.0",
            "_model_name": "LayoutModel",
            "_view_count": null,
            "_view_module": "@jupyter-widgets/base",
            "_view_module_version": "1.2.0",
            "_view_name": "LayoutView",
            "align_content": null,
            "align_items": null,
            "align_self": null,
            "border": null,
            "bottom": null,
            "display": null,
            "flex": null,
            "flex_flow": null,
            "grid_area": null,
            "grid_auto_columns": null,
            "grid_auto_flow": null,
            "grid_auto_rows": null,
            "grid_column": null,
            "grid_gap": null,
            "grid_row": null,
            "grid_template_areas": null,
            "grid_template_columns": null,
            "grid_template_rows": null,
            "height": null,
            "justify_content": null,
            "justify_items": null,
            "left": null,
            "margin": null,
            "max_height": null,
            "max_width": null,
            "min_height": null,
            "min_width": null,
            "object_fit": null,
            "object_position": null,
            "order": null,
            "overflow": null,
            "overflow_x": null,
            "overflow_y": null,
            "padding": null,
            "right": null,
            "top": null,
            "visibility": null,
            "width": null
          }
        },
        "7b12309e9c344a128062b9660ba3cf60": {
          "model_module": "@jupyter-widgets/controls",
          "model_module_version": "1.5.0",
          "model_name": "DescriptionStyleModel",
          "state": {
            "_model_module": "@jupyter-widgets/controls",
            "_model_module_version": "1.5.0",
            "_model_name": "DescriptionStyleModel",
            "_view_count": null,
            "_view_module": "@jupyter-widgets/base",
            "_view_module_version": "1.2.0",
            "_view_name": "StyleView",
            "description_width": ""
          }
        },
        "7c1121a01dc841b083dba25804c0f75b": {
          "model_module": "@jupyter-widgets/controls",
          "model_module_version": "1.5.0",
          "model_name": "DescriptionStyleModel",
          "state": {
            "_model_module": "@jupyter-widgets/controls",
            "_model_module_version": "1.5.0",
            "_model_name": "DescriptionStyleModel",
            "_view_count": null,
            "_view_module": "@jupyter-widgets/base",
            "_view_module_version": "1.2.0",
            "_view_name": "StyleView",
            "description_width": ""
          }
        },
        "7edcda6a8d0a4ccebd8bcef80b8ac8fe": {
          "model_module": "@jupyter-widgets/base",
          "model_module_version": "1.2.0",
          "model_name": "LayoutModel",
          "state": {
            "_model_module": "@jupyter-widgets/base",
            "_model_module_version": "1.2.0",
            "_model_name": "LayoutModel",
            "_view_count": null,
            "_view_module": "@jupyter-widgets/base",
            "_view_module_version": "1.2.0",
            "_view_name": "LayoutView",
            "align_content": null,
            "align_items": null,
            "align_self": null,
            "border": null,
            "bottom": null,
            "display": null,
            "flex": null,
            "flex_flow": null,
            "grid_area": null,
            "grid_auto_columns": null,
            "grid_auto_flow": null,
            "grid_auto_rows": null,
            "grid_column": null,
            "grid_gap": null,
            "grid_row": null,
            "grid_template_areas": null,
            "grid_template_columns": null,
            "grid_template_rows": null,
            "height": null,
            "justify_content": null,
            "justify_items": null,
            "left": null,
            "margin": null,
            "max_height": null,
            "max_width": null,
            "min_height": null,
            "min_width": null,
            "object_fit": null,
            "object_position": null,
            "order": null,
            "overflow": null,
            "overflow_x": null,
            "overflow_y": null,
            "padding": null,
            "right": null,
            "top": null,
            "visibility": null,
            "width": null
          }
        },
        "82dedaaa6e374e61b5bad517077f10a8": {
          "model_module": "@jupyter-widgets/base",
          "model_module_version": "1.2.0",
          "model_name": "LayoutModel",
          "state": {
            "_model_module": "@jupyter-widgets/base",
            "_model_module_version": "1.2.0",
            "_model_name": "LayoutModel",
            "_view_count": null,
            "_view_module": "@jupyter-widgets/base",
            "_view_module_version": "1.2.0",
            "_view_name": "LayoutView",
            "align_content": null,
            "align_items": null,
            "align_self": null,
            "border": null,
            "bottom": null,
            "display": null,
            "flex": null,
            "flex_flow": null,
            "grid_area": null,
            "grid_auto_columns": null,
            "grid_auto_flow": null,
            "grid_auto_rows": null,
            "grid_column": null,
            "grid_gap": null,
            "grid_row": null,
            "grid_template_areas": null,
            "grid_template_columns": null,
            "grid_template_rows": null,
            "height": null,
            "justify_content": null,
            "justify_items": null,
            "left": null,
            "margin": null,
            "max_height": null,
            "max_width": null,
            "min_height": null,
            "min_width": null,
            "object_fit": null,
            "object_position": null,
            "order": null,
            "overflow": null,
            "overflow_x": null,
            "overflow_y": null,
            "padding": null,
            "right": null,
            "top": null,
            "visibility": null,
            "width": null
          }
        },
        "853f8545d18d4a1ca492d543c8a1bcf9": {
          "model_module": "@jupyter-widgets/controls",
          "model_module_version": "1.5.0",
          "model_name": "HTMLModel",
          "state": {
            "_dom_classes": [],
            "_model_module": "@jupyter-widgets/controls",
            "_model_module_version": "1.5.0",
            "_model_name": "HTMLModel",
            "_view_count": null,
            "_view_module": "@jupyter-widgets/controls",
            "_view_module_version": "1.5.0",
            "_view_name": "HTMLView",
            "description": "",
            "description_tooltip": null,
            "layout": "IPY_MODEL_78f97fec99c543b5915c7fc4834e673f",
            "placeholder": "​",
            "style": "IPY_MODEL_0da16f1feedb4d0b96c3e747c545676e",
            "value": " 1749/? [00:00&lt;00:00, 3714.80ex/s]"
          }
        },
        "856c76f09f7c4ef081f9f712f0051a97": {
          "model_module": "@jupyter-widgets/controls",
          "model_module_version": "1.5.0",
          "model_name": "HTMLModel",
          "state": {
            "_dom_classes": [],
            "_model_module": "@jupyter-widgets/controls",
            "_model_module_version": "1.5.0",
            "_model_name": "HTMLModel",
            "_view_count": null,
            "_view_module": "@jupyter-widgets/controls",
            "_view_module_version": "1.5.0",
            "_view_name": "HTMLView",
            "description": "",
            "description_tooltip": null,
            "layout": "IPY_MODEL_e6bf32454ec64a5a9b1b0e63e9e43378",
            "placeholder": "​",
            "style": "IPY_MODEL_a3a842c7a4a14f8da2fe9cbe0b2a260b",
            "value": " 788/? [00:00&lt;00:00, 4226.10ex/s]"
          }
        },
        "86988fd773b84b509b174e5acc9b6d61": {
          "model_module": "@jupyter-widgets/controls",
          "model_module_version": "1.5.0",
          "model_name": "DescriptionStyleModel",
          "state": {
            "_model_module": "@jupyter-widgets/controls",
            "_model_module_version": "1.5.0",
            "_model_name": "DescriptionStyleModel",
            "_view_count": null,
            "_view_module": "@jupyter-widgets/base",
            "_view_module_version": "1.2.0",
            "_view_name": "StyleView",
            "description_width": ""
          }
        },
        "87f3630430a34847a94aa0c371539469": {
          "model_module": "@jupyter-widgets/controls",
          "model_module_version": "1.5.0",
          "model_name": "FloatProgressModel",
          "state": {
            "_dom_classes": [],
            "_model_module": "@jupyter-widgets/controls",
            "_model_module_version": "1.5.0",
            "_model_name": "FloatProgressModel",
            "_view_count": null,
            "_view_module": "@jupyter-widgets/controls",
            "_view_module_version": "1.5.0",
            "_view_name": "ProgressView",
            "bar_style": "success",
            "description": "",
            "description_tooltip": null,
            "layout": "IPY_MODEL_132d1d5490a74824b6f49df83fd1413d",
            "max": 1,
            "min": 0,
            "orientation": "horizontal",
            "style": "IPY_MODEL_50469216aeeb48ec89e3f22996fab3b6",
            "value": 1
          }
        },
        "887831337340434996b43a14439bd792": {
          "model_module": "@jupyter-widgets/controls",
          "model_module_version": "1.5.0",
          "model_name": "HTMLModel",
          "state": {
            "_dom_classes": [],
            "_model_module": "@jupyter-widgets/controls",
            "_model_module_version": "1.5.0",
            "_model_name": "HTMLModel",
            "_view_count": null,
            "_view_module": "@jupyter-widgets/controls",
            "_view_module_version": "1.5.0",
            "_view_name": "HTMLView",
            "description": "",
            "description_tooltip": null,
            "layout": "IPY_MODEL_b02da27c5b3e4568b44f2acad5c26bd0",
            "placeholder": "​",
            "style": "IPY_MODEL_db9eff2e7b644468acc559ab29b1a83d",
            "value": "100%"
          }
        },
        "889feb8a15ea4dc7a16e563f9b5b0c65": {
          "model_module": "@jupyter-widgets/base",
          "model_module_version": "1.2.0",
          "model_name": "LayoutModel",
          "state": {
            "_model_module": "@jupyter-widgets/base",
            "_model_module_version": "1.2.0",
            "_model_name": "LayoutModel",
            "_view_count": null,
            "_view_module": "@jupyter-widgets/base",
            "_view_module_version": "1.2.0",
            "_view_name": "LayoutView",
            "align_content": null,
            "align_items": null,
            "align_self": null,
            "border": null,
            "bottom": null,
            "display": null,
            "flex": null,
            "flex_flow": null,
            "grid_area": null,
            "grid_auto_columns": null,
            "grid_auto_flow": null,
            "grid_auto_rows": null,
            "grid_column": null,
            "grid_gap": null,
            "grid_row": null,
            "grid_template_areas": null,
            "grid_template_columns": null,
            "grid_template_rows": null,
            "height": null,
            "justify_content": null,
            "justify_items": null,
            "left": null,
            "margin": null,
            "max_height": null,
            "max_width": null,
            "min_height": null,
            "min_width": null,
            "object_fit": null,
            "object_position": null,
            "order": null,
            "overflow": null,
            "overflow_x": null,
            "overflow_y": null,
            "padding": null,
            "right": null,
            "top": null,
            "visibility": null,
            "width": "20px"
          }
        },
        "88d1d270daa5477b83590405d0421ea1": {
          "model_module": "@jupyter-widgets/controls",
          "model_module_version": "1.5.0",
          "model_name": "FloatProgressModel",
          "state": {
            "_dom_classes": [],
            "_model_module": "@jupyter-widgets/controls",
            "_model_module_version": "1.5.0",
            "_model_name": "FloatProgressModel",
            "_view_count": null,
            "_view_module": "@jupyter-widgets/controls",
            "_view_module_version": "1.5.0",
            "_view_name": "ProgressView",
            "bar_style": "success",
            "description": "",
            "description_tooltip": null,
            "layout": "IPY_MODEL_fd48a8f47b4f40e39c69a3fe39c9b1ad",
            "max": 1,
            "min": 0,
            "orientation": "horizontal",
            "style": "IPY_MODEL_b2cefd78da444437bd74fb3866cc6ac7",
            "value": 1
          }
        },
        "8bb2ea9834c1498fa662fec6121a64ac": {
          "model_module": "@jupyter-widgets/controls",
          "model_module_version": "1.5.0",
          "model_name": "HBoxModel",
          "state": {
            "_dom_classes": [],
            "_model_module": "@jupyter-widgets/controls",
            "_model_module_version": "1.5.0",
            "_model_name": "HBoxModel",
            "_view_count": null,
            "_view_module": "@jupyter-widgets/controls",
            "_view_module_version": "1.5.0",
            "_view_name": "HBoxView",
            "box_style": "",
            "children": [
              "IPY_MODEL_270a1cf404614e0592ee1cd7474c224a",
              "IPY_MODEL_68c1bc8bf98f42a8a56afdf8d9996ad5",
              "IPY_MODEL_4133bcad2c124159946b7631dea9a348"
            ],
            "layout": "IPY_MODEL_dc2f972448f5448cbe9c430cbe241c51"
          }
        },
        "8cd2411526494f3f9f541b8f2a10cf55": {
          "model_module": "@jupyter-widgets/controls",
          "model_module_version": "1.5.0",
          "model_name": "DescriptionStyleModel",
          "state": {
            "_model_module": "@jupyter-widgets/controls",
            "_model_module_version": "1.5.0",
            "_model_name": "DescriptionStyleModel",
            "_view_count": null,
            "_view_module": "@jupyter-widgets/base",
            "_view_module_version": "1.2.0",
            "_view_name": "StyleView",
            "description_width": ""
          }
        },
        "8d5f30e5d545406f897ce24d5410fe4a": {
          "model_module": "@jupyter-widgets/controls",
          "model_module_version": "1.5.0",
          "model_name": "HTMLModel",
          "state": {
            "_dom_classes": [],
            "_model_module": "@jupyter-widgets/controls",
            "_model_module_version": "1.5.0",
            "_model_name": "HTMLModel",
            "_view_count": null,
            "_view_module": "@jupyter-widgets/controls",
            "_view_module_version": "1.5.0",
            "_view_name": "HTMLView",
            "description": "",
            "description_tooltip": null,
            "layout": "IPY_MODEL_e9f4e478052b4e2aaabe3cb7c3f150cf",
            "placeholder": "​",
            "style": "IPY_MODEL_25f9cbc1a292459c89c65689aead5c0e",
            "value": ""
          }
        },
        "8e3c5d00c5a84835b8888ad627b3b6cd": {
          "model_module": "@jupyter-widgets/base",
          "model_module_version": "1.2.0",
          "model_name": "LayoutModel",
          "state": {
            "_model_module": "@jupyter-widgets/base",
            "_model_module_version": "1.2.0",
            "_model_name": "LayoutModel",
            "_view_count": null,
            "_view_module": "@jupyter-widgets/base",
            "_view_module_version": "1.2.0",
            "_view_name": "LayoutView",
            "align_content": null,
            "align_items": null,
            "align_self": null,
            "border": null,
            "bottom": null,
            "display": null,
            "flex": null,
            "flex_flow": null,
            "grid_area": null,
            "grid_auto_columns": null,
            "grid_auto_flow": null,
            "grid_auto_rows": null,
            "grid_column": null,
            "grid_gap": null,
            "grid_row": null,
            "grid_template_areas": null,
            "grid_template_columns": null,
            "grid_template_rows": null,
            "height": null,
            "justify_content": null,
            "justify_items": null,
            "left": null,
            "margin": null,
            "max_height": null,
            "max_width": null,
            "min_height": null,
            "min_width": null,
            "object_fit": null,
            "object_position": null,
            "order": null,
            "overflow": null,
            "overflow_x": null,
            "overflow_y": null,
            "padding": null,
            "right": null,
            "top": null,
            "visibility": null,
            "width": "20px"
          }
        },
        "8fa7604e862d4fff9ed8da739ec7190d": {
          "model_module": "@jupyter-widgets/base",
          "model_module_version": "1.2.0",
          "model_name": "LayoutModel",
          "state": {
            "_model_module": "@jupyter-widgets/base",
            "_model_module_version": "1.2.0",
            "_model_name": "LayoutModel",
            "_view_count": null,
            "_view_module": "@jupyter-widgets/base",
            "_view_module_version": "1.2.0",
            "_view_name": "LayoutView",
            "align_content": null,
            "align_items": null,
            "align_self": null,
            "border": null,
            "bottom": null,
            "display": null,
            "flex": null,
            "flex_flow": null,
            "grid_area": null,
            "grid_auto_columns": null,
            "grid_auto_flow": null,
            "grid_auto_rows": null,
            "grid_column": null,
            "grid_gap": null,
            "grid_row": null,
            "grid_template_areas": null,
            "grid_template_columns": null,
            "grid_template_rows": null,
            "height": null,
            "justify_content": null,
            "justify_items": null,
            "left": null,
            "margin": null,
            "max_height": null,
            "max_width": null,
            "min_height": null,
            "min_width": null,
            "object_fit": null,
            "object_position": null,
            "order": null,
            "overflow": null,
            "overflow_x": null,
            "overflow_y": null,
            "padding": null,
            "right": null,
            "top": null,
            "visibility": null,
            "width": null
          }
        },
        "930153a932ae4ce7b7832eef2b30b68e": {
          "model_module": "@jupyter-widgets/controls",
          "model_module_version": "1.5.0",
          "model_name": "HTMLModel",
          "state": {
            "_dom_classes": [],
            "_model_module": "@jupyter-widgets/controls",
            "_model_module_version": "1.5.0",
            "_model_name": "HTMLModel",
            "_view_count": null,
            "_view_module": "@jupyter-widgets/controls",
            "_view_module_version": "1.5.0",
            "_view_name": "HTMLView",
            "description": "",
            "description_tooltip": null,
            "layout": "IPY_MODEL_7edcda6a8d0a4ccebd8bcef80b8ac8fe",
            "placeholder": "​",
            "style": "IPY_MODEL_7c1121a01dc841b083dba25804c0f75b",
            "value": " 817/0 [00:01&lt;00:00, 1089.17 examples/s]"
          }
        },
        "9477a0a20ecf4d49bfa9b0671e06f33b": {
          "model_module": "@jupyter-widgets/controls",
          "model_module_version": "1.5.0",
          "model_name": "HTMLModel",
          "state": {
            "_dom_classes": [],
            "_model_module": "@jupyter-widgets/controls",
            "_model_module_version": "1.5.0",
            "_model_name": "HTMLModel",
            "_view_count": null,
            "_view_module": "@jupyter-widgets/controls",
            "_view_module_version": "1.5.0",
            "_view_name": "HTMLView",
            "description": "",
            "description_tooltip": null,
            "layout": "IPY_MODEL_3a695c3265b54eed856fa7321c619e30",
            "placeholder": "​",
            "style": "IPY_MODEL_776d9652de6444209f65bc5eaf886f8a",
            "value": " 788/? [00:00&lt;00:00, 2927.55ex/s]"
          }
        },
        "95d51c06024d4af5a71ab8f3b1b0fe2b": {
          "model_module": "@jupyter-widgets/controls",
          "model_module_version": "1.5.0",
          "model_name": "FloatProgressModel",
          "state": {
            "_dom_classes": [],
            "_model_module": "@jupyter-widgets/controls",
            "_model_module_version": "1.5.0",
            "_model_name": "FloatProgressModel",
            "_view_count": null,
            "_view_module": "@jupyter-widgets/controls",
            "_view_module_version": "1.5.0",
            "_view_name": "ProgressView",
            "bar_style": "success",
            "description": "",
            "description_tooltip": null,
            "layout": "IPY_MODEL_e8a80a5459bd46aeacc8c06e781651d0",
            "max": 4620,
            "min": 0,
            "orientation": "horizontal",
            "style": "IPY_MODEL_25620d8d36b8419ea903211de10cbfb6",
            "value": 4620
          }
        },
        "9760ca3708844932ac2a447b4e3d04dc": {
          "model_module": "@jupyter-widgets/controls",
          "model_module_version": "1.5.0",
          "model_name": "DescriptionStyleModel",
          "state": {
            "_model_module": "@jupyter-widgets/controls",
            "_model_module_version": "1.5.0",
            "_model_name": "DescriptionStyleModel",
            "_view_count": null,
            "_view_module": "@jupyter-widgets/base",
            "_view_module_version": "1.2.0",
            "_view_name": "StyleView",
            "description_width": ""
          }
        },
        "9a141ffb5e8a40b88cb62dcd1a438f5a": {
          "model_module": "@jupyter-widgets/base",
          "model_module_version": "1.2.0",
          "model_name": "LayoutModel",
          "state": {
            "_model_module": "@jupyter-widgets/base",
            "_model_module_version": "1.2.0",
            "_model_name": "LayoutModel",
            "_view_count": null,
            "_view_module": "@jupyter-widgets/base",
            "_view_module_version": "1.2.0",
            "_view_name": "LayoutView",
            "align_content": null,
            "align_items": null,
            "align_self": null,
            "border": null,
            "bottom": null,
            "display": null,
            "flex": null,
            "flex_flow": null,
            "grid_area": null,
            "grid_auto_columns": null,
            "grid_auto_flow": null,
            "grid_auto_rows": null,
            "grid_column": null,
            "grid_gap": null,
            "grid_row": null,
            "grid_template_areas": null,
            "grid_template_columns": null,
            "grid_template_rows": null,
            "height": null,
            "justify_content": null,
            "justify_items": null,
            "left": null,
            "margin": null,
            "max_height": null,
            "max_width": null,
            "min_height": null,
            "min_width": null,
            "object_fit": null,
            "object_position": null,
            "order": null,
            "overflow": null,
            "overflow_x": null,
            "overflow_y": null,
            "padding": null,
            "right": null,
            "top": null,
            "visibility": null,
            "width": null
          }
        },
        "9a53a02644904303a1e632f324eebba2": {
          "model_module": "@jupyter-widgets/controls",
          "model_module_version": "1.5.0",
          "model_name": "DescriptionStyleModel",
          "state": {
            "_model_module": "@jupyter-widgets/controls",
            "_model_module_version": "1.5.0",
            "_model_name": "DescriptionStyleModel",
            "_view_count": null,
            "_view_module": "@jupyter-widgets/base",
            "_view_module_version": "1.2.0",
            "_view_name": "StyleView",
            "description_width": ""
          }
        },
        "9ac48d51f7b34a5283d40bf759727c1c": {
          "model_module": "@jupyter-widgets/controls",
          "model_module_version": "1.5.0",
          "model_name": "ProgressStyleModel",
          "state": {
            "_model_module": "@jupyter-widgets/controls",
            "_model_module_version": "1.5.0",
            "_model_name": "ProgressStyleModel",
            "_view_count": null,
            "_view_module": "@jupyter-widgets/base",
            "_view_module_version": "1.2.0",
            "_view_name": "StyleView",
            "bar_color": null,
            "description_width": ""
          }
        },
        "9d3faf8d6e3a441c89d1a1e1520f45a5": {
          "model_module": "@jupyter-widgets/controls",
          "model_module_version": "1.5.0",
          "model_name": "HTMLModel",
          "state": {
            "_dom_classes": [],
            "_model_module": "@jupyter-widgets/controls",
            "_model_module_version": "1.5.0",
            "_model_name": "HTMLModel",
            "_view_count": null,
            "_view_module": "@jupyter-widgets/controls",
            "_view_module_version": "1.5.0",
            "_view_name": "HTMLView",
            "description": "",
            "description_tooltip": null,
            "layout": "IPY_MODEL_5164556812f44a9f9596840c327b05ed",
            "placeholder": "​",
            "style": "IPY_MODEL_a2546d96b12d41488d373e1ceaabef55",
            "value": " 6736/0 [00:04&lt;00:00, 1870.73 examples/s]"
          }
        },
        "9eabaa08022f40a99ea243bedbbde131": {
          "model_module": "@jupyter-widgets/base",
          "model_module_version": "1.2.0",
          "model_name": "LayoutModel",
          "state": {
            "_model_module": "@jupyter-widgets/base",
            "_model_module_version": "1.2.0",
            "_model_name": "LayoutModel",
            "_view_count": null,
            "_view_module": "@jupyter-widgets/base",
            "_view_module_version": "1.2.0",
            "_view_name": "LayoutView",
            "align_content": null,
            "align_items": null,
            "align_self": null,
            "border": null,
            "bottom": null,
            "display": null,
            "flex": null,
            "flex_flow": null,
            "grid_area": null,
            "grid_auto_columns": null,
            "grid_auto_flow": null,
            "grid_auto_rows": null,
            "grid_column": null,
            "grid_gap": null,
            "grid_row": null,
            "grid_template_areas": null,
            "grid_template_columns": null,
            "grid_template_rows": null,
            "height": null,
            "justify_content": null,
            "justify_items": null,
            "left": null,
            "margin": null,
            "max_height": null,
            "max_width": null,
            "min_height": null,
            "min_width": null,
            "object_fit": null,
            "object_position": null,
            "order": null,
            "overflow": null,
            "overflow_x": null,
            "overflow_y": null,
            "padding": null,
            "right": null,
            "top": null,
            "visibility": null,
            "width": null
          }
        },
        "a0b6fa624808461a96b08e3820b431ec": {
          "model_module": "@jupyter-widgets/base",
          "model_module_version": "1.2.0",
          "model_name": "LayoutModel",
          "state": {
            "_model_module": "@jupyter-widgets/base",
            "_model_module_version": "1.2.0",
            "_model_name": "LayoutModel",
            "_view_count": null,
            "_view_module": "@jupyter-widgets/base",
            "_view_module_version": "1.2.0",
            "_view_name": "LayoutView",
            "align_content": null,
            "align_items": null,
            "align_self": null,
            "border": null,
            "bottom": null,
            "display": null,
            "flex": null,
            "flex_flow": null,
            "grid_area": null,
            "grid_auto_columns": null,
            "grid_auto_flow": null,
            "grid_auto_rows": null,
            "grid_column": null,
            "grid_gap": null,
            "grid_row": null,
            "grid_template_areas": null,
            "grid_template_columns": null,
            "grid_template_rows": null,
            "height": null,
            "justify_content": null,
            "justify_items": null,
            "left": null,
            "margin": null,
            "max_height": null,
            "max_width": null,
            "min_height": null,
            "min_width": null,
            "object_fit": null,
            "object_position": null,
            "order": null,
            "overflow": null,
            "overflow_x": null,
            "overflow_y": null,
            "padding": null,
            "right": null,
            "top": null,
            "visibility": null,
            "width": null
          }
        },
        "a2546d96b12d41488d373e1ceaabef55": {
          "model_module": "@jupyter-widgets/controls",
          "model_module_version": "1.5.0",
          "model_name": "DescriptionStyleModel",
          "state": {
            "_model_module": "@jupyter-widgets/controls",
            "_model_module_version": "1.5.0",
            "_model_name": "DescriptionStyleModel",
            "_view_count": null,
            "_view_module": "@jupyter-widgets/base",
            "_view_module_version": "1.2.0",
            "_view_name": "StyleView",
            "description_width": ""
          }
        },
        "a3a0bed3a30444bf858d42b071583fd9": {
          "model_module": "@jupyter-widgets/controls",
          "model_module_version": "1.5.0",
          "model_name": "HBoxModel",
          "state": {
            "_dom_classes": [],
            "_model_module": "@jupyter-widgets/controls",
            "_model_module_version": "1.5.0",
            "_model_name": "HBoxModel",
            "_view_count": null,
            "_view_module": "@jupyter-widgets/controls",
            "_view_module_version": "1.5.0",
            "_view_name": "HBoxView",
            "box_style": "",
            "children": [
              "IPY_MODEL_767ca0fbac384e0abe08105858c8ed01",
              "IPY_MODEL_95d51c06024d4af5a71ab8f3b1b0fe2b",
              "IPY_MODEL_1d5166d492b0405fa3e6089183c9c426"
            ],
            "layout": "IPY_MODEL_82dedaaa6e374e61b5bad517077f10a8"
          }
        },
        "a3a842c7a4a14f8da2fe9cbe0b2a260b": {
          "model_module": "@jupyter-widgets/controls",
          "model_module_version": "1.5.0",
          "model_name": "DescriptionStyleModel",
          "state": {
            "_model_module": "@jupyter-widgets/controls",
            "_model_module_version": "1.5.0",
            "_model_name": "DescriptionStyleModel",
            "_view_count": null,
            "_view_module": "@jupyter-widgets/base",
            "_view_module_version": "1.2.0",
            "_view_name": "StyleView",
            "description_width": ""
          }
        },
        "aa95b65390d84c9fb41ecd042716b0ea": {
          "model_module": "@jupyter-widgets/base",
          "model_module_version": "1.2.0",
          "model_name": "LayoutModel",
          "state": {
            "_model_module": "@jupyter-widgets/base",
            "_model_module_version": "1.2.0",
            "_model_name": "LayoutModel",
            "_view_count": null,
            "_view_module": "@jupyter-widgets/base",
            "_view_module_version": "1.2.0",
            "_view_name": "LayoutView",
            "align_content": null,
            "align_items": null,
            "align_self": null,
            "border": null,
            "bottom": null,
            "display": null,
            "flex": null,
            "flex_flow": null,
            "grid_area": null,
            "grid_auto_columns": null,
            "grid_auto_flow": null,
            "grid_auto_rows": null,
            "grid_column": null,
            "grid_gap": null,
            "grid_row": null,
            "grid_template_areas": null,
            "grid_template_columns": null,
            "grid_template_rows": null,
            "height": null,
            "justify_content": null,
            "justify_items": null,
            "left": null,
            "margin": null,
            "max_height": null,
            "max_width": null,
            "min_height": null,
            "min_width": null,
            "object_fit": null,
            "object_position": null,
            "order": null,
            "overflow": null,
            "overflow_x": null,
            "overflow_y": null,
            "padding": null,
            "right": null,
            "top": null,
            "visibility": null,
            "width": null
          }
        },
        "ab82521764e04af7b27145cf69d3f16e": {
          "model_module": "@jupyter-widgets/controls",
          "model_module_version": "1.5.0",
          "model_name": "ProgressStyleModel",
          "state": {
            "_model_module": "@jupyter-widgets/controls",
            "_model_module_version": "1.5.0",
            "_model_name": "ProgressStyleModel",
            "_view_count": null,
            "_view_module": "@jupyter-widgets/base",
            "_view_module_version": "1.2.0",
            "_view_name": "StyleView",
            "bar_color": null,
            "description_width": ""
          }
        },
        "b02da27c5b3e4568b44f2acad5c26bd0": {
          "model_module": "@jupyter-widgets/base",
          "model_module_version": "1.2.0",
          "model_name": "LayoutModel",
          "state": {
            "_model_module": "@jupyter-widgets/base",
            "_model_module_version": "1.2.0",
            "_model_name": "LayoutModel",
            "_view_count": null,
            "_view_module": "@jupyter-widgets/base",
            "_view_module_version": "1.2.0",
            "_view_name": "LayoutView",
            "align_content": null,
            "align_items": null,
            "align_self": null,
            "border": null,
            "bottom": null,
            "display": null,
            "flex": null,
            "flex_flow": null,
            "grid_area": null,
            "grid_auto_columns": null,
            "grid_auto_flow": null,
            "grid_auto_rows": null,
            "grid_column": null,
            "grid_gap": null,
            "grid_row": null,
            "grid_template_areas": null,
            "grid_template_columns": null,
            "grid_template_rows": null,
            "height": null,
            "justify_content": null,
            "justify_items": null,
            "left": null,
            "margin": null,
            "max_height": null,
            "max_width": null,
            "min_height": null,
            "min_width": null,
            "object_fit": null,
            "object_position": null,
            "order": null,
            "overflow": null,
            "overflow_x": null,
            "overflow_y": null,
            "padding": null,
            "right": null,
            "top": null,
            "visibility": null,
            "width": null
          }
        },
        "b07be89bf9db4d52b524e543f619349c": {
          "model_module": "@jupyter-widgets/controls",
          "model_module_version": "1.5.0",
          "model_name": "FloatProgressModel",
          "state": {
            "_dom_classes": [],
            "_model_module": "@jupyter-widgets/controls",
            "_model_module_version": "1.5.0",
            "_model_name": "FloatProgressModel",
            "_view_count": null,
            "_view_module": "@jupyter-widgets/controls",
            "_view_module_version": "1.5.0",
            "_view_name": "ProgressView",
            "bar_style": "info",
            "description": "",
            "description_tooltip": null,
            "layout": "IPY_MODEL_889feb8a15ea4dc7a16e563f9b5b0c65",
            "max": 1,
            "min": 0,
            "orientation": "horizontal",
            "style": "IPY_MODEL_6b5fe8948a4a4bbab5a0d114726d12c5",
            "value": 1
          }
        },
        "b092dac868534a9c850006cbc9e815ab": {
          "model_module": "@jupyter-widgets/base",
          "model_module_version": "1.2.0",
          "model_name": "LayoutModel",
          "state": {
            "_model_module": "@jupyter-widgets/base",
            "_model_module_version": "1.2.0",
            "_model_name": "LayoutModel",
            "_view_count": null,
            "_view_module": "@jupyter-widgets/base",
            "_view_module_version": "1.2.0",
            "_view_name": "LayoutView",
            "align_content": null,
            "align_items": null,
            "align_self": null,
            "border": null,
            "bottom": null,
            "display": null,
            "flex": null,
            "flex_flow": null,
            "grid_area": null,
            "grid_auto_columns": null,
            "grid_auto_flow": null,
            "grid_auto_rows": null,
            "grid_column": null,
            "grid_gap": null,
            "grid_row": null,
            "grid_template_areas": null,
            "grid_template_columns": null,
            "grid_template_rows": null,
            "height": null,
            "justify_content": null,
            "justify_items": null,
            "left": null,
            "margin": null,
            "max_height": null,
            "max_width": null,
            "min_height": null,
            "min_width": null,
            "object_fit": null,
            "object_position": null,
            "order": null,
            "overflow": null,
            "overflow_x": null,
            "overflow_y": null,
            "padding": null,
            "right": null,
            "top": null,
            "visibility": null,
            "width": "20px"
          }
        },
        "b2cefd78da444437bd74fb3866cc6ac7": {
          "model_module": "@jupyter-widgets/controls",
          "model_module_version": "1.5.0",
          "model_name": "ProgressStyleModel",
          "state": {
            "_model_module": "@jupyter-widgets/controls",
            "_model_module_version": "1.5.0",
            "_model_name": "ProgressStyleModel",
            "_view_count": null,
            "_view_module": "@jupyter-widgets/base",
            "_view_module_version": "1.2.0",
            "_view_name": "StyleView",
            "bar_color": null,
            "description_width": ""
          }
        },
        "b453586629314d099eec9517215c84e1": {
          "model_module": "@jupyter-widgets/controls",
          "model_module_version": "1.5.0",
          "model_name": "HBoxModel",
          "state": {
            "_dom_classes": [],
            "_model_module": "@jupyter-widgets/controls",
            "_model_module_version": "1.5.0",
            "_model_name": "HBoxModel",
            "_view_count": null,
            "_view_module": "@jupyter-widgets/controls",
            "_view_module_version": "1.5.0",
            "_view_name": "HBoxView",
            "box_style": "",
            "children": [
              "IPY_MODEL_40ac312a5bb3405f8e5f6d5283c1f9fd",
              "IPY_MODEL_4d0d390fed324572a7c8250779e95df2",
              "IPY_MODEL_853f8545d18d4a1ca492d543c8a1bcf9"
            ],
            "layout": "IPY_MODEL_28c63c745946450e8bd0a7123e10b2cd"
          }
        },
        "b67804da9d234be7a12a5621cd3c402d": {
          "model_module": "@jupyter-widgets/controls",
          "model_module_version": "1.5.0",
          "model_name": "HTMLModel",
          "state": {
            "_dom_classes": [],
            "_model_module": "@jupyter-widgets/controls",
            "_model_module_version": "1.5.0",
            "_model_name": "HTMLModel",
            "_view_count": null,
            "_view_module": "@jupyter-widgets/controls",
            "_view_module_version": "1.5.0",
            "_view_name": "HTMLView",
            "description": "",
            "description_tooltip": null,
            "layout": "IPY_MODEL_22dad8c9faaf433cae9da3a5eb40fd10",
            "placeholder": "​",
            "style": "IPY_MODEL_44b78e4918fa4573960dfb09046ee374",
            "value": ""
          }
        },
        "b940b5763ae74870a99cf26ac0f277d1": {
          "model_module": "@jupyter-widgets/base",
          "model_module_version": "1.2.0",
          "model_name": "LayoutModel",
          "state": {
            "_model_module": "@jupyter-widgets/base",
            "_model_module_version": "1.2.0",
            "_model_name": "LayoutModel",
            "_view_count": null,
            "_view_module": "@jupyter-widgets/base",
            "_view_module_version": "1.2.0",
            "_view_name": "LayoutView",
            "align_content": null,
            "align_items": null,
            "align_self": null,
            "border": null,
            "bottom": null,
            "display": null,
            "flex": null,
            "flex_flow": null,
            "grid_area": null,
            "grid_auto_columns": null,
            "grid_auto_flow": null,
            "grid_auto_rows": null,
            "grid_column": null,
            "grid_gap": null,
            "grid_row": null,
            "grid_template_areas": null,
            "grid_template_columns": null,
            "grid_template_rows": null,
            "height": null,
            "justify_content": null,
            "justify_items": null,
            "left": null,
            "margin": null,
            "max_height": null,
            "max_width": null,
            "min_height": null,
            "min_width": null,
            "object_fit": null,
            "object_position": null,
            "order": null,
            "overflow": null,
            "overflow_x": null,
            "overflow_y": null,
            "padding": null,
            "right": null,
            "top": null,
            "visibility": null,
            "width": null
          }
        },
        "b972613404e348e09b329c7ca4de95bc": {
          "model_module": "@jupyter-widgets/base",
          "model_module_version": "1.2.0",
          "model_name": "LayoutModel",
          "state": {
            "_model_module": "@jupyter-widgets/base",
            "_model_module_version": "1.2.0",
            "_model_name": "LayoutModel",
            "_view_count": null,
            "_view_module": "@jupyter-widgets/base",
            "_view_module_version": "1.2.0",
            "_view_name": "LayoutView",
            "align_content": null,
            "align_items": null,
            "align_self": null,
            "border": null,
            "bottom": null,
            "display": null,
            "flex": null,
            "flex_flow": null,
            "grid_area": null,
            "grid_auto_columns": null,
            "grid_auto_flow": null,
            "grid_auto_rows": null,
            "grid_column": null,
            "grid_gap": null,
            "grid_row": null,
            "grid_template_areas": null,
            "grid_template_columns": null,
            "grid_template_rows": null,
            "height": null,
            "justify_content": null,
            "justify_items": null,
            "left": null,
            "margin": null,
            "max_height": null,
            "max_width": null,
            "min_height": null,
            "min_width": null,
            "object_fit": null,
            "object_position": null,
            "order": null,
            "overflow": null,
            "overflow_x": null,
            "overflow_y": null,
            "padding": null,
            "right": null,
            "top": null,
            "visibility": null,
            "width": null
          }
        },
        "ba12fb1bdca2423ca6df6c6ad302ebd8": {
          "model_module": "@jupyter-widgets/controls",
          "model_module_version": "1.5.0",
          "model_name": "DescriptionStyleModel",
          "state": {
            "_model_module": "@jupyter-widgets/controls",
            "_model_module_version": "1.5.0",
            "_model_name": "DescriptionStyleModel",
            "_view_count": null,
            "_view_module": "@jupyter-widgets/base",
            "_view_module_version": "1.2.0",
            "_view_name": "StyleView",
            "description_width": ""
          }
        },
        "ba5eb8d383b646b99c1a06c5e49350fa": {
          "model_module": "@jupyter-widgets/base",
          "model_module_version": "1.2.0",
          "model_name": "LayoutModel",
          "state": {
            "_model_module": "@jupyter-widgets/base",
            "_model_module_version": "1.2.0",
            "_model_name": "LayoutModel",
            "_view_count": null,
            "_view_module": "@jupyter-widgets/base",
            "_view_module_version": "1.2.0",
            "_view_name": "LayoutView",
            "align_content": null,
            "align_items": null,
            "align_self": null,
            "border": null,
            "bottom": null,
            "display": null,
            "flex": null,
            "flex_flow": null,
            "grid_area": null,
            "grid_auto_columns": null,
            "grid_auto_flow": null,
            "grid_auto_rows": null,
            "grid_column": null,
            "grid_gap": null,
            "grid_row": null,
            "grid_template_areas": null,
            "grid_template_columns": null,
            "grid_template_rows": null,
            "height": null,
            "justify_content": null,
            "justify_items": null,
            "left": null,
            "margin": null,
            "max_height": null,
            "max_width": null,
            "min_height": null,
            "min_width": null,
            "object_fit": null,
            "object_position": null,
            "order": null,
            "overflow": null,
            "overflow_x": null,
            "overflow_y": null,
            "padding": null,
            "right": null,
            "top": null,
            "visibility": null,
            "width": null
          }
        },
        "bc0901c272b14c7390b9d0de3189bb50": {
          "model_module": "@jupyter-widgets/controls",
          "model_module_version": "1.5.0",
          "model_name": "DescriptionStyleModel",
          "state": {
            "_model_module": "@jupyter-widgets/controls",
            "_model_module_version": "1.5.0",
            "_model_name": "DescriptionStyleModel",
            "_view_count": null,
            "_view_module": "@jupyter-widgets/base",
            "_view_module_version": "1.2.0",
            "_view_name": "StyleView",
            "description_width": ""
          }
        },
        "bd4348623e4749e5b3b044cb1028bc7f": {
          "model_module": "@jupyter-widgets/controls",
          "model_module_version": "1.5.0",
          "model_name": "DescriptionStyleModel",
          "state": {
            "_model_module": "@jupyter-widgets/controls",
            "_model_module_version": "1.5.0",
            "_model_name": "DescriptionStyleModel",
            "_view_count": null,
            "_view_module": "@jupyter-widgets/base",
            "_view_module_version": "1.2.0",
            "_view_name": "StyleView",
            "description_width": ""
          }
        },
        "c59667753b9448aca9092b7a302cad9a": {
          "model_module": "@jupyter-widgets/base",
          "model_module_version": "1.2.0",
          "model_name": "LayoutModel",
          "state": {
            "_model_module": "@jupyter-widgets/base",
            "_model_module_version": "1.2.0",
            "_model_name": "LayoutModel",
            "_view_count": null,
            "_view_module": "@jupyter-widgets/base",
            "_view_module_version": "1.2.0",
            "_view_name": "LayoutView",
            "align_content": null,
            "align_items": null,
            "align_self": null,
            "border": null,
            "bottom": null,
            "display": null,
            "flex": null,
            "flex_flow": null,
            "grid_area": null,
            "grid_auto_columns": null,
            "grid_auto_flow": null,
            "grid_auto_rows": null,
            "grid_column": null,
            "grid_gap": null,
            "grid_row": null,
            "grid_template_areas": null,
            "grid_template_columns": null,
            "grid_template_rows": null,
            "height": null,
            "justify_content": null,
            "justify_items": null,
            "left": null,
            "margin": null,
            "max_height": null,
            "max_width": null,
            "min_height": null,
            "min_width": null,
            "object_fit": null,
            "object_position": null,
            "order": null,
            "overflow": null,
            "overflow_x": null,
            "overflow_y": null,
            "padding": null,
            "right": null,
            "top": null,
            "visibility": null,
            "width": null
          }
        },
        "c718060974e142538d452eb1c2097cda": {
          "model_module": "@jupyter-widgets/controls",
          "model_module_version": "1.5.0",
          "model_name": "HTMLModel",
          "state": {
            "_dom_classes": [],
            "_model_module": "@jupyter-widgets/controls",
            "_model_module_version": "1.5.0",
            "_model_name": "HTMLModel",
            "_view_count": null,
            "_view_module": "@jupyter-widgets/controls",
            "_view_module_version": "1.5.0",
            "_view_name": "HTMLView",
            "description": "",
            "description_tooltip": null,
            "layout": "IPY_MODEL_111fdf0c0cf549e6b3b652984e02bec8",
            "placeholder": "​",
            "style": "IPY_MODEL_724f7bc198cc4d9593b700063da105a8",
            "value": "Downloading: 100%"
          }
        },
        "c9cd03e36eeb40c5a4cc684bebb390c5": {
          "model_module": "@jupyter-widgets/controls",
          "model_module_version": "1.5.0",
          "model_name": "HTMLModel",
          "state": {
            "_dom_classes": [],
            "_model_module": "@jupyter-widgets/controls",
            "_model_module_version": "1.5.0",
            "_model_name": "HTMLModel",
            "_view_count": null,
            "_view_module": "@jupyter-widgets/controls",
            "_view_module_version": "1.5.0",
            "_view_name": "HTMLView",
            "description": "",
            "description_tooltip": null,
            "layout": "IPY_MODEL_a0b6fa624808461a96b08e3820b431ec",
            "placeholder": "​",
            "style": "IPY_MODEL_8cd2411526494f3f9f541b8f2a10cf55",
            "value": " 1/1 [00:00&lt;00:00, 12.96ba/s]"
          }
        },
        "cab4f0b78a284ce0983cdd783664ae1e": {
          "model_module": "@jupyter-widgets/base",
          "model_module_version": "1.2.0",
          "model_name": "LayoutModel",
          "state": {
            "_model_module": "@jupyter-widgets/base",
            "_model_module_version": "1.2.0",
            "_model_name": "LayoutModel",
            "_view_count": null,
            "_view_module": "@jupyter-widgets/base",
            "_view_module_version": "1.2.0",
            "_view_name": "LayoutView",
            "align_content": null,
            "align_items": null,
            "align_self": null,
            "border": null,
            "bottom": null,
            "display": null,
            "flex": null,
            "flex_flow": null,
            "grid_area": null,
            "grid_auto_columns": null,
            "grid_auto_flow": null,
            "grid_auto_rows": null,
            "grid_column": null,
            "grid_gap": null,
            "grid_row": null,
            "grid_template_areas": null,
            "grid_template_columns": null,
            "grid_template_rows": null,
            "height": null,
            "justify_content": null,
            "justify_items": null,
            "left": null,
            "margin": null,
            "max_height": null,
            "max_width": null,
            "min_height": null,
            "min_width": null,
            "object_fit": null,
            "object_position": null,
            "order": null,
            "overflow": null,
            "overflow_x": null,
            "overflow_y": null,
            "padding": null,
            "right": null,
            "top": null,
            "visibility": null,
            "width": null
          }
        },
        "cc246523b154491898947b17a57085f3": {
          "model_module": "@jupyter-widgets/base",
          "model_module_version": "1.2.0",
          "model_name": "LayoutModel",
          "state": {
            "_model_module": "@jupyter-widgets/base",
            "_model_module_version": "1.2.0",
            "_model_name": "LayoutModel",
            "_view_count": null,
            "_view_module": "@jupyter-widgets/base",
            "_view_module_version": "1.2.0",
            "_view_name": "LayoutView",
            "align_content": null,
            "align_items": null,
            "align_self": null,
            "border": null,
            "bottom": null,
            "display": null,
            "flex": null,
            "flex_flow": null,
            "grid_area": null,
            "grid_auto_columns": null,
            "grid_auto_flow": null,
            "grid_auto_rows": null,
            "grid_column": null,
            "grid_gap": null,
            "grid_row": null,
            "grid_template_areas": null,
            "grid_template_columns": null,
            "grid_template_rows": null,
            "height": null,
            "justify_content": null,
            "justify_items": null,
            "left": null,
            "margin": null,
            "max_height": null,
            "max_width": null,
            "min_height": null,
            "min_width": null,
            "object_fit": null,
            "object_position": null,
            "order": null,
            "overflow": null,
            "overflow_x": null,
            "overflow_y": null,
            "padding": null,
            "right": null,
            "top": null,
            "visibility": null,
            "width": null
          }
        },
        "d34f96746fd64cfc89ffd906079e6dcf": {
          "model_module": "@jupyter-widgets/controls",
          "model_module_version": "1.5.0",
          "model_name": "DescriptionStyleModel",
          "state": {
            "_model_module": "@jupyter-widgets/controls",
            "_model_module_version": "1.5.0",
            "_model_name": "DescriptionStyleModel",
            "_view_count": null,
            "_view_module": "@jupyter-widgets/base",
            "_view_module_version": "1.2.0",
            "_view_name": "StyleView",
            "description_width": ""
          }
        },
        "d510039fd67d479890e9be52c5d8dedd": {
          "model_module": "@jupyter-widgets/controls",
          "model_module_version": "1.5.0",
          "model_name": "ProgressStyleModel",
          "state": {
            "_model_module": "@jupyter-widgets/controls",
            "_model_module_version": "1.5.0",
            "_model_name": "ProgressStyleModel",
            "_view_count": null,
            "_view_module": "@jupyter-widgets/base",
            "_view_module_version": "1.2.0",
            "_view_name": "StyleView",
            "bar_color": null,
            "description_width": ""
          }
        },
        "d57ddb4fc5b5476181493975723b866b": {
          "model_module": "@jupyter-widgets/controls",
          "model_module_version": "1.5.0",
          "model_name": "FloatProgressModel",
          "state": {
            "_dom_classes": [],
            "_model_module": "@jupyter-widgets/controls",
            "_model_module_version": "1.5.0",
            "_model_name": "FloatProgressModel",
            "_view_count": null,
            "_view_module": "@jupyter-widgets/controls",
            "_view_module_version": "1.5.0",
            "_view_name": "ProgressView",
            "bar_style": "success",
            "description": "",
            "description_tooltip": null,
            "layout": "IPY_MODEL_f1742daf630d4c3f86ed8fdb635e1e21",
            "max": 10657,
            "min": 0,
            "orientation": "horizontal",
            "style": "IPY_MODEL_2d3128f96bbe486f8dbc2c35edc38691",
            "value": 10657
          }
        },
        "d734818bea624e10a325e01f958eb66e": {
          "model_module": "@jupyter-widgets/controls",
          "model_module_version": "1.5.0",
          "model_name": "DescriptionStyleModel",
          "state": {
            "_model_module": "@jupyter-widgets/controls",
            "_model_module_version": "1.5.0",
            "_model_name": "DescriptionStyleModel",
            "_view_count": null,
            "_view_module": "@jupyter-widgets/base",
            "_view_module_version": "1.2.0",
            "_view_name": "StyleView",
            "description_width": ""
          }
        },
        "d802f35423044b3d9c5829878f7fbe47": {
          "model_module": "@jupyter-widgets/controls",
          "model_module_version": "1.5.0",
          "model_name": "HTMLModel",
          "state": {
            "_dom_classes": [],
            "_model_module": "@jupyter-widgets/controls",
            "_model_module_version": "1.5.0",
            "_model_name": "HTMLModel",
            "_view_count": null,
            "_view_module": "@jupyter-widgets/controls",
            "_view_module_version": "1.5.0",
            "_view_name": "HTMLView",
            "description": "",
            "description_tooltip": null,
            "layout": "IPY_MODEL_12261ccd938b4f09b2b6338b63ae4b2c",
            "placeholder": "​",
            "style": "IPY_MODEL_2a733bb00b7846f093e58cb7a1588547",
            "value": " 1246/0 [00:02&lt;00:00, 380.88 examples/s]"
          }
        },
        "d8a59e8c2103418a8f93d7db15787587": {
          "model_module": "@jupyter-widgets/controls",
          "model_module_version": "1.5.0",
          "model_name": "HBoxModel",
          "state": {
            "_dom_classes": [],
            "_model_module": "@jupyter-widgets/controls",
            "_model_module_version": "1.5.0",
            "_model_name": "HBoxModel",
            "_view_count": null,
            "_view_module": "@jupyter-widgets/controls",
            "_view_module_version": "1.5.0",
            "_view_name": "HBoxView",
            "box_style": "",
            "children": [
              "IPY_MODEL_8d5f30e5d545406f897ce24d5410fe4a",
              "IPY_MODEL_88d1d270daa5477b83590405d0421ea1",
              "IPY_MODEL_9477a0a20ecf4d49bfa9b0671e06f33b"
            ],
            "layout": "IPY_MODEL_3f26d60e600648dc91f5f265503c3faf"
          }
        },
        "d9f58e0663b848bb8b21c733de0d8feb": {
          "model_module": "@jupyter-widgets/controls",
          "model_module_version": "1.5.0",
          "model_name": "DescriptionStyleModel",
          "state": {
            "_model_module": "@jupyter-widgets/controls",
            "_model_module_version": "1.5.0",
            "_model_name": "DescriptionStyleModel",
            "_view_count": null,
            "_view_module": "@jupyter-widgets/base",
            "_view_module_version": "1.2.0",
            "_view_name": "StyleView",
            "description_width": ""
          }
        },
        "db9eff2e7b644468acc559ab29b1a83d": {
          "model_module": "@jupyter-widgets/controls",
          "model_module_version": "1.5.0",
          "model_name": "DescriptionStyleModel",
          "state": {
            "_model_module": "@jupyter-widgets/controls",
            "_model_module_version": "1.5.0",
            "_model_name": "DescriptionStyleModel",
            "_view_count": null,
            "_view_module": "@jupyter-widgets/base",
            "_view_module_version": "1.2.0",
            "_view_name": "StyleView",
            "description_width": ""
          }
        },
        "dc2f972448f5448cbe9c430cbe241c51": {
          "model_module": "@jupyter-widgets/base",
          "model_module_version": "1.2.0",
          "model_name": "LayoutModel",
          "state": {
            "_model_module": "@jupyter-widgets/base",
            "_model_module_version": "1.2.0",
            "_model_name": "LayoutModel",
            "_view_count": null,
            "_view_module": "@jupyter-widgets/base",
            "_view_module_version": "1.2.0",
            "_view_name": "LayoutView",
            "align_content": null,
            "align_items": null,
            "align_self": null,
            "border": null,
            "bottom": null,
            "display": null,
            "flex": null,
            "flex_flow": null,
            "grid_area": null,
            "grid_auto_columns": null,
            "grid_auto_flow": null,
            "grid_auto_rows": null,
            "grid_column": null,
            "grid_gap": null,
            "grid_row": null,
            "grid_template_areas": null,
            "grid_template_columns": null,
            "grid_template_rows": null,
            "height": null,
            "justify_content": null,
            "justify_items": null,
            "left": null,
            "margin": null,
            "max_height": null,
            "max_width": null,
            "min_height": null,
            "min_width": null,
            "object_fit": null,
            "object_position": null,
            "order": null,
            "overflow": null,
            "overflow_x": null,
            "overflow_y": null,
            "padding": null,
            "right": null,
            "top": null,
            "visibility": null,
            "width": null
          }
        },
        "e12ce6aaa4f7419c904b82c3636a3139": {
          "model_module": "@jupyter-widgets/base",
          "model_module_version": "1.2.0",
          "model_name": "LayoutModel",
          "state": {
            "_model_module": "@jupyter-widgets/base",
            "_model_module_version": "1.2.0",
            "_model_name": "LayoutModel",
            "_view_count": null,
            "_view_module": "@jupyter-widgets/base",
            "_view_module_version": "1.2.0",
            "_view_name": "LayoutView",
            "align_content": null,
            "align_items": null,
            "align_self": null,
            "border": null,
            "bottom": null,
            "display": null,
            "flex": null,
            "flex_flow": null,
            "grid_area": null,
            "grid_auto_columns": null,
            "grid_auto_flow": null,
            "grid_auto_rows": null,
            "grid_column": null,
            "grid_gap": null,
            "grid_row": null,
            "grid_template_areas": null,
            "grid_template_columns": null,
            "grid_template_rows": null,
            "height": null,
            "justify_content": null,
            "justify_items": null,
            "left": null,
            "margin": null,
            "max_height": null,
            "max_width": null,
            "min_height": null,
            "min_width": null,
            "object_fit": null,
            "object_position": null,
            "order": null,
            "overflow": null,
            "overflow_x": null,
            "overflow_y": null,
            "padding": null,
            "right": null,
            "top": null,
            "visibility": null,
            "width": "20px"
          }
        },
        "e180750ad1974247b030547c5d7d4bbf": {
          "model_module": "@jupyter-widgets/controls",
          "model_module_version": "1.5.0",
          "model_name": "ProgressStyleModel",
          "state": {
            "_model_module": "@jupyter-widgets/controls",
            "_model_module_version": "1.5.0",
            "_model_name": "ProgressStyleModel",
            "_view_count": null,
            "_view_module": "@jupyter-widgets/base",
            "_view_module_version": "1.2.0",
            "_view_name": "StyleView",
            "bar_color": null,
            "description_width": ""
          }
        },
        "e29244fe35f64b648c71bf79c5ea2ebb": {
          "model_module": "@jupyter-widgets/controls",
          "model_module_version": "1.5.0",
          "model_name": "ProgressStyleModel",
          "state": {
            "_model_module": "@jupyter-widgets/controls",
            "_model_module_version": "1.5.0",
            "_model_name": "ProgressStyleModel",
            "_view_count": null,
            "_view_module": "@jupyter-widgets/base",
            "_view_module_version": "1.2.0",
            "_view_name": "StyleView",
            "bar_color": null,
            "description_width": ""
          }
        },
        "e38ac7968158480fa64b99fec98465f3": {
          "model_module": "@jupyter-widgets/controls",
          "model_module_version": "1.5.0",
          "model_name": "FloatProgressModel",
          "state": {
            "_dom_classes": [],
            "_model_module": "@jupyter-widgets/controls",
            "_model_module_version": "1.5.0",
            "_model_name": "FloatProgressModel",
            "_view_count": null,
            "_view_module": "@jupyter-widgets/controls",
            "_view_module_version": "1.5.0",
            "_view_name": "ProgressView",
            "bar_style": "success",
            "description": "",
            "description_tooltip": null,
            "layout": "IPY_MODEL_0dcb256ac9c440829b842bb7ccd1d57b",
            "max": 1,
            "min": 0,
            "orientation": "horizontal",
            "style": "IPY_MODEL_60f8d5b295ca42bf99f6389a1916bbed",
            "value": 1
          }
        },
        "e6bf32454ec64a5a9b1b0e63e9e43378": {
          "model_module": "@jupyter-widgets/base",
          "model_module_version": "1.2.0",
          "model_name": "LayoutModel",
          "state": {
            "_model_module": "@jupyter-widgets/base",
            "_model_module_version": "1.2.0",
            "_model_name": "LayoutModel",
            "_view_count": null,
            "_view_module": "@jupyter-widgets/base",
            "_view_module_version": "1.2.0",
            "_view_name": "LayoutView",
            "align_content": null,
            "align_items": null,
            "align_self": null,
            "border": null,
            "bottom": null,
            "display": null,
            "flex": null,
            "flex_flow": null,
            "grid_area": null,
            "grid_auto_columns": null,
            "grid_auto_flow": null,
            "grid_auto_rows": null,
            "grid_column": null,
            "grid_gap": null,
            "grid_row": null,
            "grid_template_areas": null,
            "grid_template_columns": null,
            "grid_template_rows": null,
            "height": null,
            "justify_content": null,
            "justify_items": null,
            "left": null,
            "margin": null,
            "max_height": null,
            "max_width": null,
            "min_height": null,
            "min_width": null,
            "object_fit": null,
            "object_position": null,
            "order": null,
            "overflow": null,
            "overflow_x": null,
            "overflow_y": null,
            "padding": null,
            "right": null,
            "top": null,
            "visibility": null,
            "width": null
          }
        },
        "e84999ac32e84b23b223644d055026d2": {
          "model_module": "@jupyter-widgets/controls",
          "model_module_version": "1.5.0",
          "model_name": "DescriptionStyleModel",
          "state": {
            "_model_module": "@jupyter-widgets/controls",
            "_model_module_version": "1.5.0",
            "_model_name": "DescriptionStyleModel",
            "_view_count": null,
            "_view_module": "@jupyter-widgets/base",
            "_view_module_version": "1.2.0",
            "_view_name": "StyleView",
            "description_width": ""
          }
        },
        "e8a80a5459bd46aeacc8c06e781651d0": {
          "model_module": "@jupyter-widgets/base",
          "model_module_version": "1.2.0",
          "model_name": "LayoutModel",
          "state": {
            "_model_module": "@jupyter-widgets/base",
            "_model_module_version": "1.2.0",
            "_model_name": "LayoutModel",
            "_view_count": null,
            "_view_module": "@jupyter-widgets/base",
            "_view_module_version": "1.2.0",
            "_view_name": "LayoutView",
            "align_content": null,
            "align_items": null,
            "align_self": null,
            "border": null,
            "bottom": null,
            "display": null,
            "flex": null,
            "flex_flow": null,
            "grid_area": null,
            "grid_auto_columns": null,
            "grid_auto_flow": null,
            "grid_auto_rows": null,
            "grid_column": null,
            "grid_gap": null,
            "grid_row": null,
            "grid_template_areas": null,
            "grid_template_columns": null,
            "grid_template_rows": null,
            "height": null,
            "justify_content": null,
            "justify_items": null,
            "left": null,
            "margin": null,
            "max_height": null,
            "max_width": null,
            "min_height": null,
            "min_width": null,
            "object_fit": null,
            "object_position": null,
            "order": null,
            "overflow": null,
            "overflow_x": null,
            "overflow_y": null,
            "padding": null,
            "right": null,
            "top": null,
            "visibility": null,
            "width": null
          }
        },
        "e9f4e478052b4e2aaabe3cb7c3f150cf": {
          "model_module": "@jupyter-widgets/base",
          "model_module_version": "1.2.0",
          "model_name": "LayoutModel",
          "state": {
            "_model_module": "@jupyter-widgets/base",
            "_model_module_version": "1.2.0",
            "_model_name": "LayoutModel",
            "_view_count": null,
            "_view_module": "@jupyter-widgets/base",
            "_view_module_version": "1.2.0",
            "_view_name": "LayoutView",
            "align_content": null,
            "align_items": null,
            "align_self": null,
            "border": null,
            "bottom": null,
            "display": null,
            "flex": null,
            "flex_flow": null,
            "grid_area": null,
            "grid_auto_columns": null,
            "grid_auto_flow": null,
            "grid_auto_rows": null,
            "grid_column": null,
            "grid_gap": null,
            "grid_row": null,
            "grid_template_areas": null,
            "grid_template_columns": null,
            "grid_template_rows": null,
            "height": null,
            "justify_content": null,
            "justify_items": null,
            "left": null,
            "margin": null,
            "max_height": null,
            "max_width": null,
            "min_height": null,
            "min_width": null,
            "object_fit": null,
            "object_position": null,
            "order": null,
            "overflow": null,
            "overflow_x": null,
            "overflow_y": null,
            "padding": null,
            "right": null,
            "top": null,
            "visibility": null,
            "width": null
          }
        },
        "ef1d4ac06073414d8c4de04222cdecef": {
          "model_module": "@jupyter-widgets/base",
          "model_module_version": "1.2.0",
          "model_name": "LayoutModel",
          "state": {
            "_model_module": "@jupyter-widgets/base",
            "_model_module_version": "1.2.0",
            "_model_name": "LayoutModel",
            "_view_count": null,
            "_view_module": "@jupyter-widgets/base",
            "_view_module_version": "1.2.0",
            "_view_name": "LayoutView",
            "align_content": null,
            "align_items": null,
            "align_self": null,
            "border": null,
            "bottom": null,
            "display": null,
            "flex": null,
            "flex_flow": null,
            "grid_area": null,
            "grid_auto_columns": null,
            "grid_auto_flow": null,
            "grid_auto_rows": null,
            "grid_column": null,
            "grid_gap": null,
            "grid_row": null,
            "grid_template_areas": null,
            "grid_template_columns": null,
            "grid_template_rows": null,
            "height": null,
            "justify_content": null,
            "justify_items": null,
            "left": null,
            "margin": null,
            "max_height": null,
            "max_width": null,
            "min_height": null,
            "min_width": null,
            "object_fit": null,
            "object_position": null,
            "order": null,
            "overflow": null,
            "overflow_x": null,
            "overflow_y": null,
            "padding": null,
            "right": null,
            "top": null,
            "visibility": null,
            "width": "20px"
          }
        },
        "f1742daf630d4c3f86ed8fdb635e1e21": {
          "model_module": "@jupyter-widgets/base",
          "model_module_version": "1.2.0",
          "model_name": "LayoutModel",
          "state": {
            "_model_module": "@jupyter-widgets/base",
            "_model_module_version": "1.2.0",
            "_model_name": "LayoutModel",
            "_view_count": null,
            "_view_module": "@jupyter-widgets/base",
            "_view_module_version": "1.2.0",
            "_view_name": "LayoutView",
            "align_content": null,
            "align_items": null,
            "align_self": null,
            "border": null,
            "bottom": null,
            "display": null,
            "flex": null,
            "flex_flow": null,
            "grid_area": null,
            "grid_auto_columns": null,
            "grid_auto_flow": null,
            "grid_auto_rows": null,
            "grid_column": null,
            "grid_gap": null,
            "grid_row": null,
            "grid_template_areas": null,
            "grid_template_columns": null,
            "grid_template_rows": null,
            "height": null,
            "justify_content": null,
            "justify_items": null,
            "left": null,
            "margin": null,
            "max_height": null,
            "max_width": null,
            "min_height": null,
            "min_width": null,
            "object_fit": null,
            "object_position": null,
            "order": null,
            "overflow": null,
            "overflow_x": null,
            "overflow_y": null,
            "padding": null,
            "right": null,
            "top": null,
            "visibility": null,
            "width": null
          }
        },
        "f33ae33076d941f19e911491b31dbdd4": {
          "model_module": "@jupyter-widgets/base",
          "model_module_version": "1.2.0",
          "model_name": "LayoutModel",
          "state": {
            "_model_module": "@jupyter-widgets/base",
            "_model_module_version": "1.2.0",
            "_model_name": "LayoutModel",
            "_view_count": null,
            "_view_module": "@jupyter-widgets/base",
            "_view_module_version": "1.2.0",
            "_view_name": "LayoutView",
            "align_content": null,
            "align_items": null,
            "align_self": null,
            "border": null,
            "bottom": null,
            "display": null,
            "flex": null,
            "flex_flow": null,
            "grid_area": null,
            "grid_auto_columns": null,
            "grid_auto_flow": null,
            "grid_auto_rows": null,
            "grid_column": null,
            "grid_gap": null,
            "grid_row": null,
            "grid_template_areas": null,
            "grid_template_columns": null,
            "grid_template_rows": null,
            "height": null,
            "justify_content": null,
            "justify_items": null,
            "left": null,
            "margin": null,
            "max_height": null,
            "max_width": null,
            "min_height": null,
            "min_width": null,
            "object_fit": null,
            "object_position": null,
            "order": null,
            "overflow": null,
            "overflow_x": null,
            "overflow_y": null,
            "padding": null,
            "right": null,
            "top": null,
            "visibility": null,
            "width": null
          }
        },
        "f62dddfdd1064177af40be217c8bfa44": {
          "model_module": "@jupyter-widgets/controls",
          "model_module_version": "1.5.0",
          "model_name": "FloatProgressModel",
          "state": {
            "_dom_classes": [],
            "_model_module": "@jupyter-widgets/controls",
            "_model_module_version": "1.5.0",
            "_model_name": "FloatProgressModel",
            "_view_count": null,
            "_view_module": "@jupyter-widgets/controls",
            "_view_module_version": "1.5.0",
            "_view_name": "ProgressView",
            "bar_style": "info",
            "description": "",
            "description_tooltip": null,
            "layout": "IPY_MODEL_8e3c5d00c5a84835b8888ad627b3b6cd",
            "max": 1,
            "min": 0,
            "orientation": "horizontal",
            "style": "IPY_MODEL_e180750ad1974247b030547c5d7d4bbf",
            "value": 1
          }
        },
        "f6c324871ccc415fb13c7f321c46251c": {
          "model_module": "@jupyter-widgets/controls",
          "model_module_version": "1.5.0",
          "model_name": "FloatProgressModel",
          "state": {
            "_dom_classes": [],
            "_model_module": "@jupyter-widgets/controls",
            "_model_module_version": "1.5.0",
            "_model_name": "FloatProgressModel",
            "_view_count": null,
            "_view_module": "@jupyter-widgets/controls",
            "_view_module_version": "1.5.0",
            "_view_name": "ProgressView",
            "bar_style": "info",
            "description": "",
            "description_tooltip": null,
            "layout": "IPY_MODEL_e12ce6aaa4f7419c904b82c3636a3139",
            "max": 1,
            "min": 0,
            "orientation": "horizontal",
            "style": "IPY_MODEL_d510039fd67d479890e9be52c5d8dedd",
            "value": 1
          }
        },
        "f6cdaf06bc9b4a6e9a7dd5b21d4bf6b8": {
          "model_module": "@jupyter-widgets/base",
          "model_module_version": "1.2.0",
          "model_name": "LayoutModel",
          "state": {
            "_model_module": "@jupyter-widgets/base",
            "_model_module_version": "1.2.0",
            "_model_name": "LayoutModel",
            "_view_count": null,
            "_view_module": "@jupyter-widgets/base",
            "_view_module_version": "1.2.0",
            "_view_name": "LayoutView",
            "align_content": null,
            "align_items": null,
            "align_self": null,
            "border": null,
            "bottom": null,
            "display": null,
            "flex": null,
            "flex_flow": null,
            "grid_area": null,
            "grid_auto_columns": null,
            "grid_auto_flow": null,
            "grid_auto_rows": null,
            "grid_column": null,
            "grid_gap": null,
            "grid_row": null,
            "grid_template_areas": null,
            "grid_template_columns": null,
            "grid_template_rows": null,
            "height": null,
            "justify_content": null,
            "justify_items": null,
            "left": null,
            "margin": null,
            "max_height": null,
            "max_width": null,
            "min_height": null,
            "min_width": null,
            "object_fit": null,
            "object_position": null,
            "order": null,
            "overflow": null,
            "overflow_x": null,
            "overflow_y": null,
            "padding": null,
            "right": null,
            "top": null,
            "visibility": null,
            "width": "20px"
          }
        },
        "f87bd6fabbb74425ba65dac9d06164f2": {
          "model_module": "@jupyter-widgets/controls",
          "model_module_version": "1.5.0",
          "model_name": "DescriptionStyleModel",
          "state": {
            "_model_module": "@jupyter-widgets/controls",
            "_model_module_version": "1.5.0",
            "_model_name": "DescriptionStyleModel",
            "_view_count": null,
            "_view_module": "@jupyter-widgets/base",
            "_view_module_version": "1.2.0",
            "_view_name": "StyleView",
            "description_width": ""
          }
        },
        "f8c3a832b69346188c9b66c943042ea1": {
          "model_module": "@jupyter-widgets/controls",
          "model_module_version": "1.5.0",
          "model_name": "HTMLModel",
          "state": {
            "_dom_classes": [],
            "_model_module": "@jupyter-widgets/controls",
            "_model_module_version": "1.5.0",
            "_model_name": "HTMLModel",
            "_view_count": null,
            "_view_module": "@jupyter-widgets/controls",
            "_view_module_version": "1.5.0",
            "_view_name": "HTMLView",
            "description": "",
            "description_tooltip": null,
            "layout": "IPY_MODEL_0dce6143fb424b5a82819f811bfe9bd4",
            "placeholder": "​",
            "style": "IPY_MODEL_f87bd6fabbb74425ba65dac9d06164f2",
            "value": " 794/0 [00:02&lt;00:00, 264.77 examples/s]"
          }
        },
        "fd29fd21925d4295ab419d85aca353f3": {
          "model_module": "@jupyter-widgets/controls",
          "model_module_version": "1.5.0",
          "model_name": "HTMLModel",
          "state": {
            "_dom_classes": [],
            "_model_module": "@jupyter-widgets/controls",
            "_model_module_version": "1.5.0",
            "_model_name": "HTMLModel",
            "_view_count": null,
            "_view_module": "@jupyter-widgets/controls",
            "_view_module_version": "1.5.0",
            "_view_name": "HTMLView",
            "description": "",
            "description_tooltip": null,
            "layout": "IPY_MODEL_218490891f02470381f206d402592230",
            "placeholder": "​",
            "style": "IPY_MODEL_bd4348623e4749e5b3b044cb1028bc7f",
            "value": " 439M/439M [00:28&lt;00:00, 17.2MB/s]"
          }
        },
        "fd48a8f47b4f40e39c69a3fe39c9b1ad": {
          "model_module": "@jupyter-widgets/base",
          "model_module_version": "1.2.0",
          "model_name": "LayoutModel",
          "state": {
            "_model_module": "@jupyter-widgets/base",
            "_model_module_version": "1.2.0",
            "_model_name": "LayoutModel",
            "_view_count": null,
            "_view_module": "@jupyter-widgets/base",
            "_view_module_version": "1.2.0",
            "_view_name": "LayoutView",
            "align_content": null,
            "align_items": null,
            "align_self": null,
            "border": null,
            "bottom": null,
            "display": null,
            "flex": null,
            "flex_flow": null,
            "grid_area": null,
            "grid_auto_columns": null,
            "grid_auto_flow": null,
            "grid_auto_rows": null,
            "grid_column": null,
            "grid_gap": null,
            "grid_row": null,
            "grid_template_areas": null,
            "grid_template_columns": null,
            "grid_template_rows": null,
            "height": null,
            "justify_content": null,
            "justify_items": null,
            "left": null,
            "margin": null,
            "max_height": null,
            "max_width": null,
            "min_height": null,
            "min_width": null,
            "object_fit": null,
            "object_position": null,
            "order": null,
            "overflow": null,
            "overflow_x": null,
            "overflow_y": null,
            "padding": null,
            "right": null,
            "top": null,
            "visibility": null,
            "width": "20px"
          }
        },
        "ff3dcdd3aac04f53a121fea5146dc32b": {
          "model_module": "@jupyter-widgets/base",
          "model_module_version": "1.2.0",
          "model_name": "LayoutModel",
          "state": {
            "_model_module": "@jupyter-widgets/base",
            "_model_module_version": "1.2.0",
            "_model_name": "LayoutModel",
            "_view_count": null,
            "_view_module": "@jupyter-widgets/base",
            "_view_module_version": "1.2.0",
            "_view_name": "LayoutView",
            "align_content": null,
            "align_items": null,
            "align_self": null,
            "border": null,
            "bottom": null,
            "display": null,
            "flex": null,
            "flex_flow": null,
            "grid_area": null,
            "grid_auto_columns": null,
            "grid_auto_flow": null,
            "grid_auto_rows": null,
            "grid_column": null,
            "grid_gap": null,
            "grid_row": null,
            "grid_template_areas": null,
            "grid_template_columns": null,
            "grid_template_rows": null,
            "height": null,
            "justify_content": null,
            "justify_items": null,
            "left": null,
            "margin": null,
            "max_height": null,
            "max_width": null,
            "min_height": null,
            "min_width": null,
            "object_fit": null,
            "object_position": null,
            "order": null,
            "overflow": null,
            "overflow_x": null,
            "overflow_y": null,
            "padding": null,
            "right": null,
            "top": null,
            "visibility": null,
            "width": null
          }
        },
        "373208d794d44e68b1e10f9275b95d48": {
          "model_module": "@jupyter-widgets/controls",
          "model_name": "VBoxModel",
          "model_module_version": "1.5.0",
          "state": {
            "_dom_classes": [],
            "_model_module": "@jupyter-widgets/controls",
            "_model_module_version": "1.5.0",
            "_model_name": "VBoxModel",
            "_view_count": null,
            "_view_module": "@jupyter-widgets/controls",
            "_view_module_version": "1.5.0",
            "_view_name": "VBoxView",
            "box_style": "",
            "children": [
              "IPY_MODEL_75f3164de9304e078bf78bd956958fe9",
              "IPY_MODEL_2adcac6424054442b4bbd8f76fbb5b99",
              "IPY_MODEL_2a40a12dd5b6408aaea5180a24d45f4b"
            ],
            "layout": "IPY_MODEL_a0fc90f2c96c401ca952f185a6f191d2"
          }
        },
        "75f3164de9304e078bf78bd956958fe9": {
          "model_module": "@jupyter-widgets/controls",
          "model_name": "HTMLModel",
          "model_module_version": "1.5.0",
          "state": {
            "_dom_classes": [],
            "_model_module": "@jupyter-widgets/controls",
            "_model_module_version": "1.5.0",
            "_model_name": "HTMLModel",
            "_view_count": null,
            "_view_module": "@jupyter-widgets/controls",
            "_view_module_version": "1.5.0",
            "_view_name": "HTMLView",
            "description": "",
            "description_tooltip": null,
            "layout": "IPY_MODEL_93855b126981421298b03f3d6ad6e885",
            "placeholder": "​",
            "style": "IPY_MODEL_29e4a05a23d5457b90d04f0c10d4dbb4",
            "value": "<center>\n<img src=https://huggingface.co/front/assets/huggingface_logo-noborder.svg alt='Hugging Face'>\n<br>\n<b>The AI community building the future</b>\n<br>\nImmediately click login after typing your password or it might be stored in plain text in this notebook file.\n</center>"
          }
        },
        "2adcac6424054442b4bbd8f76fbb5b99": {
          "model_module": "@jupyter-widgets/controls",
          "model_name": "HBoxModel",
          "model_module_version": "1.5.0",
          "state": {
            "_dom_classes": [],
            "_model_module": "@jupyter-widgets/controls",
            "_model_module_version": "1.5.0",
            "_model_name": "HBoxModel",
            "_view_count": null,
            "_view_module": "@jupyter-widgets/controls",
            "_view_module_version": "1.5.0",
            "_view_name": "HBoxView",
            "box_style": "",
            "children": [
              "IPY_MODEL_11c3b88328d245e199dde0ebe0a40e47",
              "IPY_MODEL_d5b6b43bceae4fb08ab925f7cd4828df"
            ],
            "layout": "IPY_MODEL_5b437369e0184d168b2ffd0171bf7bf9"
          }
        },
        "2a40a12dd5b6408aaea5180a24d45f4b": {
          "model_module": "@jupyter-widgets/controls",
          "model_name": "ButtonModel",
          "model_module_version": "1.5.0",
          "state": {
            "_dom_classes": [],
            "_model_module": "@jupyter-widgets/controls",
            "_model_module_version": "1.5.0",
            "_model_name": "ButtonModel",
            "_view_count": null,
            "_view_module": "@jupyter-widgets/controls",
            "_view_module_version": "1.5.0",
            "_view_name": "ButtonView",
            "button_style": "",
            "description": "Login",
            "disabled": false,
            "icon": "",
            "layout": "IPY_MODEL_515f351315394611bdba6d4f5d492b81",
            "style": "IPY_MODEL_5108591f60714d5c92af59582b3dbee2",
            "tooltip": ""
          }
        },
        "a0fc90f2c96c401ca952f185a6f191d2": {
          "model_module": "@jupyter-widgets/base",
          "model_name": "LayoutModel",
          "model_module_version": "1.2.0",
          "state": {
            "_model_module": "@jupyter-widgets/base",
            "_model_module_version": "1.2.0",
            "_model_name": "LayoutModel",
            "_view_count": null,
            "_view_module": "@jupyter-widgets/base",
            "_view_module_version": "1.2.0",
            "_view_name": "LayoutView",
            "align_content": null,
            "align_items": "center",
            "align_self": null,
            "border": null,
            "bottom": null,
            "display": "flex",
            "flex": null,
            "flex_flow": "column",
            "grid_area": null,
            "grid_auto_columns": null,
            "grid_auto_flow": null,
            "grid_auto_rows": null,
            "grid_column": null,
            "grid_gap": null,
            "grid_row": null,
            "grid_template_areas": null,
            "grid_template_columns": null,
            "grid_template_rows": null,
            "height": null,
            "justify_content": null,
            "justify_items": null,
            "left": null,
            "margin": null,
            "max_height": null,
            "max_width": null,
            "min_height": null,
            "min_width": null,
            "object_fit": null,
            "object_position": null,
            "order": null,
            "overflow": null,
            "overflow_x": null,
            "overflow_y": null,
            "padding": null,
            "right": null,
            "top": null,
            "visibility": null,
            "width": "50%"
          }
        },
        "93855b126981421298b03f3d6ad6e885": {
          "model_module": "@jupyter-widgets/base",
          "model_name": "LayoutModel",
          "model_module_version": "1.2.0",
          "state": {
            "_model_module": "@jupyter-widgets/base",
            "_model_module_version": "1.2.0",
            "_model_name": "LayoutModel",
            "_view_count": null,
            "_view_module": "@jupyter-widgets/base",
            "_view_module_version": "1.2.0",
            "_view_name": "LayoutView",
            "align_content": null,
            "align_items": null,
            "align_self": null,
            "border": null,
            "bottom": null,
            "display": null,
            "flex": null,
            "flex_flow": null,
            "grid_area": null,
            "grid_auto_columns": null,
            "grid_auto_flow": null,
            "grid_auto_rows": null,
            "grid_column": null,
            "grid_gap": null,
            "grid_row": null,
            "grid_template_areas": null,
            "grid_template_columns": null,
            "grid_template_rows": null,
            "height": null,
            "justify_content": null,
            "justify_items": null,
            "left": null,
            "margin": null,
            "max_height": null,
            "max_width": null,
            "min_height": null,
            "min_width": null,
            "object_fit": null,
            "object_position": null,
            "order": null,
            "overflow": null,
            "overflow_x": null,
            "overflow_y": null,
            "padding": null,
            "right": null,
            "top": null,
            "visibility": null,
            "width": null
          }
        },
        "29e4a05a23d5457b90d04f0c10d4dbb4": {
          "model_module": "@jupyter-widgets/controls",
          "model_name": "DescriptionStyleModel",
          "model_module_version": "1.5.0",
          "state": {
            "_model_module": "@jupyter-widgets/controls",
            "_model_module_version": "1.5.0",
            "_model_name": "DescriptionStyleModel",
            "_view_count": null,
            "_view_module": "@jupyter-widgets/base",
            "_view_module_version": "1.2.0",
            "_view_name": "StyleView",
            "description_width": ""
          }
        },
        "11c3b88328d245e199dde0ebe0a40e47": {
          "model_module": "@jupyter-widgets/controls",
          "model_name": "TextModel",
          "model_module_version": "1.5.0",
          "state": {
            "_dom_classes": [],
            "_model_module": "@jupyter-widgets/controls",
            "_model_module_version": "1.5.0",
            "_model_name": "TextModel",
            "_view_count": null,
            "_view_module": "@jupyter-widgets/controls",
            "_view_module_version": "1.5.0",
            "_view_name": "TextView",
            "continuous_update": true,
            "description": "Username:",
            "description_tooltip": null,
            "disabled": false,
            "layout": "IPY_MODEL_daca98da308d4fe1a4dc9d53086888ec",
            "placeholder": "​",
            "style": "IPY_MODEL_3b9a8f2a0d8f444dba03cb0e26db6836",
            "value": ""
          }
        },
        "d5b6b43bceae4fb08ab925f7cd4828df": {
          "model_module": "@jupyter-widgets/controls",
          "model_name": "PasswordModel",
          "model_module_version": "1.5.0",
          "state": {
            "_dom_classes": [],
            "_model_module": "@jupyter-widgets/controls",
            "_model_module_version": "1.5.0",
            "_model_name": "PasswordModel",
            "_view_count": null,
            "_view_module": "@jupyter-widgets/controls",
            "_view_module_version": "1.5.0",
            "_view_name": "PasswordView",
            "continuous_update": true,
            "description": "Password:",
            "description_tooltip": null,
            "disabled": false,
            "layout": "IPY_MODEL_0519817c1c1c4059b9ec3e2347ab69ca",
            "placeholder": "​",
            "style": "IPY_MODEL_b655fad71d244b85aad4c5196e05c002",
            "value": ""
          }
        },
        "5b437369e0184d168b2ffd0171bf7bf9": {
          "model_module": "@jupyter-widgets/base",
          "model_name": "LayoutModel",
          "model_module_version": "1.2.0",
          "state": {
            "_model_module": "@jupyter-widgets/base",
            "_model_module_version": "1.2.0",
            "_model_name": "LayoutModel",
            "_view_count": null,
            "_view_module": "@jupyter-widgets/base",
            "_view_module_version": "1.2.0",
            "_view_name": "LayoutView",
            "align_content": null,
            "align_items": null,
            "align_self": null,
            "border": null,
            "bottom": null,
            "display": null,
            "flex": null,
            "flex_flow": null,
            "grid_area": null,
            "grid_auto_columns": null,
            "grid_auto_flow": null,
            "grid_auto_rows": null,
            "grid_column": null,
            "grid_gap": null,
            "grid_row": null,
            "grid_template_areas": null,
            "grid_template_columns": null,
            "grid_template_rows": null,
            "height": null,
            "justify_content": null,
            "justify_items": null,
            "left": null,
            "margin": null,
            "max_height": null,
            "max_width": null,
            "min_height": null,
            "min_width": null,
            "object_fit": null,
            "object_position": null,
            "order": null,
            "overflow": null,
            "overflow_x": null,
            "overflow_y": null,
            "padding": null,
            "right": null,
            "top": null,
            "visibility": null,
            "width": null
          }
        },
        "515f351315394611bdba6d4f5d492b81": {
          "model_module": "@jupyter-widgets/base",
          "model_name": "LayoutModel",
          "model_module_version": "1.2.0",
          "state": {
            "_model_module": "@jupyter-widgets/base",
            "_model_module_version": "1.2.0",
            "_model_name": "LayoutModel",
            "_view_count": null,
            "_view_module": "@jupyter-widgets/base",
            "_view_module_version": "1.2.0",
            "_view_name": "LayoutView",
            "align_content": null,
            "align_items": null,
            "align_self": null,
            "border": null,
            "bottom": null,
            "display": null,
            "flex": null,
            "flex_flow": null,
            "grid_area": null,
            "grid_auto_columns": null,
            "grid_auto_flow": null,
            "grid_auto_rows": null,
            "grid_column": null,
            "grid_gap": null,
            "grid_row": null,
            "grid_template_areas": null,
            "grid_template_columns": null,
            "grid_template_rows": null,
            "height": null,
            "justify_content": null,
            "justify_items": null,
            "left": null,
            "margin": null,
            "max_height": null,
            "max_width": null,
            "min_height": null,
            "min_width": null,
            "object_fit": null,
            "object_position": null,
            "order": null,
            "overflow": null,
            "overflow_x": null,
            "overflow_y": null,
            "padding": null,
            "right": null,
            "top": null,
            "visibility": null,
            "width": null
          }
        },
        "5108591f60714d5c92af59582b3dbee2": {
          "model_module": "@jupyter-widgets/controls",
          "model_name": "ButtonStyleModel",
          "model_module_version": "1.5.0",
          "state": {
            "_model_module": "@jupyter-widgets/controls",
            "_model_module_version": "1.5.0",
            "_model_name": "ButtonStyleModel",
            "_view_count": null,
            "_view_module": "@jupyter-widgets/base",
            "_view_module_version": "1.2.0",
            "_view_name": "StyleView",
            "button_color": null,
            "font_weight": ""
          }
        },
        "daca98da308d4fe1a4dc9d53086888ec": {
          "model_module": "@jupyter-widgets/base",
          "model_name": "LayoutModel",
          "model_module_version": "1.2.0",
          "state": {
            "_model_module": "@jupyter-widgets/base",
            "_model_module_version": "1.2.0",
            "_model_name": "LayoutModel",
            "_view_count": null,
            "_view_module": "@jupyter-widgets/base",
            "_view_module_version": "1.2.0",
            "_view_name": "LayoutView",
            "align_content": null,
            "align_items": null,
            "align_self": null,
            "border": null,
            "bottom": null,
            "display": null,
            "flex": null,
            "flex_flow": null,
            "grid_area": null,
            "grid_auto_columns": null,
            "grid_auto_flow": null,
            "grid_auto_rows": null,
            "grid_column": null,
            "grid_gap": null,
            "grid_row": null,
            "grid_template_areas": null,
            "grid_template_columns": null,
            "grid_template_rows": null,
            "height": null,
            "justify_content": null,
            "justify_items": null,
            "left": null,
            "margin": null,
            "max_height": null,
            "max_width": null,
            "min_height": null,
            "min_width": null,
            "object_fit": null,
            "object_position": null,
            "order": null,
            "overflow": null,
            "overflow_x": null,
            "overflow_y": null,
            "padding": null,
            "right": null,
            "top": null,
            "visibility": null,
            "width": null
          }
        },
        "3b9a8f2a0d8f444dba03cb0e26db6836": {
          "model_module": "@jupyter-widgets/controls",
          "model_name": "DescriptionStyleModel",
          "model_module_version": "1.5.0",
          "state": {
            "_model_module": "@jupyter-widgets/controls",
            "_model_module_version": "1.5.0",
            "_model_name": "DescriptionStyleModel",
            "_view_count": null,
            "_view_module": "@jupyter-widgets/base",
            "_view_module_version": "1.2.0",
            "_view_name": "StyleView",
            "description_width": ""
          }
        },
        "0519817c1c1c4059b9ec3e2347ab69ca": {
          "model_module": "@jupyter-widgets/base",
          "model_name": "LayoutModel",
          "model_module_version": "1.2.0",
          "state": {
            "_model_module": "@jupyter-widgets/base",
            "_model_module_version": "1.2.0",
            "_model_name": "LayoutModel",
            "_view_count": null,
            "_view_module": "@jupyter-widgets/base",
            "_view_module_version": "1.2.0",
            "_view_name": "LayoutView",
            "align_content": null,
            "align_items": null,
            "align_self": null,
            "border": null,
            "bottom": null,
            "display": null,
            "flex": null,
            "flex_flow": null,
            "grid_area": null,
            "grid_auto_columns": null,
            "grid_auto_flow": null,
            "grid_auto_rows": null,
            "grid_column": null,
            "grid_gap": null,
            "grid_row": null,
            "grid_template_areas": null,
            "grid_template_columns": null,
            "grid_template_rows": null,
            "height": null,
            "justify_content": null,
            "justify_items": null,
            "left": null,
            "margin": null,
            "max_height": null,
            "max_width": null,
            "min_height": null,
            "min_width": null,
            "object_fit": null,
            "object_position": null,
            "order": null,
            "overflow": null,
            "overflow_x": null,
            "overflow_y": null,
            "padding": null,
            "right": null,
            "top": null,
            "visibility": null,
            "width": null
          }
        },
        "b655fad71d244b85aad4c5196e05c002": {
          "model_module": "@jupyter-widgets/controls",
          "model_name": "DescriptionStyleModel",
          "model_module_version": "1.5.0",
          "state": {
            "_model_module": "@jupyter-widgets/controls",
            "_model_module_version": "1.5.0",
            "_model_name": "DescriptionStyleModel",
            "_view_count": null,
            "_view_module": "@jupyter-widgets/base",
            "_view_module_version": "1.2.0",
            "_view_name": "StyleView",
            "description_width": ""
          }
        },
        "c421b6943f084dfcbb6b507238f694b4": {
          "model_module": "@jupyter-widgets/controls",
          "model_name": "HBoxModel",
          "model_module_version": "1.5.0",
          "state": {
            "_dom_classes": [],
            "_model_module": "@jupyter-widgets/controls",
            "_model_module_version": "1.5.0",
            "_model_name": "HBoxModel",
            "_view_count": null,
            "_view_module": "@jupyter-widgets/controls",
            "_view_module_version": "1.5.0",
            "_view_name": "HBoxView",
            "box_style": "",
            "children": [
              "IPY_MODEL_2a8f4bb2558c4818b20b5f6fb5dac0a7",
              "IPY_MODEL_f46f9a726ca0426c86b2faccdc7c36c7",
              "IPY_MODEL_2c08952383a041ee8b67d6880f1d9b06"
            ],
            "layout": "IPY_MODEL_8b271f28daa548629baed3f9f5cf47ad"
          }
        },
        "2a8f4bb2558c4818b20b5f6fb5dac0a7": {
          "model_module": "@jupyter-widgets/controls",
          "model_name": "HTMLModel",
          "model_module_version": "1.5.0",
          "state": {
            "_dom_classes": [],
            "_model_module": "@jupyter-widgets/controls",
            "_model_module_version": "1.5.0",
            "_model_name": "HTMLModel",
            "_view_count": null,
            "_view_module": "@jupyter-widgets/controls",
            "_view_module_version": "1.5.0",
            "_view_name": "HTMLView",
            "description": "",
            "description_tooltip": null,
            "layout": "IPY_MODEL_33fa2c6ef5964188a4f2651e160d7c56",
            "placeholder": "​",
            "style": "IPY_MODEL_21a7115cb1894164b1158835cfa5fb3b",
            "value": ""
          }
        },
        "f46f9a726ca0426c86b2faccdc7c36c7": {
          "model_module": "@jupyter-widgets/controls",
          "model_name": "FloatProgressModel",
          "model_module_version": "1.5.0",
          "state": {
            "_dom_classes": [],
            "_model_module": "@jupyter-widgets/controls",
            "_model_module_version": "1.5.0",
            "_model_name": "FloatProgressModel",
            "_view_count": null,
            "_view_module": "@jupyter-widgets/controls",
            "_view_module_version": "1.5.0",
            "_view_name": "ProgressView",
            "bar_style": "success",
            "description": "",
            "description_tooltip": null,
            "layout": "IPY_MODEL_15f5cb9caf37475189128adc983c5634",
            "max": 1,
            "min": 0,
            "orientation": "horizontal",
            "style": "IPY_MODEL_01f7332b285d49a1853e6f5df84bea67",
            "value": 1
          }
        },
        "2c08952383a041ee8b67d6880f1d9b06": {
          "model_module": "@jupyter-widgets/controls",
          "model_name": "HTMLModel",
          "model_module_version": "1.5.0",
          "state": {
            "_dom_classes": [],
            "_model_module": "@jupyter-widgets/controls",
            "_model_module_version": "1.5.0",
            "_model_name": "HTMLModel",
            "_view_count": null,
            "_view_module": "@jupyter-widgets/controls",
            "_view_module_version": "1.5.0",
            "_view_name": "HTMLView",
            "description": "",
            "description_tooltip": null,
            "layout": "IPY_MODEL_48b473a0ff0444148abaecb9693f7321",
            "placeholder": "​",
            "style": "IPY_MODEL_0388d4062ae9406c97df861701fb5cea",
            "value": " 1749/? [00:17&lt;00:00, 97.77ex/s]"
          }
        },
        "8b271f28daa548629baed3f9f5cf47ad": {
          "model_module": "@jupyter-widgets/base",
          "model_name": "LayoutModel",
          "model_module_version": "1.2.0",
          "state": {
            "_model_module": "@jupyter-widgets/base",
            "_model_module_version": "1.2.0",
            "_model_name": "LayoutModel",
            "_view_count": null,
            "_view_module": "@jupyter-widgets/base",
            "_view_module_version": "1.2.0",
            "_view_name": "LayoutView",
            "align_content": null,
            "align_items": null,
            "align_self": null,
            "border": null,
            "bottom": null,
            "display": null,
            "flex": null,
            "flex_flow": null,
            "grid_area": null,
            "grid_auto_columns": null,
            "grid_auto_flow": null,
            "grid_auto_rows": null,
            "grid_column": null,
            "grid_gap": null,
            "grid_row": null,
            "grid_template_areas": null,
            "grid_template_columns": null,
            "grid_template_rows": null,
            "height": null,
            "justify_content": null,
            "justify_items": null,
            "left": null,
            "margin": null,
            "max_height": null,
            "max_width": null,
            "min_height": null,
            "min_width": null,
            "object_fit": null,
            "object_position": null,
            "order": null,
            "overflow": null,
            "overflow_x": null,
            "overflow_y": null,
            "padding": null,
            "right": null,
            "top": null,
            "visibility": null,
            "width": null
          }
        },
        "33fa2c6ef5964188a4f2651e160d7c56": {
          "model_module": "@jupyter-widgets/base",
          "model_name": "LayoutModel",
          "model_module_version": "1.2.0",
          "state": {
            "_model_module": "@jupyter-widgets/base",
            "_model_module_version": "1.2.0",
            "_model_name": "LayoutModel",
            "_view_count": null,
            "_view_module": "@jupyter-widgets/base",
            "_view_module_version": "1.2.0",
            "_view_name": "LayoutView",
            "align_content": null,
            "align_items": null,
            "align_self": null,
            "border": null,
            "bottom": null,
            "display": null,
            "flex": null,
            "flex_flow": null,
            "grid_area": null,
            "grid_auto_columns": null,
            "grid_auto_flow": null,
            "grid_auto_rows": null,
            "grid_column": null,
            "grid_gap": null,
            "grid_row": null,
            "grid_template_areas": null,
            "grid_template_columns": null,
            "grid_template_rows": null,
            "height": null,
            "justify_content": null,
            "justify_items": null,
            "left": null,
            "margin": null,
            "max_height": null,
            "max_width": null,
            "min_height": null,
            "min_width": null,
            "object_fit": null,
            "object_position": null,
            "order": null,
            "overflow": null,
            "overflow_x": null,
            "overflow_y": null,
            "padding": null,
            "right": null,
            "top": null,
            "visibility": null,
            "width": null
          }
        },
        "21a7115cb1894164b1158835cfa5fb3b": {
          "model_module": "@jupyter-widgets/controls",
          "model_name": "DescriptionStyleModel",
          "model_module_version": "1.5.0",
          "state": {
            "_model_module": "@jupyter-widgets/controls",
            "_model_module_version": "1.5.0",
            "_model_name": "DescriptionStyleModel",
            "_view_count": null,
            "_view_module": "@jupyter-widgets/base",
            "_view_module_version": "1.2.0",
            "_view_name": "StyleView",
            "description_width": ""
          }
        },
        "15f5cb9caf37475189128adc983c5634": {
          "model_module": "@jupyter-widgets/base",
          "model_name": "LayoutModel",
          "model_module_version": "1.2.0",
          "state": {
            "_model_module": "@jupyter-widgets/base",
            "_model_module_version": "1.2.0",
            "_model_name": "LayoutModel",
            "_view_count": null,
            "_view_module": "@jupyter-widgets/base",
            "_view_module_version": "1.2.0",
            "_view_name": "LayoutView",
            "align_content": null,
            "align_items": null,
            "align_self": null,
            "border": null,
            "bottom": null,
            "display": null,
            "flex": null,
            "flex_flow": null,
            "grid_area": null,
            "grid_auto_columns": null,
            "grid_auto_flow": null,
            "grid_auto_rows": null,
            "grid_column": null,
            "grid_gap": null,
            "grid_row": null,
            "grid_template_areas": null,
            "grid_template_columns": null,
            "grid_template_rows": null,
            "height": null,
            "justify_content": null,
            "justify_items": null,
            "left": null,
            "margin": null,
            "max_height": null,
            "max_width": null,
            "min_height": null,
            "min_width": null,
            "object_fit": null,
            "object_position": null,
            "order": null,
            "overflow": null,
            "overflow_x": null,
            "overflow_y": null,
            "padding": null,
            "right": null,
            "top": null,
            "visibility": null,
            "width": "20px"
          }
        },
        "01f7332b285d49a1853e6f5df84bea67": {
          "model_module": "@jupyter-widgets/controls",
          "model_name": "ProgressStyleModel",
          "model_module_version": "1.5.0",
          "state": {
            "_model_module": "@jupyter-widgets/controls",
            "_model_module_version": "1.5.0",
            "_model_name": "ProgressStyleModel",
            "_view_count": null,
            "_view_module": "@jupyter-widgets/base",
            "_view_module_version": "1.2.0",
            "_view_name": "StyleView",
            "bar_color": null,
            "description_width": ""
          }
        },
        "48b473a0ff0444148abaecb9693f7321": {
          "model_module": "@jupyter-widgets/base",
          "model_name": "LayoutModel",
          "model_module_version": "1.2.0",
          "state": {
            "_model_module": "@jupyter-widgets/base",
            "_model_module_version": "1.2.0",
            "_model_name": "LayoutModel",
            "_view_count": null,
            "_view_module": "@jupyter-widgets/base",
            "_view_module_version": "1.2.0",
            "_view_name": "LayoutView",
            "align_content": null,
            "align_items": null,
            "align_self": null,
            "border": null,
            "bottom": null,
            "display": null,
            "flex": null,
            "flex_flow": null,
            "grid_area": null,
            "grid_auto_columns": null,
            "grid_auto_flow": null,
            "grid_auto_rows": null,
            "grid_column": null,
            "grid_gap": null,
            "grid_row": null,
            "grid_template_areas": null,
            "grid_template_columns": null,
            "grid_template_rows": null,
            "height": null,
            "justify_content": null,
            "justify_items": null,
            "left": null,
            "margin": null,
            "max_height": null,
            "max_width": null,
            "min_height": null,
            "min_width": null,
            "object_fit": null,
            "object_position": null,
            "order": null,
            "overflow": null,
            "overflow_x": null,
            "overflow_y": null,
            "padding": null,
            "right": null,
            "top": null,
            "visibility": null,
            "width": null
          }
        },
        "0388d4062ae9406c97df861701fb5cea": {
          "model_module": "@jupyter-widgets/controls",
          "model_name": "DescriptionStyleModel",
          "model_module_version": "1.5.0",
          "state": {
            "_model_module": "@jupyter-widgets/controls",
            "_model_module_version": "1.5.0",
            "_model_name": "DescriptionStyleModel",
            "_view_count": null,
            "_view_module": "@jupyter-widgets/base",
            "_view_module_version": "1.2.0",
            "_view_name": "StyleView",
            "description_width": ""
          }
        },
        "dc8aed0b7b9d42608723165105753f84": {
          "model_module": "@jupyter-widgets/controls",
          "model_name": "HBoxModel",
          "model_module_version": "1.5.0",
          "state": {
            "_dom_classes": [],
            "_model_module": "@jupyter-widgets/controls",
            "_model_module_version": "1.5.0",
            "_model_name": "HBoxModel",
            "_view_count": null,
            "_view_module": "@jupyter-widgets/controls",
            "_view_module_version": "1.5.0",
            "_view_name": "HBoxView",
            "box_style": "",
            "children": [
              "IPY_MODEL_02f3f8693e484bbc9014c5db4158137c",
              "IPY_MODEL_5fa921a5557543d795246e554a0d13e2",
              "IPY_MODEL_2d84f60434c2432b9658dc0aa94faf37"
            ],
            "layout": "IPY_MODEL_9c1c04f7ca184f25acefe328fd2ccee9"
          }
        },
        "02f3f8693e484bbc9014c5db4158137c": {
          "model_module": "@jupyter-widgets/controls",
          "model_name": "HTMLModel",
          "model_module_version": "1.5.0",
          "state": {
            "_dom_classes": [],
            "_model_module": "@jupyter-widgets/controls",
            "_model_module_version": "1.5.0",
            "_model_name": "HTMLModel",
            "_view_count": null,
            "_view_module": "@jupyter-widgets/controls",
            "_view_module_version": "1.5.0",
            "_view_name": "HTMLView",
            "description": "",
            "description_tooltip": null,
            "layout": "IPY_MODEL_c846adc0e6cd4005a629b89cb044dfd6",
            "placeholder": "​",
            "style": "IPY_MODEL_e12ff9cd7fc24775bcd8d98d96c2db57",
            "value": ""
          }
        },
        "5fa921a5557543d795246e554a0d13e2": {
          "model_module": "@jupyter-widgets/controls",
          "model_name": "FloatProgressModel",
          "model_module_version": "1.5.0",
          "state": {
            "_dom_classes": [],
            "_model_module": "@jupyter-widgets/controls",
            "_model_module_version": "1.5.0",
            "_model_name": "FloatProgressModel",
            "_view_count": null,
            "_view_module": "@jupyter-widgets/controls",
            "_view_module_version": "1.5.0",
            "_view_name": "ProgressView",
            "bar_style": "success",
            "description": "",
            "description_tooltip": null,
            "layout": "IPY_MODEL_4c26532b1ef94212a400a4bf849ff374",
            "max": 1,
            "min": 0,
            "orientation": "horizontal",
            "style": "IPY_MODEL_a1a3a6f443df4bada596de66eb98bed1",
            "value": 1
          }
        },
        "2d84f60434c2432b9658dc0aa94faf37": {
          "model_module": "@jupyter-widgets/controls",
          "model_name": "HTMLModel",
          "model_module_version": "1.5.0",
          "state": {
            "_dom_classes": [],
            "_model_module": "@jupyter-widgets/controls",
            "_model_module_version": "1.5.0",
            "_model_name": "HTMLModel",
            "_view_count": null,
            "_view_module": "@jupyter-widgets/controls",
            "_view_module_version": "1.5.0",
            "_view_name": "HTMLView",
            "description": "",
            "description_tooltip": null,
            "layout": "IPY_MODEL_ba9fc14e9eeb4eb384815fbfbe92bb9f",
            "placeholder": "​",
            "style": "IPY_MODEL_010e57109aec47c0a7bd9261039820b2",
            "value": " 788/? [00:09&lt;00:00, 87.94ex/s]"
          }
        },
        "9c1c04f7ca184f25acefe328fd2ccee9": {
          "model_module": "@jupyter-widgets/base",
          "model_name": "LayoutModel",
          "model_module_version": "1.2.0",
          "state": {
            "_model_module": "@jupyter-widgets/base",
            "_model_module_version": "1.2.0",
            "_model_name": "LayoutModel",
            "_view_count": null,
            "_view_module": "@jupyter-widgets/base",
            "_view_module_version": "1.2.0",
            "_view_name": "LayoutView",
            "align_content": null,
            "align_items": null,
            "align_self": null,
            "border": null,
            "bottom": null,
            "display": null,
            "flex": null,
            "flex_flow": null,
            "grid_area": null,
            "grid_auto_columns": null,
            "grid_auto_flow": null,
            "grid_auto_rows": null,
            "grid_column": null,
            "grid_gap": null,
            "grid_row": null,
            "grid_template_areas": null,
            "grid_template_columns": null,
            "grid_template_rows": null,
            "height": null,
            "justify_content": null,
            "justify_items": null,
            "left": null,
            "margin": null,
            "max_height": null,
            "max_width": null,
            "min_height": null,
            "min_width": null,
            "object_fit": null,
            "object_position": null,
            "order": null,
            "overflow": null,
            "overflow_x": null,
            "overflow_y": null,
            "padding": null,
            "right": null,
            "top": null,
            "visibility": null,
            "width": null
          }
        },
        "c846adc0e6cd4005a629b89cb044dfd6": {
          "model_module": "@jupyter-widgets/base",
          "model_name": "LayoutModel",
          "model_module_version": "1.2.0",
          "state": {
            "_model_module": "@jupyter-widgets/base",
            "_model_module_version": "1.2.0",
            "_model_name": "LayoutModel",
            "_view_count": null,
            "_view_module": "@jupyter-widgets/base",
            "_view_module_version": "1.2.0",
            "_view_name": "LayoutView",
            "align_content": null,
            "align_items": null,
            "align_self": null,
            "border": null,
            "bottom": null,
            "display": null,
            "flex": null,
            "flex_flow": null,
            "grid_area": null,
            "grid_auto_columns": null,
            "grid_auto_flow": null,
            "grid_auto_rows": null,
            "grid_column": null,
            "grid_gap": null,
            "grid_row": null,
            "grid_template_areas": null,
            "grid_template_columns": null,
            "grid_template_rows": null,
            "height": null,
            "justify_content": null,
            "justify_items": null,
            "left": null,
            "margin": null,
            "max_height": null,
            "max_width": null,
            "min_height": null,
            "min_width": null,
            "object_fit": null,
            "object_position": null,
            "order": null,
            "overflow": null,
            "overflow_x": null,
            "overflow_y": null,
            "padding": null,
            "right": null,
            "top": null,
            "visibility": null,
            "width": null
          }
        },
        "e12ff9cd7fc24775bcd8d98d96c2db57": {
          "model_module": "@jupyter-widgets/controls",
          "model_name": "DescriptionStyleModel",
          "model_module_version": "1.5.0",
          "state": {
            "_model_module": "@jupyter-widgets/controls",
            "_model_module_version": "1.5.0",
            "_model_name": "DescriptionStyleModel",
            "_view_count": null,
            "_view_module": "@jupyter-widgets/base",
            "_view_module_version": "1.2.0",
            "_view_name": "StyleView",
            "description_width": ""
          }
        },
        "4c26532b1ef94212a400a4bf849ff374": {
          "model_module": "@jupyter-widgets/base",
          "model_name": "LayoutModel",
          "model_module_version": "1.2.0",
          "state": {
            "_model_module": "@jupyter-widgets/base",
            "_model_module_version": "1.2.0",
            "_model_name": "LayoutModel",
            "_view_count": null,
            "_view_module": "@jupyter-widgets/base",
            "_view_module_version": "1.2.0",
            "_view_name": "LayoutView",
            "align_content": null,
            "align_items": null,
            "align_self": null,
            "border": null,
            "bottom": null,
            "display": null,
            "flex": null,
            "flex_flow": null,
            "grid_area": null,
            "grid_auto_columns": null,
            "grid_auto_flow": null,
            "grid_auto_rows": null,
            "grid_column": null,
            "grid_gap": null,
            "grid_row": null,
            "grid_template_areas": null,
            "grid_template_columns": null,
            "grid_template_rows": null,
            "height": null,
            "justify_content": null,
            "justify_items": null,
            "left": null,
            "margin": null,
            "max_height": null,
            "max_width": null,
            "min_height": null,
            "min_width": null,
            "object_fit": null,
            "object_position": null,
            "order": null,
            "overflow": null,
            "overflow_x": null,
            "overflow_y": null,
            "padding": null,
            "right": null,
            "top": null,
            "visibility": null,
            "width": "20px"
          }
        },
        "a1a3a6f443df4bada596de66eb98bed1": {
          "model_module": "@jupyter-widgets/controls",
          "model_name": "ProgressStyleModel",
          "model_module_version": "1.5.0",
          "state": {
            "_model_module": "@jupyter-widgets/controls",
            "_model_module_version": "1.5.0",
            "_model_name": "ProgressStyleModel",
            "_view_count": null,
            "_view_module": "@jupyter-widgets/base",
            "_view_module_version": "1.2.0",
            "_view_name": "StyleView",
            "bar_color": null,
            "description_width": ""
          }
        },
        "ba9fc14e9eeb4eb384815fbfbe92bb9f": {
          "model_module": "@jupyter-widgets/base",
          "model_name": "LayoutModel",
          "model_module_version": "1.2.0",
          "state": {
            "_model_module": "@jupyter-widgets/base",
            "_model_module_version": "1.2.0",
            "_model_name": "LayoutModel",
            "_view_count": null,
            "_view_module": "@jupyter-widgets/base",
            "_view_module_version": "1.2.0",
            "_view_name": "LayoutView",
            "align_content": null,
            "align_items": null,
            "align_self": null,
            "border": null,
            "bottom": null,
            "display": null,
            "flex": null,
            "flex_flow": null,
            "grid_area": null,
            "grid_auto_columns": null,
            "grid_auto_flow": null,
            "grid_auto_rows": null,
            "grid_column": null,
            "grid_gap": null,
            "grid_row": null,
            "grid_template_areas": null,
            "grid_template_columns": null,
            "grid_template_rows": null,
            "height": null,
            "justify_content": null,
            "justify_items": null,
            "left": null,
            "margin": null,
            "max_height": null,
            "max_width": null,
            "min_height": null,
            "min_width": null,
            "object_fit": null,
            "object_position": null,
            "order": null,
            "overflow": null,
            "overflow_x": null,
            "overflow_y": null,
            "padding": null,
            "right": null,
            "top": null,
            "visibility": null,
            "width": null
          }
        },
        "010e57109aec47c0a7bd9261039820b2": {
          "model_module": "@jupyter-widgets/controls",
          "model_name": "DescriptionStyleModel",
          "model_module_version": "1.5.0",
          "state": {
            "_model_module": "@jupyter-widgets/controls",
            "_model_module_version": "1.5.0",
            "_model_name": "DescriptionStyleModel",
            "_view_count": null,
            "_view_module": "@jupyter-widgets/base",
            "_view_module_version": "1.2.0",
            "_view_name": "StyleView",
            "description_width": ""
          }
        },
        "d33802d726d1422aa1276a0810ae9ea3": {
          "model_module": "@jupyter-widgets/controls",
          "model_name": "HBoxModel",
          "model_module_version": "1.5.0",
          "state": {
            "_dom_classes": [],
            "_model_module": "@jupyter-widgets/controls",
            "_model_module_version": "1.5.0",
            "_model_name": "HBoxModel",
            "_view_count": null,
            "_view_module": "@jupyter-widgets/controls",
            "_view_module_version": "1.5.0",
            "_view_name": "HBoxView",
            "box_style": "",
            "children": [
              "IPY_MODEL_899c7abb34934d98b9d4fbf18deeac2c",
              "IPY_MODEL_887cd4c118bf4a9bbcb7ae8108989411",
              "IPY_MODEL_a2707a3f8cca4951aeb1061940ba9e72"
            ],
            "layout": "IPY_MODEL_cf5b53079ca445f59e878147b7961514"
          }
        },
        "899c7abb34934d98b9d4fbf18deeac2c": {
          "model_module": "@jupyter-widgets/controls",
          "model_name": "HTMLModel",
          "model_module_version": "1.5.0",
          "state": {
            "_dom_classes": [],
            "_model_module": "@jupyter-widgets/controls",
            "_model_module_version": "1.5.0",
            "_model_name": "HTMLModel",
            "_view_count": null,
            "_view_module": "@jupyter-widgets/controls",
            "_view_module_version": "1.5.0",
            "_view_name": "HTMLView",
            "description": "",
            "description_tooltip": null,
            "layout": "IPY_MODEL_c7e3525b73a0491287a8fa1c1e7d5c9e",
            "placeholder": "​",
            "style": "IPY_MODEL_af4bf452c62048569ac09781cc6f761b",
            "value": "Downloading: "
          }
        },
        "887cd4c118bf4a9bbcb7ae8108989411": {
          "model_module": "@jupyter-widgets/controls",
          "model_name": "FloatProgressModel",
          "model_module_version": "1.5.0",
          "state": {
            "_dom_classes": [],
            "_model_module": "@jupyter-widgets/controls",
            "_model_module_version": "1.5.0",
            "_model_name": "FloatProgressModel",
            "_view_count": null,
            "_view_module": "@jupyter-widgets/controls",
            "_view_module_version": "1.5.0",
            "_view_name": "ProgressView",
            "bar_style": "success",
            "description": "",
            "description_tooltip": null,
            "layout": "IPY_MODEL_8b9d2daa2acb48feb12f9bd5fd4caecb",
            "max": 1901,
            "min": 0,
            "orientation": "horizontal",
            "style": "IPY_MODEL_a49743635f14497fbab80aefe8fd5bfd",
            "value": 1901
          }
        },
        "a2707a3f8cca4951aeb1061940ba9e72": {
          "model_module": "@jupyter-widgets/controls",
          "model_name": "HTMLModel",
          "model_module_version": "1.5.0",
          "state": {
            "_dom_classes": [],
            "_model_module": "@jupyter-widgets/controls",
            "_model_module_version": "1.5.0",
            "_model_name": "HTMLModel",
            "_view_count": null,
            "_view_module": "@jupyter-widgets/controls",
            "_view_module_version": "1.5.0",
            "_view_name": "HTMLView",
            "description": "",
            "description_tooltip": null,
            "layout": "IPY_MODEL_56da0c570f6c4252aee31dfbc8fd32c9",
            "placeholder": "​",
            "style": "IPY_MODEL_c9fa7715e8124cbabf76d6fcc4ca2d39",
            "value": " 4.48k/? [00:00&lt;00:00, 107kB/s]"
          }
        },
        "cf5b53079ca445f59e878147b7961514": {
          "model_module": "@jupyter-widgets/base",
          "model_name": "LayoutModel",
          "model_module_version": "1.2.0",
          "state": {
            "_model_module": "@jupyter-widgets/base",
            "_model_module_version": "1.2.0",
            "_model_name": "LayoutModel",
            "_view_count": null,
            "_view_module": "@jupyter-widgets/base",
            "_view_module_version": "1.2.0",
            "_view_name": "LayoutView",
            "align_content": null,
            "align_items": null,
            "align_self": null,
            "border": null,
            "bottom": null,
            "display": null,
            "flex": null,
            "flex_flow": null,
            "grid_area": null,
            "grid_auto_columns": null,
            "grid_auto_flow": null,
            "grid_auto_rows": null,
            "grid_column": null,
            "grid_gap": null,
            "grid_row": null,
            "grid_template_areas": null,
            "grid_template_columns": null,
            "grid_template_rows": null,
            "height": null,
            "justify_content": null,
            "justify_items": null,
            "left": null,
            "margin": null,
            "max_height": null,
            "max_width": null,
            "min_height": null,
            "min_width": null,
            "object_fit": null,
            "object_position": null,
            "order": null,
            "overflow": null,
            "overflow_x": null,
            "overflow_y": null,
            "padding": null,
            "right": null,
            "top": null,
            "visibility": null,
            "width": null
          }
        },
        "c7e3525b73a0491287a8fa1c1e7d5c9e": {
          "model_module": "@jupyter-widgets/base",
          "model_name": "LayoutModel",
          "model_module_version": "1.2.0",
          "state": {
            "_model_module": "@jupyter-widgets/base",
            "_model_module_version": "1.2.0",
            "_model_name": "LayoutModel",
            "_view_count": null,
            "_view_module": "@jupyter-widgets/base",
            "_view_module_version": "1.2.0",
            "_view_name": "LayoutView",
            "align_content": null,
            "align_items": null,
            "align_self": null,
            "border": null,
            "bottom": null,
            "display": null,
            "flex": null,
            "flex_flow": null,
            "grid_area": null,
            "grid_auto_columns": null,
            "grid_auto_flow": null,
            "grid_auto_rows": null,
            "grid_column": null,
            "grid_gap": null,
            "grid_row": null,
            "grid_template_areas": null,
            "grid_template_columns": null,
            "grid_template_rows": null,
            "height": null,
            "justify_content": null,
            "justify_items": null,
            "left": null,
            "margin": null,
            "max_height": null,
            "max_width": null,
            "min_height": null,
            "min_width": null,
            "object_fit": null,
            "object_position": null,
            "order": null,
            "overflow": null,
            "overflow_x": null,
            "overflow_y": null,
            "padding": null,
            "right": null,
            "top": null,
            "visibility": null,
            "width": null
          }
        },
        "af4bf452c62048569ac09781cc6f761b": {
          "model_module": "@jupyter-widgets/controls",
          "model_name": "DescriptionStyleModel",
          "model_module_version": "1.5.0",
          "state": {
            "_model_module": "@jupyter-widgets/controls",
            "_model_module_version": "1.5.0",
            "_model_name": "DescriptionStyleModel",
            "_view_count": null,
            "_view_module": "@jupyter-widgets/base",
            "_view_module_version": "1.2.0",
            "_view_name": "StyleView",
            "description_width": ""
          }
        },
        "8b9d2daa2acb48feb12f9bd5fd4caecb": {
          "model_module": "@jupyter-widgets/base",
          "model_name": "LayoutModel",
          "model_module_version": "1.2.0",
          "state": {
            "_model_module": "@jupyter-widgets/base",
            "_model_module_version": "1.2.0",
            "_model_name": "LayoutModel",
            "_view_count": null,
            "_view_module": "@jupyter-widgets/base",
            "_view_module_version": "1.2.0",
            "_view_name": "LayoutView",
            "align_content": null,
            "align_items": null,
            "align_self": null,
            "border": null,
            "bottom": null,
            "display": null,
            "flex": null,
            "flex_flow": null,
            "grid_area": null,
            "grid_auto_columns": null,
            "grid_auto_flow": null,
            "grid_auto_rows": null,
            "grid_column": null,
            "grid_gap": null,
            "grid_row": null,
            "grid_template_areas": null,
            "grid_template_columns": null,
            "grid_template_rows": null,
            "height": null,
            "justify_content": null,
            "justify_items": null,
            "left": null,
            "margin": null,
            "max_height": null,
            "max_width": null,
            "min_height": null,
            "min_width": null,
            "object_fit": null,
            "object_position": null,
            "order": null,
            "overflow": null,
            "overflow_x": null,
            "overflow_y": null,
            "padding": null,
            "right": null,
            "top": null,
            "visibility": null,
            "width": null
          }
        },
        "a49743635f14497fbab80aefe8fd5bfd": {
          "model_module": "@jupyter-widgets/controls",
          "model_name": "ProgressStyleModel",
          "model_module_version": "1.5.0",
          "state": {
            "_model_module": "@jupyter-widgets/controls",
            "_model_module_version": "1.5.0",
            "_model_name": "ProgressStyleModel",
            "_view_count": null,
            "_view_module": "@jupyter-widgets/base",
            "_view_module_version": "1.2.0",
            "_view_name": "StyleView",
            "bar_color": null,
            "description_width": ""
          }
        },
        "56da0c570f6c4252aee31dfbc8fd32c9": {
          "model_module": "@jupyter-widgets/base",
          "model_name": "LayoutModel",
          "model_module_version": "1.2.0",
          "state": {
            "_model_module": "@jupyter-widgets/base",
            "_model_module_version": "1.2.0",
            "_model_name": "LayoutModel",
            "_view_count": null,
            "_view_module": "@jupyter-widgets/base",
            "_view_module_version": "1.2.0",
            "_view_name": "LayoutView",
            "align_content": null,
            "align_items": null,
            "align_self": null,
            "border": null,
            "bottom": null,
            "display": null,
            "flex": null,
            "flex_flow": null,
            "grid_area": null,
            "grid_auto_columns": null,
            "grid_auto_flow": null,
            "grid_auto_rows": null,
            "grid_column": null,
            "grid_gap": null,
            "grid_row": null,
            "grid_template_areas": null,
            "grid_template_columns": null,
            "grid_template_rows": null,
            "height": null,
            "justify_content": null,
            "justify_items": null,
            "left": null,
            "margin": null,
            "max_height": null,
            "max_width": null,
            "min_height": null,
            "min_width": null,
            "object_fit": null,
            "object_position": null,
            "order": null,
            "overflow": null,
            "overflow_x": null,
            "overflow_y": null,
            "padding": null,
            "right": null,
            "top": null,
            "visibility": null,
            "width": null
          }
        },
        "c9fa7715e8124cbabf76d6fcc4ca2d39": {
          "model_module": "@jupyter-widgets/controls",
          "model_name": "DescriptionStyleModel",
          "model_module_version": "1.5.0",
          "state": {
            "_model_module": "@jupyter-widgets/controls",
            "_model_module_version": "1.5.0",
            "_model_name": "DescriptionStyleModel",
            "_view_count": null,
            "_view_module": "@jupyter-widgets/base",
            "_view_module_version": "1.2.0",
            "_view_name": "StyleView",
            "description_width": ""
          }
        }
      }
    }
  },
  "nbformat": 4,
  "nbformat_minor": 0
}